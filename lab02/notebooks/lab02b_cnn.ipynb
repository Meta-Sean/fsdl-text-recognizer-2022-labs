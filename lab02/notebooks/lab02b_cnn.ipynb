{
 "cells": [
  {
   "cell_type": "markdown",
   "metadata": {
    "id": "FlH0lCOttCs5"
   },
   "source": [
    "<img src=\"https://fsdl.me/logo-720-dark-horizontal\">"
   ]
  },
  {
   "cell_type": "markdown",
   "metadata": {
    "id": "ZUPRHaeetRnT"
   },
   "source": [
    "# Lab 02b: Training a CNN on Synthetic Handwriting Data"
   ]
  },
  {
   "cell_type": "markdown",
   "metadata": {
    "id": "bry3Hr-PcgDs"
   },
   "source": [
    "### What You Will Learn\n",
    "\n",
    "- Fundamental principles for building neural networks with convolutional components\n",
    "- How to use Lightning's training framework via a CLI"
   ]
  },
  {
   "cell_type": "markdown",
   "metadata": {
    "id": "vs0LXXlCU6Ix"
   },
   "source": [
    "## Setup"
   ]
  },
  {
   "cell_type": "markdown",
   "metadata": {
    "id": "ZkQiK7lkgeXm"
   },
   "source": [
    "If you're running this notebook on Google Colab,\n",
    "the cell below will run full environment setup.\n",
    "\n",
    "It should take about three minutes to run."
   ]
  },
  {
   "cell_type": "code",
   "execution_count": 1,
   "metadata": {
    "id": "sVx7C7H0PIZC"
   },
   "outputs": [
    {
     "name": "stdout",
     "output_type": "stream",
     "text": [
      "env: PYTHONPATH=.:\n",
      ".:\n",
      "/home/terps/.git/fsdl-text-recognizer-2022-labs/lab02\n",
      "\u001b[0m\u001b[01;34mlightning_logs\u001b[0m/  \u001b[01;34mnotebooks\u001b[0m/  \u001b[01;34mtext_recognizer\u001b[0m/  \u001b[01;34mtraining\u001b[0m/\n"
     ]
    }
   ],
   "source": [
    "lab_idx = 2\n",
    "\n",
    "if \"bootstrap\" not in locals() or bootstrap.run:\n",
    "    # path management for Python\n",
    "    pythonpath, = !echo $PYTHONPATH\n",
    "    if \".\" not in pythonpath.split(\":\"):\n",
    "        pythonpath = \".:\" + pythonpath\n",
    "        %env PYTHONPATH={pythonpath}\n",
    "        !echo $PYTHONPATH\n",
    "\n",
    "    # get both Colab and local notebooks into the same state\n",
    "    !wget --quiet https://fsdl.me/gist-bootstrap -O bootstrap.py\n",
    "    import bootstrap\n",
    "\n",
    "    # change into the lab directory\n",
    "    bootstrap.change_to_lab_dir(lab_idx=lab_idx)\n",
    "\n",
    "    # allow \"hot-reloading\" of modules\n",
    "    %load_ext autoreload\n",
    "    %autoreload 2\n",
    "    # needed for inline plots in some contexts\n",
    "    %matplotlib inline\n",
    "\n",
    "    bootstrap.run = False  # change to True re-run setup\n",
    "    \n",
    "!pwd\n",
    "%ls"
   ]
  },
  {
   "cell_type": "markdown",
   "metadata": {
    "id": "XZN4bGgsgWc_"
   },
   "source": [
    "# Why convolutions?"
   ]
  },
  {
   "cell_type": "markdown",
   "metadata": {
    "id": "T9HoYWZKtTE_"
   },
   "source": [
    "The most basic neural networks,\n",
    "multi-layer perceptrons,\n",
    "are built by alternating\n",
    "parameterized linear transformations\n",
    "with non-linear transformations.\n",
    "\n",
    "This combination is capable of expressing\n",
    "[functions of arbitrary complexity](http://neuralnetworksanddeeplearning.com/chap4.html),\n",
    "so long as those functions\n",
    "take in fixed-size arrays and return fixed-size arrays.\n",
    "\n",
    "```python\n",
    "def any_function_you_can_imagine(x: torch.Tensor[\"A\"]) -> torch.Tensor[\"B\"]:\n",
    "    return some_mlp_that_might_be_impractically_huge(x)\n",
    "```\n",
    "\n",
    "But not all functions have that type signature.\n",
    "\n",
    "For example, we might want to identify the content of images\n",
    "that have different sizes.\n",
    "Without gross hacks,\n",
    "an MLP won't be able to solve this problem,\n",
    "even though it seems simple enough."
   ]
  },
  {
   "cell_type": "code",
   "execution_count": 2,
   "metadata": {
    "id": "6LjfV3o6tTFA"
   },
   "outputs": [
    {
     "data": {
      "text/html": [
       "<img src=\"https://fsdl-public-assets.s3.us-west-2.amazonaws.com/emnist/U.png\" width=\"214\" height=\"214\"/>"
      ],
      "text/plain": [
       "<IPython.core.display.Image object>"
      ]
     },
     "execution_count": 2,
     "metadata": {},
     "output_type": "execute_result"
    }
   ],
   "source": [
    "import random\n",
    "\n",
    "import IPython.display as display\n",
    "\n",
    "randsize = 10 ** (random.random() * 2 + 1)\n",
    "\n",
    "Url = \"https://fsdl-public-assets.s3.us-west-2.amazonaws.com/emnist/U.png\"\n",
    "\n",
    "# run multiple times to display the same image at different sizes\n",
    "#  the content of the image remains unambiguous\n",
    "display.Image(url=Url, width=randsize, height=randsize)"
   ]
  },
  {
   "cell_type": "markdown",
   "metadata": {
    "id": "c9j6YQRftTFB"
   },
   "source": [
    "Even worse, MLPs are too general to be efficient.\n",
    "\n",
    "Each layer applies an unstructured matrix to its inputs.\n",
    "But most of the data we might want to apply them to is highly structured,\n",
    "and taking advantage of that structure can make our models more efficient.\n",
    "\n",
    "It may seem appealing to use an unstructured model:\n",
    "it can in principle learn any function.\n",
    "But\n",
    "[most functions are monstrous outrages against common sense](https://en.wikipedia.org/wiki/Weierstrass_function#Density_of_nowhere-differentiable_functions).\n",
    "It is useful to encode some of our assumptions\n",
    "about the kinds of functions we might want to learn\n",
    "from our data into our model's architecture."
   ]
  },
  {
   "cell_type": "markdown",
   "metadata": {
    "id": "jvC_yZvmuwgJ"
   },
   "source": [
    "## Convolutions are the local, translation-equivariant linear transforms."
   ]
  },
  {
   "cell_type": "markdown",
   "metadata": {
    "id": "PhnRx_BZtTFC"
   },
   "source": [
    "One of the most common types of structure in data is \"locality\" --\n",
    "the most relevant information for understanding or predicting a pixel\n",
    "is a small number of pixels around it.\n",
    "\n",
    "Locality is a fundamental feature of the physical world,\n",
    "so it shows up in data drawn from physical observations,\n",
    "like photographs and audio recordings.\n",
    "\n",
    "Locality means most meaningful linear transformations of our input\n",
    "only have large weights in a small number of entries that are close to one another,\n",
    "rather than having equally large weights in all entries."
   ]
  },
  {
   "cell_type": "code",
   "execution_count": 3,
   "metadata": {
    "id": "SSnkzV2_tTFC"
   },
   "outputs": [
    {
     "name": "stdout",
     "output_type": "stream",
     "text": [
      "generic:\n",
      "tensor([[-0.4302],\n",
      "        [-0.1708],\n",
      "        [ 0.7460],\n",
      "        [-0.9540],\n",
      "        [-0.5965],\n",
      "        [-0.3007],\n",
      "        [-0.8526],\n",
      "        [ 1.0817]])\n",
      "local:\n",
      "tensor([[0.0000],\n",
      "        [0.0000],\n",
      "        [0.0000],\n",
      "        [0.2142],\n",
      "        [0.8597],\n",
      "        [0.8786],\n",
      "        [0.0000],\n",
      "        [0.0000]])\n"
     ]
    }
   ],
   "source": [
    "import torch\n",
    "\n",
    "\n",
    "generic_linear_transform = torch.randn(8, 1)\n",
    "print(\"generic:\", generic_linear_transform, sep=\"\\n\")\n",
    "\n",
    "local_linear_transform = torch.tensor([\n",
    "    [0, 0, 0] + [random.random(), random.random(), random.random()] + [0, 0]]).T\n",
    "print(\"local:\", local_linear_transform, sep=\"\\n\")"
   ]
  },
  {
   "cell_type": "markdown",
   "metadata": {
    "id": "0nCD75NwtTFD"
   },
   "source": [
    "Another type of structure commonly observed is \"translation equivariance\" --\n",
    "the top-left pixel position is not, in itself, meaningfully different\n",
    "from the bottom-right position\n",
    "or a position in the middle of the image.\n",
    "Relative relationships matter more than absolute relationships.\n",
    "\n",
    "Translation equivariance arises in images because there is generally no privileged\n",
    "vantage point for taking the image.\n",
    "We could just as easily have taken the image while standing a few feet to the left or right,\n",
    "and all of its contents would shift along with our change in perspective.\n",
    "\n",
    "Translation equivariance means that a linear transformation that is meaningful at one position\n",
    "in our input is likely to be meaningful at all other points.\n",
    "We can learn something about a linear transformation from a datapoint where it is useful\n",
    "in the bottom-left and then apply it to another datapoint where it's useful in the top-right."
   ]
  },
  {
   "cell_type": "code",
   "execution_count": 4,
   "metadata": {},
   "outputs": [
    {
     "data": {
      "text/plain": [
       "tensor([[0],\n",
       "        [1],\n",
       "        [2],\n",
       "        [3],\n",
       "        [4],\n",
       "        [5],\n",
       "        [6],\n",
       "        [7]])"
      ]
     },
     "execution_count": 4,
     "metadata": {},
     "output_type": "execute_result"
    }
   ],
   "source": [
    "torch.arange(8)[:, None]"
   ]
  },
  {
   "cell_type": "code",
   "execution_count": 5,
   "metadata": {
    "id": "srvI7JFAtTFE"
   },
   "outputs": [
    {
     "name": "stdout",
     "output_type": "stream",
     "text": [
      "generic:\n",
      "tensor([[0],\n",
      "        [1],\n",
      "        [2],\n",
      "        [3],\n",
      "        [4],\n",
      "        [5],\n",
      "        [6],\n",
      "        [7]])\n",
      "translation invariant:\n",
      "tensor([[0, 7, 6, 5, 4, 3, 2, 1],\n",
      "        [1, 0, 7, 6, 5, 4, 3, 2],\n",
      "        [2, 1, 0, 7, 6, 5, 4, 3],\n",
      "        [3, 2, 1, 0, 7, 6, 5, 4],\n",
      "        [4, 3, 2, 1, 0, 7, 6, 5],\n",
      "        [5, 4, 3, 2, 1, 0, 7, 6],\n",
      "        [6, 5, 4, 3, 2, 1, 0, 7],\n",
      "        [7, 6, 5, 4, 3, 2, 1, 0]])\n"
     ]
    }
   ],
   "source": [
    "generic_linear_transform = torch.arange(8)[:, None]\n",
    "print(\"generic:\", generic_linear_transform, sep=\"\\n\")\n",
    "\n",
    "equivariant_linear_transform = torch.stack([torch.roll(generic_linear_transform[:, 0], ii) for ii in range(8)], dim=1)\n",
    "print(\"translation invariant:\", equivariant_linear_transform, sep=\"\\n\")"
   ]
  },
  {
   "cell_type": "markdown",
   "metadata": {
    "id": "qF576NCvtTFE"
   },
   "source": [
    "A linear transformation that is translation equivariant\n",
    "[is called a _convolution_](https://en.wikipedia.org/wiki/Convolution#Translational_equivariance).\n",
    "\n",
    "If the weights of that linear transformation are mostly zero\n",
    "except for a few that are close to one another,\n",
    "that convolution is said to have a _kernel_."
   ]
  },
  {
   "cell_type": "code",
   "execution_count": 6,
   "metadata": {
    "id": "9tp4tBgWtTFF"
   },
   "outputs": [
    {
     "data": {
      "text/plain": [
       "Parameter containing:\n",
       "tensor([[[ 0.4735, -0.2166,  0.4728]]], requires_grad=True)"
      ]
     },
     "execution_count": 6,
     "metadata": {},
     "output_type": "execute_result"
    }
   ],
   "source": [
    "# the equivalent of torch.nn.Linear, but for a 1-dimensional convolution\n",
    "conv_layer = torch.nn.Conv1d(in_channels=1, out_channels=1, kernel_size=3)\n",
    "\n",
    "conv_layer.weight  # aka kernel"
   ]
  },
  {
   "cell_type": "markdown",
   "metadata": {
    "id": "deXA_xS6tTFF"
   },
   "source": [
    "Instead of using normal matrix multiplication to apply the kernel to the input,\n",
    "we repeatedly apply that kernel over and over again,\n",
    "\"sliding\" it over the input to produce an output.\n",
    "\n",
    "Every convolution kernel has an equivalent matrix form,\n",
    "which can be matrix multiplied with the input to create the output:"
   ]
  },
  {
   "cell_type": "code",
   "execution_count": 7,
   "metadata": {
    "id": "mFoSsa5DtTFF"
   },
   "outputs": [
    {
     "name": "stdout",
     "output_type": "stream",
     "text": [
      "convolution matrix:\n",
      "tensor([[ 0.4735, -0.2166,  0.4728,  0.0000,  0.0000,  0.0000,  0.0000,  0.0000],\n",
      "        [ 0.0000,  0.4735, -0.2166,  0.4728,  0.0000,  0.0000,  0.0000,  0.0000],\n",
      "        [ 0.0000,  0.0000,  0.4735, -0.2166,  0.4728,  0.0000,  0.0000,  0.0000],\n",
      "        [ 0.0000,  0.0000,  0.0000,  0.4735, -0.2166,  0.4728,  0.0000,  0.0000],\n",
      "        [ 0.0000,  0.0000,  0.0000,  0.0000,  0.4735, -0.2166,  0.4728,  0.0000],\n",
      "        [ 0.0000,  0.0000,  0.0000,  0.0000,  0.0000,  0.4735, -0.2166,  0.4728],\n",
      "        [ 0.4728,  0.0000,  0.0000,  0.0000,  0.0000,  0.0000,  0.4735, -0.2166],\n",
      "        [-0.2166,  0.4728,  0.0000,  0.0000,  0.0000,  0.0000,  0.0000,  0.4735]],\n",
      "       grad_fn=<StackBackward0>)\n"
     ]
    }
   ],
   "source": [
    "conv_kernel_as_vector = torch.hstack([conv_layer.weight[0][0], torch.zeros(5)])\n",
    "conv_layer_as_matrix = torch.stack([torch.roll(conv_kernel_as_vector, ii) for ii in range(8)], dim=0)\n",
    "print(\"convolution matrix:\", conv_layer_as_matrix, sep=\"\\n\")"
   ]
  },
  {
   "cell_type": "markdown",
   "metadata": {
    "id": "VJyRtf9NtTFG"
   },
   "source": [
    "> <small> Under the hood, the actual operation that implements the application of a convolutional kernel\n",
    "need not look like either of these\n",
    "(common approaches include\n",
    "[Winograd-type algorithms](https://arxiv.org/abs/1509.09308)\n",
    "and [Fast Fourier Transform-based algorithms](https://arxiv.org/abs/1312.5851)).</small>"
   ]
  },
  {
   "cell_type": "markdown",
   "metadata": {
    "id": "xytivdcItTFG"
   },
   "source": [
    "Though they may seem somewhat arbitrary and technical,\n",
    "convolutions are actually a deep and fundamental piece of mathematics and computer science.\n",
    "Fundamental as in\n",
    "[closely related to the multiplication algorithm we learn as children](https://charlesfrye.github.io/math/2019/02/20/multiplication-convoluted-part-one.html)\n",
    "and deep as in\n",
    "[closely related to the Fourier transform](https://math.stackexchange.com/questions/918345/fourier-transform-as-diagonalization-of-convolution).\n",
    "Generalized convolutions can show up \n",
    "wherever there is some kind of \"sum\" over some kind of \"paths\",\n",
    "as is common in dynamic programming.\n",
    "\n",
    "See Chris Olah's blog series\n",
    "([1](https://colah.github.io/posts/2014-07-Conv-Nets-Modular/),\n",
    "[2](https://colah.github.io/posts/2014-07-Understanding-Convolutions/),\n",
    "[3](https://colah.github.io/posts/2014-12-Groups-Convolution/))\n",
    "for a friendly introduction."
   ]
  },
  {
   "cell_type": "markdown",
   "metadata": {
    "id": "uCJTwCWYzRee"
   },
   "source": [
    "## We apply two-dimensional convolutions to images."
   ]
  },
  {
   "cell_type": "markdown",
   "metadata": {
    "id": "a8RKOPAIx0O2"
   },
   "source": [
    "In building our text recognizer,\n",
    "we're working with images.\n",
    "Images have two dimensions of translation equivariance:\n",
    "left/right and up/down.\n",
    "So we use two-dimensional convolutions,\n",
    "instantiated in `torch.nn` as `nn.Conv2d` layers.\n",
    "Note that convolutional neural networks for images\n",
    "are so popular that when the term \"convolution\"\n",
    "is used without qualifier in a neural network context,\n",
    "it can be taken to mean two-dimensional convolutions.\n",
    "\n",
    "Where `Linear` layers took in batches of vectors of a fixed size\n",
    "and returned batches of vectors of a fixed size,\n",
    "`Conv2d` layers take in batches of two-dimensional _stacked feature maps_\n",
    "and return batches of two-dimensional stacked feature maps.\n",
    "\n",
    "A pseudocode type signature based on\n",
    "[`torchtyping`](https://github.com/patrick-kidger/torchtyping)\n",
    "might look like:"
   ]
  },
  {
   "cell_type": "markdown",
   "metadata": {
    "id": "sJvMdHL7w_lu"
   },
   "source": [
    "```python\n",
    "StackedFeatureMapIn = torch.Tensor[\"batch\", \"in_channels\", \"in_height\", \"in_width\"]\n",
    "StackedFeatureMapOut = torch.Tensor[\"batch\", \"out_channels\", \"out_height\", \"out_width\"]\n",
    "def same_convolution_2d(x: StackedFeatureMapIn) -> StackedFeatureMapOut:\n",
    "```"
   ]
  },
  {
   "cell_type": "markdown",
   "metadata": {
    "id": "nSMC8Fw3zPSz"
   },
   "source": [
    "Here, \"map\" is meant to evoke space:\n",
    "our feature maps tell us where\n",
    "features are spatially located.\n",
    "\n",
    "An RGB image is a stacked feature map.\n",
    "It is composed of three feature maps.\n",
    "The first tells us where the \"red\" feature is present,\n",
    "the second \"green\", the third \"blue\":"
   ]
  },
  {
   "cell_type": "code",
   "execution_count": 8,
   "metadata": {
    "id": "jIXT-mym3ljt"
   },
   "outputs": [
    {
     "data": {
      "text/html": [
       "<img src=\"https://upload.wikimedia.org/wikipedia/commons/5/56/RGB_channels_separation.png?20110219015028\"/>"
      ],
      "text/plain": [
       "<IPython.core.display.Image object>"
      ]
     },
     "execution_count": 8,
     "metadata": {},
     "output_type": "execute_result"
    }
   ],
   "source": [
    "display.Image(\n",
    "    url=\"https://upload.wikimedia.org/wikipedia/commons/5/56/RGB_channels_separation.png?20110219015028\")"
   ]
  },
  {
   "cell_type": "markdown",
   "metadata": {
    "id": "8WfCcO5xJ-hG"
   },
   "source": [
    "When we apply a convolutional layer to a stacked feature map with some number of channels,\n",
    "we get back a stacked feature map with some number of channels.\n",
    "\n",
    "This output is also a stack of feature maps,\n",
    "and so it is a perfectly acceptable\n",
    "input to another convolutional layer.\n",
    "That means we can compose convolutional layers together,\n",
    "just as we composed generic linear layers together.\n",
    "We again weave non-linear functions in between our linear convolutions,\n",
    "creating a _convolutional neural network_, or CNN."
   ]
  },
  {
   "cell_type": "markdown",
   "metadata": {
    "id": "R18TsGubJ_my"
   },
   "source": [
    "## Convolutional neural networks build up visual understanding layer by layer."
   ]
  },
  {
   "cell_type": "markdown",
   "metadata": {
    "id": "eV03KmYBz2QM"
   },
   "source": [
    "What is the equivalent of the labels, red/green/blue,\n",
    "for the channels in these feature maps?\n",
    "What does a high activation in some position in channel 32\n",
    "of the fifteenth layer of my network tell me?\n",
    "\n",
    "There is no guaranteed way to automatically determine the answer,\n",
    "nor is there a guarantee that the result is human-interpetable.\n",
    "OpenAI's Clarity team spent several years \"reverse engineering\"\n",
    "state-of-the-art convolutiuonal neural networks trained on photographs\n",
    "and found that many of these channels are \n",
    "[directly interpretable](https://distill.pub/2018/building-blocks/).\n",
    "\n",
    "For example, they found that if they pass an image through\n",
    "[GoogLeNet](https://doi.org/10.1109/cvpr.2015.7298594),\n",
    "aka InceptionV1,\n",
    "the winner of the\n",
    "[2014 ImageNet Very Large Scale Visual Recognition Challenge](https://www.image-net.org/challenges/LSVRC/2014/),"
   ]
  },
  {
   "cell_type": "code",
   "execution_count": 9,
   "metadata": {
    "id": "64KJR70q6dCh"
   },
   "outputs": [
    {
     "data": {
      "text/html": [
       "<img src=\"https://distill.pub/2018/building-blocks/examples/input_images/dog_cat.jpeg\"/>"
      ],
      "text/plain": [
       "<IPython.core.display.Image object>"
      ]
     },
     "execution_count": 9,
     "metadata": {},
     "output_type": "execute_result"
    }
   ],
   "source": [
    "# a sample image\n",
    "display.Image(url=\"https://distill.pub/2018/building-blocks/examples/input_images/dog_cat.jpeg\")"
   ]
  },
  {
   "cell_type": "markdown",
   "metadata": {
    "id": "hJ7CvvG78CZ5"
   },
   "source": [
    "the features become increasingly complex,\n",
    "with channels in early layers (left)\n",
    "acting as maps for simple things like \"high frequency power\" or \"45 degree black-white edge\"\n",
    "and channels in later layers (to right)\n",
    "acting as feature maps for increasingly abstract concepts,\n",
    "like \"circle\" and eventually \"floppy round ear\" or \"pointy ear\":"
   ]
  },
  {
   "cell_type": "code",
   "execution_count": 10,
   "metadata": {
    "id": "6w5_RR8d9jEY"
   },
   "outputs": [
    {
     "data": {
      "text/html": [
       "<img src=\"https://fsdl-public-assets.s3.us-west-2.amazonaws.com/distill-feature-attrib.png\" width=\"1024\"/>"
      ],
      "text/plain": [
       "<IPython.core.display.Image object>"
      ]
     },
     "execution_count": 10,
     "metadata": {},
     "output_type": "execute_result"
    }
   ],
   "source": [
    "# from https://distill.pub/2018/building-blocks/\n",
    "display.Image(url=\"https://fsdl-public-assets.s3.us-west-2.amazonaws.com/distill-feature-attrib.png\", width=1024)"
   ]
  },
  {
   "cell_type": "markdown",
   "metadata": {
    "id": "HLiqEwMY_Co0"
   },
   "source": [
    "> <small> The small square images depict a heuristic estimate\n",
    "of what the entire collection of feature maps\n",
    "at a given layer represent (layer IDs at bottom).\n",
    "They are arranged in a spatial grid and their sizes represent\n",
    "the total magnitude of the layer's activations at that position.\n",
    "For details and interactivity, see\n",
    "[the original Distill article](https://distill.pub/2018/building-blocks/).</small>"
   ]
  },
  {
   "cell_type": "markdown",
   "metadata": {
    "id": "vl8XlEsaA54W"
   },
   "source": [
    "In the\n",
    "[Circuits Thread](https://distill.pub/2020/circuits/)\n",
    "blogpost series,\n",
    "the Open AI Clarity team\n",
    "combines careful examination of weights\n",
    "with direct experimentation\n",
    "to build an understanding of how these higher-level features\n",
    "are constructed in GoogLeNet.\n",
    "\n",
    "For example,\n",
    "they are able to provide reasonable interpretations for\n",
    "[almost every channel in the first five layers](https://distill.pub/2020/circuits/early-vision/).\n",
    "\n",
    "The cell below will pull down their \"weight explorer\" \n",
    "and embed it in this notebook.\n",
    "By default, it starts on\n",
    "[the 52nd channel in the `conv2d1` layer](https://storage.googleapis.com/distill-circuits/inceptionv1-weight-explorer/conv2d1_52.html),\n",
    "which constructs a large, phase-invariant\n",
    "[Gabor filter](https://en.wikipedia.org/wiki/Gabor_filter)\n",
    "from smaller, phase-sensitive filters.\n",
    "It is in turn used to construct\n",
    "[curve](https://storage.googleapis.com/distill-circuits/inceptionv1-weight-explorer/conv2d2_180.html)\n",
    "and\n",
    "[texture](https://storage.googleapis.com/distill-circuits/inceptionv1-weight-explorer/conv2d2_114.html)\n",
    "detectors --\n",
    "click on any image to navigate to the weight explorer page\n",
    "for that channel\n",
    "or change the `layer` and `idx`\n",
    "arguments.\n",
    "For additional context,\n",
    "check out the\n",
    "[Early Vision in InceptionV1 blogpost](https://distill.pub/2020/circuits/early-vision/).\n",
    "\n",
    "Click the \"View this neuron in the OpenAI Microscope\" link\n",
    "for an even richer interactive view,\n",
    "including activations on sample images\n",
    "([example](https://microscope.openai.com/models/inceptionv1/conv2d1_0/52)).\n",
    "\n",
    "The\n",
    "[Circuits Thread](https://distill.pub/2020/circuits/)\n",
    "which this explorer accompanies\n",
    "is chock-full of empirical observations, theoretical speculation, and nuggets of wisdom\n",
    "that are invaluable for developing intuition about both\n",
    "convolutional networks in particular and visual perception in general."
   ]
  },
  {
   "cell_type": "code",
   "execution_count": 11,
   "metadata": {
    "id": "I4-hkYjdB-qQ"
   },
   "outputs": [
    {
     "data": {
      "text/html": [
       "\n",
       "        <iframe\n",
       "            width=\"1024\"\n",
       "            height=\"720\"\n",
       "            src=\"https://storage.googleapis.com/distill-circuits/inceptionv1-weight-explorer/conv2d1_52.html\"\n",
       "            frameborder=\"0\"\n",
       "            allowfullscreen\n",
       "            \n",
       "        style=\"background: #FFF\";\n",
       "></iframe>\n",
       "        "
      ],
      "text/plain": [
       "<IPython.lib.display.IFrame at 0x7fb8a0215e50>"
      ]
     },
     "execution_count": 11,
     "metadata": {},
     "output_type": "execute_result"
    }
   ],
   "source": [
    "layers = [\"conv2d0\", \"conv2d1\", \"conv2d2\", \"mixed3a\", \"mixed3b\"]\n",
    "layer = layers[1]\n",
    "idx = 52\n",
    "\n",
    "weight_explorer = display.IFrame(\n",
    "    src=f\"https://storage.googleapis.com/distill-circuits/inceptionv1-weight-explorer/{layer}_{idx}.html\", width=1024, height=720)\n",
    "weight_explorer.iframe = 'style=\"background: #FFF\";\\n><'.join(weight_explorer.iframe.split(\"><\"))  # inject background color\n",
    "weight_explorer"
   ]
  },
  {
   "cell_type": "markdown",
   "metadata": {
    "id": "NJ6_PCmVtTFH"
   },
   "source": [
    "# Applying convolutions to handwritten characters: `CNN`s on `EMNIST`"
   ]
  },
  {
   "cell_type": "markdown",
   "metadata": {
    "id": "N--VkRtR5Yr-"
   },
   "source": [
    "If we load up the `CNN` class from `text_recognizer.models`,\n",
    "we'll see that a `data_config` is required to instantiate the model:"
   ]
  },
  {
   "cell_type": "code",
   "execution_count": null,
   "metadata": {
    "id": "N3MA--zytTFH"
   },
   "outputs": [],
   "source": [
    "import text_recognizer.models\n",
    "\n",
    "\n",
    "text_recognizer.models.CNN??"
   ]
  },
  {
   "cell_type": "markdown",
   "metadata": {
    "id": "7yCP46PO6XDg"
   },
   "source": [
    "So before we can make our convolutional network and train it,\n",
    "we'll need to get a hold of some data.\n",
    "This isn't a general constraint by the way --\n",
    "it's an implementation detail of the `text_recognizer` library.\n",
    "But datasets and models are generally coupled,\n",
    "so it's common for them to share configuration information."
   ]
  },
  {
   "cell_type": "markdown",
   "metadata": {
    "id": "6Z42K-jjtTFH"
   },
   "source": [
    "## The `EMNIST` Handwritten Character Dataset"
   ]
  },
  {
   "cell_type": "markdown",
   "metadata": {
    "id": "oiifKuu4tTFH"
   },
   "source": [
    "We could just use `MNIST` here,\n",
    "as we did in\n",
    "[the first lab](https://fsdl.me/lab01-colab).\n",
    "\n",
    "But we're aiming to eventually build a handwritten text recognition system,\n",
    "which means we need to handle letters and punctuation,\n",
    "not just numbers.\n",
    "\n",
    "So we instead use _EMNIST_,\n",
    "or [Extended MNIST](https://paperswithcode.com/paper/emnist-an-extension-of-mnist-to-handwritten),\n",
    "which includes letters and punctuation."
   ]
  },
  {
   "cell_type": "code",
   "execution_count": 13,
   "metadata": {
    "id": "3ePZW1Tfa00K"
   },
   "outputs": [
    {
     "name": "stdout",
     "output_type": "stream",
     "text": [
      "EMNIST dataset of handwritten characters and digits.\n",
      "\n",
      "    \"The EMNIST dataset is a set of handwritten character digits derived from the NIST Special Database 19\n",
      "    and converted to a 28x28 pixel image format and dataset structure that directly matches the MNIST dataset.\"\n",
      "    From https://www.nist.gov/itl/iad/image-group/emnist-dataset\n",
      "\n",
      "    The data split we will use is\n",
      "    EMNIST ByClass: 814,255 characters. 62 unbalanced classes.\n",
      "    \n"
     ]
    }
   ],
   "source": [
    "import text_recognizer.data\n",
    "\n",
    "\n",
    "emnist = text_recognizer.data.EMNIST()  # configure\n",
    "print(emnist.__doc__)"
   ]
  },
  {
   "cell_type": "markdown",
   "metadata": {
    "id": "D_yjBYhla6qp"
   },
   "source": [
    "We've built a PyTorch Lightning `DataModule`\n",
    "to encapsulate all the code needed to get this dataset ready to go:\n",
    "downloading to disk,\n",
    "[reformatting to make loading faster](https://www.h5py.org/),\n",
    "and splitting into training, validation, and test."
   ]
  },
  {
   "cell_type": "code",
   "execution_count": 14,
   "metadata": {
    "id": "ty2vakBBtTFI"
   },
   "outputs": [],
   "source": [
    "emnist.prepare_data()  # download, save to disk\n",
    "emnist.setup()  # create torch.utils.data.Datasets, do train/val split"
   ]
  },
  {
   "cell_type": "markdown",
   "metadata": {
    "id": "5h9bAXcu8l5J"
   },
   "source": [
    "A brief aside: you might be wondering where this data goes.\n",
    "Datasets are saved to disk inside the repo folder,\n",
    "but not tracked in version control.\n",
    "`git` works well for versioning source code\n",
    "and other text files, but it's a poor fit for large binary data.\n",
    "We only track and version metadata."
   ]
  },
  {
   "cell_type": "code",
   "execution_count": 15,
   "metadata": {
    "id": "E5cwDCM88SnU"
   },
   "outputs": [
    {
     "name": "stdout",
     "output_type": "stream",
     "text": [
      "/home/terps/.git/fsdl-text-recognizer-2022-labs/data\n",
      "downloaded  processed  raw\n",
      "metadata.toml  readme.md\n"
     ]
    }
   ],
   "source": [
    "!echo {emnist.data_dirname()}\n",
    "!ls {emnist.data_dirname()}\n",
    "!ls {emnist.data_dirname() / \"raw\" / \"emnist\"}"
   ]
  },
  {
   "cell_type": "markdown",
   "metadata": {
    "id": "IdsIBL9MtTFI"
   },
   "source": [
    "This class comes with a pretty printing method\n",
    "for quick examination of some of that metadata and basic descriptive statistics."
   ]
  },
  {
   "cell_type": "code",
   "execution_count": 16,
   "metadata": {
    "id": "Cyw66d6GtTFI"
   },
   "outputs": [
    {
     "data": {
      "text/plain": [
       "EMNIST Dataset\n",
       "Num classes: 83\n",
       "Mapping: ['<B>', '<S>', '<E>', '<P>', '0', '1', '2', '3', '4', '5', '6', '7', '8', '9', 'A', 'B', 'C', 'D', 'E', 'F', 'G', 'H', 'I', 'J', 'K', 'L', 'M', 'N', 'O', 'P', 'Q', 'R', 'S', 'T', 'U', 'V', 'W', 'X', 'Y', 'Z', 'a', 'b', 'c', 'd', 'e', 'f', 'g', 'h', 'i', 'j', 'k', 'l', 'm', 'n', 'o', 'p', 'q', 'r', 's', 't', 'u', 'v', 'w', 'x', 'y', 'z', ' ', '!', '\"', '#', '&', \"'\", '(', ')', '*', '+', ',', '-', '.', '/', ':', ';', '?']\n",
       "Dims: (1, 28, 28)\n",
       "Train/val/test sizes: 260212, 65054, 53988\n",
       "Batch x stats: (torch.Size([128, 1, 28, 28]), torch.float32, tensor(0.), tensor(0.1753), tensor(0.3329), tensor(1.))\n",
       "Batch y stats: (torch.Size([128]), torch.int64, tensor(4), tensor(63))"
      ]
     },
     "execution_count": 16,
     "metadata": {},
     "output_type": "execute_result"
    }
   ],
   "source": [
    "emnist"
   ]
  },
  {
   "cell_type": "markdown",
   "metadata": {
    "id": "QT0burlOLgoH"
   },
   "source": [
    "\n",
    "> <small> You can add pretty printing to your own Python classes by writing\n",
    "`__str__` or `__repr__` methods for them.\n",
    "The former is generally expected to be human-readable,\n",
    "while the latter is generally expected to be machine-readable;\n",
    "we've broken with that custom here and used `__repr__`. </small>"
   ]
  },
  {
   "cell_type": "markdown",
   "metadata": {
    "id": "XJF3G5idtTFI"
   },
   "source": [
    "Because we've run `.prepare_data` and `.setup`,\n",
    "we can expect that this `DataModule` is ready to provide a `DataLoader`\n",
    "if we invoke the right method --\n",
    "sticking to the PyTorch Lightning API brings these kinds of convenient guarantees\n",
    "even when we're not using the `Trainer` class itself,\n",
    "[as described in Lab 2a](https://fsdl.me/lab02a-colab)."
   ]
  },
  {
   "cell_type": "code",
   "execution_count": 17,
   "metadata": {
    "id": "XJghcZkWtTFI"
   },
   "outputs": [],
   "source": [
    "xs, ys = next(iter(emnist.train_dataloader()))"
   ]
  },
  {
   "cell_type": "markdown",
   "metadata": {
    "id": "40FWjMT-tTFJ"
   },
   "source": [
    "Run the cell below to inspect random elements of this batch."
   ]
  },
  {
   "cell_type": "code",
   "execution_count": 18,
   "metadata": {
    "id": "0hywyEI_tTFJ"
   },
   "outputs": [
    {
     "name": "stdout",
     "output_type": "stream",
     "text": [
      "1\n"
     ]
    },
    {
     "data": {
      "image/png": "[encoded data removed]",
      "text/plain": [
       "<PIL.PngImagePlugin.PngImageFile image mode=RGB size=28x28 at 0x7FB8205DE550>"
      ]
     },
     "execution_count": 18,
     "metadata": {},
     "output_type": "execute_result"
    }
   ],
   "source": [
    "import wandb\n",
    "\n",
    "idx = random.randint(0, len(xs) - 1)\n",
    "\n",
    "print(emnist.mapping[ys[idx]])\n",
    "wandb.Image(xs[idx]).image"
   ]
  },
  {
   "cell_type": "markdown",
   "metadata": {
    "id": "hdg_wYWntTFJ"
   },
   "source": [
    "## Putting convolutions in a `torch.nn.Module`"
   ]
  },
  {
   "cell_type": "markdown",
   "metadata": {
    "id": "JGuSx_zvtTFJ"
   },
   "source": [
    "Because we have the data,\n",
    "we now have a `data_config`\n",
    "and can instantiate the model."
   ]
  },
  {
   "cell_type": "code",
   "execution_count": 19,
   "metadata": {
    "id": "rxLf7-5jtTFJ"
   },
   "outputs": [
    {
     "data": {
      "text/plain": [
       "CNN(\n",
       "  (conv1): ConvBlock(\n",
       "    (conv): Conv2d(1, 64, kernel_size=(3, 3), stride=(1, 1), padding=(1, 1))\n",
       "    (relu): ReLU()\n",
       "  )\n",
       "  (conv2): ConvBlock(\n",
       "    (conv): Conv2d(64, 64, kernel_size=(3, 3), stride=(1, 1), padding=(1, 1))\n",
       "    (relu): ReLU()\n",
       "  )\n",
       "  (dropout): Dropout(p=0.25, inplace=False)\n",
       "  (max_pool): MaxPool2d(kernel_size=2, stride=2, padding=0, dilation=1, ceil_mode=False)\n",
       "  (fc1): Linear(in_features=12544, out_features=128, bias=True)\n",
       "  (fc2): Linear(in_features=128, out_features=83, bias=True)\n",
       ")"
      ]
     },
     "execution_count": 19,
     "metadata": {},
     "output_type": "execute_result"
    }
   ],
   "source": [
    "data_config = emnist.config()\n",
    "\n",
    "cnn = text_recognizer.models.CNN(data_config)\n",
    "cnn  # reveals the nn.Modules attached to our nn.Module"
   ]
  },
  {
   "cell_type": "markdown",
   "metadata": {
    "id": "jkeJNVnIMVzJ"
   },
   "source": [
    "We can run this network on our inputs,\n",
    "but we don't expect it to produce correct outputs without training."
   ]
  },
  {
   "cell_type": "code",
   "execution_count": 20,
   "metadata": {
    "id": "4EwujOGqMAZY"
   },
   "outputs": [
    {
     "name": "stdout",
     "output_type": "stream",
     "text": [
      "output: y\n"
     ]
    },
    {
     "data": {
      "image/png": "[encoded data removed]",
      "text/plain": [
       "<PIL.PngImagePlugin.PngImageFile image mode=RGB size=28x28 at 0x7FB820602B90>"
      ]
     },
     "execution_count": 20,
     "metadata": {},
     "output_type": "execute_result"
    }
   ],
   "source": [
    "idx = random.randint(0, len(xs) - 1)\n",
    "outs = cnn(xs[idx:idx+1])\n",
    "\n",
    "print(\"output:\", emnist.mapping[torch.argmax(outs)])\n",
    "wandb.Image(xs[idx]).image"
   ]
  },
  {
   "cell_type": "markdown",
   "metadata": {
    "id": "P3L8u0estTFJ"
   },
   "source": [
    "We can inspect the `.forward` method to see how these `nn.Module`s are used.\n",
    "\n",
    "> <small> Note: we encourage you to read through the code --\n",
    "either inside the notebooks, as below,\n",
    "in your favorite text editor locally, or\n",
    "[on GitHub](https://github.com/full-stack-deep-learning/fsdl-text-recognizer-2022-labs).\n",
    "There's lots of useful bits of Python that we don't have time to cover explicitly in the labs.</small>"
   ]
  },
  {
   "cell_type": "code",
   "execution_count": 21,
   "metadata": {
    "id": "RtA0W8jvtTFJ"
   },
   "outputs": [],
   "source": [
    "cnn.forward??"
   ]
  },
  {
   "cell_type": "markdown",
   "metadata": {
    "id": "VCycQ88gtTFK"
   },
   "source": [
    "We apply convolutions followed by non-linearities,\n",
    "with intermittent \"pooling\" layers that apply downsampling --\n",
    "similar to the 1989\n",
    "[LeNet](https://doi.org/10.1162%2Fneco.1989.1.4.541)\n",
    "architecture or the 2012\n",
    "[AlexNet](https://doi.org/10.1145%2F3065386)\n",
    "architecture."
   ]
  },
  {
   "cell_type": "markdown",
   "metadata": {
    "id": "qkGJCnMttTFK"
   },
   "source": [
    "The final classification is performed by an MLP.\n",
    "\n",
    "In order to get vectors to pass into that MLP,\n",
    "we first apply `torch.flatten`."
   ]
  },
  {
   "cell_type": "code",
   "execution_count": 22,
   "metadata": {
    "id": "WZPhw7ufAKZ7"
   },
   "outputs": [
    {
     "data": {
      "text/plain": [
       "tensor([1., 2., 3., 4.])"
      ]
     },
     "execution_count": 22,
     "metadata": {},
     "output_type": "execute_result"
    }
   ],
   "source": [
    "torch.flatten(torch.Tensor([[1, 2], [3, 4]]))"
   ]
  },
  {
   "cell_type": "markdown",
   "metadata": {
    "id": "jCoCa3vCNM8j"
   },
   "source": [
    "## Design considerations for CNNs"
   ]
  },
  {
   "cell_type": "markdown",
   "metadata": {
    "id": "dDLEMnPINTj7"
   },
   "source": [
    "Since the release of AlexNet,\n",
    "there has been a feverish decade of engineering and innovation in CNNs --\n",
    "[dilated convolutions](https://arxiv.org/abs/1511.07122),\n",
    "[residual connections](https://arxiv.org/abs/1512.03385), and\n",
    "[batch normalization](https://arxiv.org/abs/1502.03167)\n",
    "came out in 2015 alone, and\n",
    "[work continues](https://arxiv.org/abs/2201.03545) --\n",
    "so we can only scratch the surface in this course and\n",
    "[the devil is in the details](https://arxiv.org/abs/1405.3531v4).\n",
    "\n",
    "The progress of DNNs in general and CNNs in particular\n",
    "has been mostly evolutionary,\n",
    "with lots of good ideas that didn't work out\n",
    "and weird hacks that stuck around because they did.\n",
    "That can make it very hard to design a fresh architecture\n",
    "from first principles that's anywhere near as effective as existing architectures.\n",
    "You're better off tweaking and mutating an existing architecture\n",
    "than trying to design one yourself.\n",
    "\n",
    "If you're not keeping close tabs on the field,\n",
    "when your first start looking for an architecture to base your work off of\n",
    "it's best to go to trusted aggregators, like\n",
    "[Torch IMage Models](https://github.com/rwightman/pytorch-image-models),\n",
    "or `timm`, on GitHub, or\n",
    "[Papers With Code](https://paperswithcode.com),\n",
    "specifically the section for\n",
    "[computer vision](https://paperswithcode.com/methods/area/computer-vision).\n",
    "You can also take a more bottom-up approach by checking\n",
    "the leaderboards of the latest\n",
    "[Kaggle competitions on computer vision](https://www.kaggle.com/competitions?searchQuery=computer+vision).\n",
    "\n",
    "We'll briefly touch here on some of the main design considerations\n",
    "with classic CNN architectures."
   ]
  },
  {
   "cell_type": "markdown",
   "metadata": {
    "id": "nd0OeyouDNlS"
   },
   "source": [
    "### Shapes and padding"
   ]
  },
  {
   "cell_type": "markdown",
   "metadata": {
    "id": "5w3p8QP6AnGQ"
   },
   "source": [
    "In the `.forward` pass of the `CNN`,\n",
    "we've included comments that indicate the expected shapes\n",
    "of tensors after each line that changes the shape.\n",
    "\n",
    "Tracking and correctly handling shapes is one of the bugbears\n",
    "of CNNs, especially architectures,\n",
    "like LeNet/AlexNet, that include MLP components\n",
    "that can only operate on fixed-shape tensors."
   ]
  },
  {
   "cell_type": "markdown",
   "metadata": {
    "id": "vgbM30jstTFK"
   },
   "source": [
    "[Shape arithmetic gets pretty hairy pretty fast](https://arxiv.org/abs/1603.07285)\n",
    "if you're supporting the wide variety of convolutions.\n",
    "\n",
    "The easiest way to avoid shape bugs is to keep things simple: \n",
    "choose your convolution parameters,\n",
    "like `padding` and `stride`,\n",
    "to keep the shape the same before and after\n",
    "the convolution.\n",
    "\n",
    "That's what we do, by choosing `padding=1`\n",
    "for `kernel_size=3` and `stride=1`.\n",
    "With unit strides and odd-numbered kernel size,\n",
    "the padding that keeps\n",
    "the input the same size is `kernel_size // 2`.\n",
    "\n",
    "As shapes change, so does the amount of GPU memory taken up by the tensors.\n",
    "Keeping sizes fixed within a block removes one axis of variation\n",
    "in the demands on an important resource.\n",
    "\n",
    "After applying our pooling layer,\n",
    "we can just increase the number of kernels by the right factor\n",
    "to keep total tensor size,\n",
    "and thus memory footprint, constant."
   ]
  },
  {
   "cell_type": "markdown",
   "metadata": {
    "id": "2BCkTZGSDSBG"
   },
   "source": [
    "### Parameters, computation, and bottlenecks"
   ]
  },
  {
   "cell_type": "markdown",
   "metadata": {
    "id": "pZbgm7wztTFK"
   },
   "source": [
    "If we review the `num`ber of `el`ements in each of the layers,\n",
    "we see that one layer has far more entries than all the others:"
   ]
  },
  {
   "cell_type": "code",
   "execution_count": 23,
   "metadata": {
    "id": "8nfjPVwztTFK"
   },
   "outputs": [
    {
     "data": {
      "text/plain": [
       "[576, 64, 36864, 64, 1605632, 128, 10624, 83]"
      ]
     },
     "execution_count": 23,
     "metadata": {},
     "output_type": "execute_result"
    }
   ],
   "source": [
    "[p.numel() for p in cnn.parameters()]  # conv weight + bias, conv weight + bias, fc weight + bias, fc weight + bias"
   ]
  },
  {
   "cell_type": "markdown",
   "metadata": {
    "id": "DzIoCz1FtTFK"
   },
   "source": [
    "The biggest layer is typically\n",
    "the one in between the convolutional component\n",
    "and the MLP component:"
   ]
  },
  {
   "cell_type": "code",
   "execution_count": 24,
   "metadata": {
    "id": "QYrlUprltTFK"
   },
   "outputs": [
    {
     "data": {
      "text/plain": [
       "(torch.Size([128, 12544]), 12544)"
      ]
     },
     "execution_count": 24,
     "metadata": {},
     "output_type": "execute_result"
    }
   ],
   "source": [
    "biggest_layer = [p for p in cnn.parameters() if p.numel() == max(p.numel() for p in cnn.parameters())][0]\n",
    "biggest_layer.shape, cnn.fc_input_dim"
   ]
  },
  {
   "cell_type": "markdown",
   "metadata": {
    "id": "HSHdvEGptTFL"
   },
   "source": [
    "This layer dominates the cost of storing the network on disk.\n",
    "That makes it a common target for\n",
    "regularization techniques like DropOut\n",
    "(as in our architecture)\n",
    "and performance optimizations like\n",
    "[pruning](https://pytorch.org/tutorials/intermediate/pruning_tutorial.html).\n",
    "\n",
    "Heuristically, we often associated more parameters with more computation.\n",
    "But just because that layer has the most parameters\n",
    "does not mean that most of the compute time is spent in that layer.\n",
    "\n",
    "Convolutions reuse the same parameters over and over,\n",
    "so the total number of FLOPs done by the layer can be higher\n",
    "than that done by layers with more parameters --\n",
    "much higher."
   ]
  },
  {
   "cell_type": "code",
   "execution_count": 25,
   "metadata": {
    "id": "YLisj1SptTFL"
   },
   "outputs": [
    {
     "data": {
      "text/plain": [
       "1605632"
      ]
     },
     "execution_count": 25,
     "metadata": {},
     "output_type": "execute_result"
    }
   ],
   "source": [
    "# for the Linear layers, number of multiplications per input == nparams\n",
    "cnn.fc1.weight.numel()"
   ]
  },
  {
   "cell_type": "code",
   "execution_count": 26,
   "metadata": {
    "id": "Yo2oINHRtTFL"
   },
   "outputs": [],
   "source": [
    "# for the Conv2D layers, it's more complicated\n",
    "\n",
    "def approx_conv_multiplications(kernel_shape, input_size=(64, 28, 28)):  # this is a rough and dirty approximation\n",
    "    num_kernel_elements = 1\n",
    "    for dimension in kernel_shape[-3:]:\n",
    "        num_kernel_elements *= dimension\n",
    "    num_input_channels, num_kernels = input_size[0], kernel_shape[0]\n",
    "    num_spatial_applications = ((input_size[1] - kernel_shape[-2] + 1) * (input_size[2] - kernel_shape[-1] + 1))\n",
    "    mutliplications_per_kernel = num_spatial_applications * num_kernel_elements * num_input_channels\n",
    "    return mutliplications_per_kernel * num_kernels"
   ]
  },
  {
   "cell_type": "code",
   "execution_count": 27,
   "metadata": {
    "id": "LwCbZU9PtTFL"
   },
   "outputs": [
    {
     "data": {
      "text/plain": [
       "1594884096"
      ]
     },
     "execution_count": 27,
     "metadata": {},
     "output_type": "execute_result"
    }
   ],
   "source": [
    "approx_conv_multiplications(cnn.conv2.conv.weight.shape)"
   ]
  },
  {
   "cell_type": "code",
   "execution_count": 28,
   "metadata": {
    "id": "Sdco4m9UtTFL"
   },
   "outputs": [
    {
     "data": {
      "text/plain": [
       "993"
      ]
     },
     "execution_count": 28,
     "metadata": {},
     "output_type": "execute_result"
    }
   ],
   "source": [
    "# ratio of multiplications in the convolution to multiplications in the fully-connected layer is huge!\n",
    "approx_conv_multiplications(cnn.conv2.conv.weight.shape) // cnn.fc1.weight.numel()"
   ]
  },
  {
   "cell_type": "markdown",
   "metadata": {
    "id": "joVoBEtqtTFL"
   },
   "source": [
    "Depending on your compute hardware and the problem characteristics,\n",
    "either the MLP component or the convolutional component\n",
    "could become the critical bottleneck.\n",
    "\n",
    "When you're memory constrained, like when transferring a model \"over the wire\" to a browser,\n",
    "the MLP component is likely to be the bottleneck,\n",
    "whereas when you are compute-constrained, like when running a model on a low-power edge device\n",
    "or in an application with strict low-latency requirements,\n",
    "the convolutional component is likely to be the bottleneck.\n"
   ]
  },
  {
   "cell_type": "markdown",
   "metadata": {
    "id": "pGSyp67dtTFM"
   },
   "source": [
    "## Training a `CNN` on `EMNIST` with the Lightning `Trainer` and `run_experiment`"
   ]
  },
  {
   "cell_type": "markdown",
   "metadata": {
    "id": "AYTJs7snQfX0"
   },
   "source": [
    "We have a model and we have data,\n",
    "so we could just go ahead and start training in raw PyTorch,\n",
    "[as we did in Lab 01](https://fsdl.me/lab01-colab).\n",
    "\n",
    "But as we saw in that lab,\n",
    "there are good reasons to use a framework\n",
    "to organize training and provide fixed interfaces and abstractions.\n",
    "So we're going to use PyTorch Lightning, which is\n",
    "[covered in detail in Lab 02a](https://fsdl.me/lab02a-colab)."
   ]
  },
  {
   "cell_type": "markdown",
   "metadata": {
    "id": "hZYaJ4bdMcWc"
   },
   "source": [
    "We provide a simple script that implements a command line interface\n",
    "to training with PyTorch Lightning\n",
    "using the models and datasets in this repository:\n",
    "`training/run_experiment.py`."
   ]
  },
  {
   "cell_type": "code",
   "execution_count": 29,
   "metadata": {
    "id": "52kIYhPBPLNZ"
   },
   "outputs": [
    {
     "name": "stdout",
     "output_type": "stream",
     "text": [
      "usage: run_experiment.py [--logger [LOGGER]]\n",
      "                         [--checkpoint_callback [CHECKPOINT_CALLBACK]]\n",
      "                         [--enable_checkpointing [ENABLE_CHECKPOINTING]]\n",
      "                         [--default_root_dir DEFAULT_ROOT_DIR]\n",
      "                         [--gradient_clip_val GRADIENT_CLIP_VAL]\n",
      "                         [--gradient_clip_algorithm GRADIENT_CLIP_ALGORITHM]\n",
      "                         [--process_position PROCESS_POSITION]\n",
      "                         [--num_nodes NUM_NODES]\n",
      "                         [--num_processes NUM_PROCESSES] [--devices DEVICES]\n",
      "                         [--gpus GPUS] [--auto_select_gpus [AUTO_SELECT_GPUS]]\n",
      "                         [--tpu_cores TPU_CORES] [--ipus IPUS]\n",
      "                         [--log_gpu_memory LOG_GPU_MEMORY]\n",
      "                         [--progress_bar_refresh_rate PROGRESS_BAR_REFRESH_RATE]\n",
      "                         [--enable_progress_bar [ENABLE_PROGRESS_BAR]]\n",
      "                         [--overfit_batches OVERFIT_BATCHES]\n",
      "                         [--track_grad_norm TRACK_GRAD_NORM]\n",
      "                         [--check_val_every_n_epoch CHECK_VAL_EVERY_N_EPOCH]\n",
      "                         [--fast_dev_run [FAST_DEV_RUN]]\n",
      "                         [--accumulate_grad_batches ACCUMULATE_GRAD_BATCHES]\n",
      "                         [--max_epochs MAX_EPOCHS] [--min_epochs MIN_EPOCHS]\n",
      "                         [--max_steps MAX_STEPS] [--min_steps MIN_STEPS]\n",
      "                         [--max_time MAX_TIME]\n",
      "                         [--limit_train_batches LIMIT_TRAIN_BATCHES]\n",
      "                         [--limit_val_batches LIMIT_VAL_BATCHES]\n",
      "                         [--limit_test_batches LIMIT_TEST_BATCHES]\n",
      "                         [--limit_predict_batches LIMIT_PREDICT_BATCHES]\n",
      "                         [--val_check_interval VAL_CHECK_INTERVAL]\n",
      "                         [--flush_logs_every_n_steps FLUSH_LOGS_EVERY_N_STEPS]\n",
      "                         [--log_every_n_steps LOG_EVERY_N_STEPS]\n",
      "                         [--accelerator ACCELERATOR] [--strategy STRATEGY]\n",
      "                         [--sync_batchnorm [SYNC_BATCHNORM]]\n",
      "                         [--precision PRECISION]\n",
      "                         [--enable_model_summary [ENABLE_MODEL_SUMMARY]]\n",
      "                         [--weights_summary WEIGHTS_SUMMARY]\n",
      "                         [--weights_save_path WEIGHTS_SAVE_PATH]\n",
      "                         [--num_sanity_val_steps NUM_SANITY_VAL_STEPS]\n",
      "                         [--resume_from_checkpoint RESUME_FROM_CHECKPOINT]\n",
      "                         [--profiler PROFILER] [--benchmark [BENCHMARK]]\n",
      "                         [--deterministic [DETERMINISTIC]]\n",
      "                         [--reload_dataloaders_every_n_epochs RELOAD_DATALOADERS_EVERY_N_EPOCHS]\n",
      "                         [--auto_lr_find [AUTO_LR_FIND]]\n",
      "                         [--replace_sampler_ddp [REPLACE_SAMPLER_DDP]]\n",
      "                         [--detect_anomaly [DETECT_ANOMALY]]\n",
      "                         [--auto_scale_batch_size [AUTO_SCALE_BATCH_SIZE]]\n",
      "                         [--prepare_data_per_node [PREPARE_DATA_PER_NODE]]\n",
      "                         [--plugins PLUGINS] [--amp_backend AMP_BACKEND]\n",
      "                         [--amp_level AMP_LEVEL]\n",
      "                         [--move_metrics_to_cpu [MOVE_METRICS_TO_CPU]]\n",
      "                         [--multiple_trainloader_mode MULTIPLE_TRAINLOADER_MODE]\n",
      "                         [--stochastic_weight_avg [STOCHASTIC_WEIGHT_AVG]]\n",
      "                         [--terminate_on_nan [TERMINATE_ON_NAN]]\n",
      "                         [--data_class DATA_CLASS] [--model_class MODEL_CLASS]\n",
      "                         [--load_checkpoint LOAD_CHECKPOINT]\n",
      "                         [--stop_early STOP_EARLY] [--batch_size BATCH_SIZE]\n",
      "                         [--num_workers NUM_WORKERS] [--fc1 FC1] [--fc2 FC2]\n",
      "                         [--fc_dropout FC_DROPOUT] [--optimizer OPTIMIZER]\n",
      "                         [--lr LR] [--one_cycle_max_lr ONE_CYCLE_MAX_LR]\n",
      "                         [--one_cycle_total_steps ONE_CYCLE_TOTAL_STEPS]\n",
      "                         [--loss LOSS] [--help]\n",
      "\n",
      "optional arguments:\n",
      "  --data_class DATA_CLASS\n",
      "                        String identifier for the data class, relative to\n",
      "                        text_recognizer.data.\n",
      "  --model_class MODEL_CLASS\n",
      "                        String identifier for the model class, relative to\n",
      "                        text_recognizer.models.\n",
      "  --load_checkpoint LOAD_CHECKPOINT\n",
      "                        If passed, loads a model from the provided path.\n",
      "  --stop_early STOP_EARLY\n",
      "                        If non-zero, applies early stopping, with the provided\n",
      "                        value as the 'patience' argument. Default is 0.\n",
      "  --help, -h\n",
      "\n",
      "pl.Trainer:\n",
      "  --logger [LOGGER]     Logger (or iterable collection of loggers) for\n",
      "                        experiment tracking. A ``True`` value uses the default\n",
      "                        ``TensorBoardLogger``. ``False`` will disable logging.\n",
      "                        If multiple loggers are provided and the `save_dir`\n",
      "                        property of that logger is not set, local files\n",
      "                        (checkpoints, profiler traces, etc.) are saved in\n",
      "                        ``default_root_dir`` rather than in the ``log_dir`` of\n",
      "                        any of the individual loggers. Default: ``True``.\n",
      "  --checkpoint_callback [CHECKPOINT_CALLBACK]\n",
      "                        If ``True``, enable checkpointing. Default: ``None``.\n",
      "                        .. deprecated:: v1.5 ``checkpoint_callback`` has been\n",
      "                        deprecated in v1.5 and will be removed in v1.7. Please\n",
      "                        consider using ``enable_checkpointing`` instead.\n",
      "  --enable_checkpointing [ENABLE_CHECKPOINTING]\n",
      "                        If ``True``, enable checkpointing. It will configure a\n",
      "                        default ModelCheckpoint callback if there is no user-\n",
      "                        defined ModelCheckpoint in :paramref:`~pytorch_lightni\n",
      "                        ng.trainer.trainer.Trainer.callbacks`. Default:\n",
      "                        ``True``.\n",
      "  --default_root_dir DEFAULT_ROOT_DIR\n",
      "                        Default path for logs and weights when no\n",
      "                        logger/ckpt_callback passed. Default: ``os.getcwd()``.\n",
      "                        Can be remote file paths such as `s3://mybucket/path`\n",
      "                        or 'hdfs://path/'\n",
      "  --gradient_clip_val GRADIENT_CLIP_VAL\n",
      "                        The value at which to clip gradients. Passing\n",
      "                        ``gradient_clip_val=None`` disables gradient clipping.\n",
      "                        If using Automatic Mixed Precision (AMP), the\n",
      "                        gradients will be unscaled before. Default: ``None``.\n",
      "  --gradient_clip_algorithm GRADIENT_CLIP_ALGORITHM\n",
      "                        The gradient clipping algorithm to use. Pass\n",
      "                        ``gradient_clip_algorithm=\"value\"`` to clip by value,\n",
      "                        and ``gradient_clip_algorithm=\"norm\"`` to clip by\n",
      "                        norm. By default it will be set to ``\"norm\"``.\n",
      "  --process_position PROCESS_POSITION\n",
      "                        Orders the progress bar when running multiple models\n",
      "                        on same machine. .. deprecated:: v1.5\n",
      "                        ``process_position`` has been deprecated in v1.5 and\n",
      "                        will be removed in v1.7. Please pass :class:`~pytorch_\n",
      "                        lightning.callbacks.progress.TQDMProgressBar` with\n",
      "                        ``process_position`` directly to the Trainer's\n",
      "                        ``callbacks`` argument instead.\n",
      "  --num_nodes NUM_NODES\n",
      "                        Number of GPU nodes for distributed training. Default:\n",
      "                        ``1``.\n",
      "  --num_processes NUM_PROCESSES\n",
      "                        Number of processes for distributed training with\n",
      "                        ``accelerator=\"cpu\"``. Default: ``1``.\n",
      "  --devices DEVICES     Will be mapped to either `gpus`, `tpu_cores`,\n",
      "                        `num_processes` or `ipus`, based on the accelerator\n",
      "                        type.\n",
      "  --gpus GPUS           Number of GPUs to train on (int) or which GPUs to\n",
      "                        train on (list or str) applied per node Default:\n",
      "                        ``None``.\n",
      "  --auto_select_gpus [AUTO_SELECT_GPUS]\n",
      "                        If enabled and ``gpus`` or ``devices`` is an integer,\n",
      "                        pick available gpus automatically. This is especially\n",
      "                        useful when GPUs are configured to be in \"exclusive\n",
      "                        mode\", such that only one process at a time can access\n",
      "                        them. Default: ``False``.\n",
      "  --tpu_cores TPU_CORES\n",
      "                        How many TPU cores to train on (1 or 8) / Single TPU\n",
      "                        to train on (1) Default: ``None``.\n",
      "  --ipus IPUS           How many IPUs to train on. Default: ``None``.\n",
      "  --log_gpu_memory LOG_GPU_MEMORY\n",
      "                        None, 'min_max', 'all'. Might slow performance. ..\n",
      "                        deprecated:: v1.5 Deprecated in v1.5.0 and will be\n",
      "                        removed in v1.7.0 Please use the\n",
      "                        ``DeviceStatsMonitor`` callback directly instead.\n",
      "  --progress_bar_refresh_rate PROGRESS_BAR_REFRESH_RATE\n",
      "                        How often to refresh progress bar (in steps). Value\n",
      "                        ``0`` disables progress bar. Ignored when a custom\n",
      "                        progress bar is passed to\n",
      "                        :paramref:`~Trainer.callbacks`. Default: None, means a\n",
      "                        suitable value will be chosen based on the environment\n",
      "                        (terminal, Google COLAB, etc.). .. deprecated:: v1.5\n",
      "                        ``progress_bar_refresh_rate`` has been deprecated in\n",
      "                        v1.5 and will be removed in v1.7. Please pass :class:`\n",
      "                        ~pytorch_lightning.callbacks.progress.TQDMProgressBar`\n",
      "                        with ``refresh_rate`` directly to the Trainer's\n",
      "                        ``callbacks`` argument instead. To disable the\n",
      "                        progress bar, pass ``enable_progress_bar = False`` to\n",
      "                        the Trainer.\n",
      "  --enable_progress_bar [ENABLE_PROGRESS_BAR]\n",
      "                        Whether to enable to progress bar by default. Default:\n",
      "                        ``False``.\n",
      "  --overfit_batches OVERFIT_BATCHES\n",
      "                        Overfit a fraction of training data (float) or a set\n",
      "                        number of batches (int). Default: ``0.0``.\n",
      "  --track_grad_norm TRACK_GRAD_NORM\n",
      "                        -1 no tracking. Otherwise tracks that p-norm. May be\n",
      "                        set to 'inf' infinity-norm. If using Automatic Mixed\n",
      "                        Precision (AMP), the gradients will be unscaled before\n",
      "                        logging them. Default: ``-1``.\n",
      "  --check_val_every_n_epoch CHECK_VAL_EVERY_N_EPOCH\n",
      "                        Check val every n train epochs. Default: ``1``.\n",
      "  --fast_dev_run [FAST_DEV_RUN]\n",
      "                        Runs n if set to ``n`` (int) else 1 if set to ``True``\n",
      "                        batch(es) of train, val and test to find any bugs (ie:\n",
      "                        a sort of unit test). Default: ``False``.\n",
      "  --accumulate_grad_batches ACCUMULATE_GRAD_BATCHES\n",
      "                        Accumulates grads every k batches or as set up in the\n",
      "                        dict. Default: ``None``.\n",
      "  --max_epochs MAX_EPOCHS\n",
      "                        Stop training once this number of epochs is reached.\n",
      "                        Disabled by default (None). If both max_epochs and\n",
      "                        max_steps are not specified, defaults to ``max_epochs\n",
      "                        = 1000``. To enable infinite training, set\n",
      "                        ``max_epochs = -1``.\n",
      "  --min_epochs MIN_EPOCHS\n",
      "                        Force training for at least these many epochs.\n",
      "                        Disabled by default (None).\n",
      "  --max_steps MAX_STEPS\n",
      "                        Stop training after this number of steps. Disabled by\n",
      "                        default (-1). If ``max_steps = -1`` and ``max_epochs =\n",
      "                        None``, will default to ``max_epochs = 1000``. To\n",
      "                        enable infinite training, set ``max_epochs`` to\n",
      "                        ``-1``.\n",
      "  --min_steps MIN_STEPS\n",
      "                        Force training for at least these number of steps.\n",
      "                        Disabled by default (``None``).\n",
      "  --max_time MAX_TIME   Stop training after this amount of time has passed.\n",
      "                        Disabled by default (``None``). The time duration can\n",
      "                        be specified in the format DD:HH:MM:SS (days, hours,\n",
      "                        minutes seconds), as a :class:`datetime.timedelta`, or\n",
      "                        a dictionary with keys that will be passed to\n",
      "                        :class:`datetime.timedelta`.\n",
      "  --limit_train_batches LIMIT_TRAIN_BATCHES\n",
      "                        How much of training dataset to check (float =\n",
      "                        fraction, int = num_batches). Default: ``1.0``.\n",
      "  --limit_val_batches LIMIT_VAL_BATCHES\n",
      "                        How much of validation dataset to check (float =\n",
      "                        fraction, int = num_batches). Default: ``1.0``.\n",
      "  --limit_test_batches LIMIT_TEST_BATCHES\n",
      "                        How much of test dataset to check (float = fraction,\n",
      "                        int = num_batches). Default: ``1.0``.\n",
      "  --limit_predict_batches LIMIT_PREDICT_BATCHES\n",
      "                        How much of prediction dataset to check (float =\n",
      "                        fraction, int = num_batches). Default: ``1.0``.\n",
      "  --val_check_interval VAL_CHECK_INTERVAL\n",
      "                        How often to check the validation set. Pass a\n",
      "                        ``float`` in the range [0.0, 1.0] to check after a\n",
      "                        fraction of the training epoch. Pass an ``int`` to\n",
      "                        check after a fixed number of training batches.\n",
      "                        Default: ``1.0``.\n",
      "  --flush_logs_every_n_steps FLUSH_LOGS_EVERY_N_STEPS\n",
      "                        How often to flush logs to disk (defaults to every 100\n",
      "                        steps). .. deprecated:: v1.5\n",
      "                        ``flush_logs_every_n_steps`` has been deprecated in\n",
      "                        v1.5 and will be removed in v1.7. Please configure\n",
      "                        flushing directly in the logger instead.\n",
      "  --log_every_n_steps LOG_EVERY_N_STEPS\n",
      "                        How often to log within steps. Default: ``50``.\n",
      "  --accelerator ACCELERATOR\n",
      "                        Supports passing different accelerator types (\"cpu\",\n",
      "                        \"gpu\", \"tpu\", \"ipu\", \"hpu\", \"auto\") as well as custom\n",
      "                        accelerator instances. .. deprecated:: v1.5 Passing\n",
      "                        training strategies (e.g., 'ddp') to ``accelerator``\n",
      "                        has been deprecated in v1.5.0 and will be removed in\n",
      "                        v1.7.0. Please use the ``strategy`` argument instead.\n",
      "  --strategy STRATEGY   Supports different training strategies with aliases as\n",
      "                        well custom strategies. Default: ``None``.\n",
      "  --sync_batchnorm [SYNC_BATCHNORM]\n",
      "                        Synchronize batch norm layers between process\n",
      "                        groups/whole world. Default: ``False``.\n",
      "  --precision PRECISION\n",
      "                        Double precision (64), full precision (32), half\n",
      "                        precision (16) or bfloat16 precision (bf16). Can be\n",
      "                        used on CPU, GPU, TPUs, HPUs or IPUs. Default: ``32``.\n",
      "  --enable_model_summary [ENABLE_MODEL_SUMMARY]\n",
      "                        Whether to enable model summarization by default.\n",
      "                        Default: ``True``.\n",
      "  --weights_summary WEIGHTS_SUMMARY\n",
      "                        Prints a summary of the weights when training begins.\n",
      "                        .. deprecated:: v1.5 ``weights_summary`` has been\n",
      "                        deprecated in v1.5 and will be removed in v1.7. To\n",
      "                        disable the summary, pass ``enable_model_summary =\n",
      "                        False`` to the Trainer. To customize the summary, pass\n",
      "                        :class:`~pytorch_lightning.callbacks.model_summary.Mod\n",
      "                        elSummary` directly to the Trainer's ``callbacks``\n",
      "                        argument.\n",
      "  --weights_save_path WEIGHTS_SAVE_PATH\n",
      "                        Where to save weights if specified. Will override\n",
      "                        default_root_dir for checkpoints only. Use this if for\n",
      "                        whatever reason you need the checkpoints stored in a\n",
      "                        different place than the logs written in\n",
      "                        `default_root_dir`. Can be remote file paths such as\n",
      "                        `s3://mybucket/path` or 'hdfs://path/' Defaults to\n",
      "                        `default_root_dir`. .. deprecated:: v1.6\n",
      "                        ``weights_save_path`` has been deprecated in v1.6 and\n",
      "                        will be removed in v1.8. Please pass ``dirpath``\n",
      "                        directly to the :class:`~pytorch_lightning.callbacks.m\n",
      "                        odel_checkpoint.ModelCheckpoint` callback.\n",
      "  --num_sanity_val_steps NUM_SANITY_VAL_STEPS\n",
      "                        Sanity check runs n validation batches before starting\n",
      "                        the training routine. Set it to `-1` to run all\n",
      "                        batches in all validation dataloaders. Default: ``2``.\n",
      "  --resume_from_checkpoint RESUME_FROM_CHECKPOINT\n",
      "                        Path/URL of the checkpoint from which training is\n",
      "                        resumed. If there is no checkpoint file at the path,\n",
      "                        an exception is raised. If resuming from mid-epoch\n",
      "                        checkpoint, training will start from the beginning of\n",
      "                        the next epoch. .. deprecated:: v1.5\n",
      "                        ``resume_from_checkpoint`` is deprecated in v1.5 and\n",
      "                        will be removed in v2.0. Please pass the path to\n",
      "                        ``Trainer.fit(..., ckpt_path=...)`` instead.\n",
      "  --profiler PROFILER   To profile individual steps during training and assist\n",
      "                        in identifying bottlenecks. Default: ``None``.\n",
      "  --benchmark [BENCHMARK]\n",
      "                        Sets ``torch.backends.cudnn.benchmark``. Defaults to\n",
      "                        ``True`` if :paramref:`~pytorch_lightning.trainer.trai\n",
      "                        ner.Trainer.deterministic` is ``False``. Overwrite to\n",
      "                        manually set a different value. Default: ``None``.\n",
      "  --deterministic [DETERMINISTIC]\n",
      "                        If ``True``, sets whether PyTorch operations must use\n",
      "                        deterministic algorithms. Default: ``False``.\n",
      "  --reload_dataloaders_every_n_epochs RELOAD_DATALOADERS_EVERY_N_EPOCHS\n",
      "                        Set to a non-negative integer to reload dataloaders\n",
      "                        every n epochs. Default: ``0``.\n",
      "  --auto_lr_find [AUTO_LR_FIND]\n",
      "                        If set to True, will make trainer.tune() run a\n",
      "                        learning rate finder, trying to optimize initial\n",
      "                        learning for faster convergence. trainer.tune() method\n",
      "                        will set the suggested learning rate in self.lr or\n",
      "                        self.learning_rate in the LightningModule. To use a\n",
      "                        different key set a string instead of True with the\n",
      "                        key name. Default: ``False``.\n",
      "  --replace_sampler_ddp [REPLACE_SAMPLER_DDP]\n",
      "                        Explicitly enables or disables sampler replacement. If\n",
      "                        not specified this will toggled automatically when DDP\n",
      "                        is used. By default it will add ``shuffle=True`` for\n",
      "                        train sampler and ``shuffle=False`` for val/test\n",
      "                        sampler. If you want to customize it, you can set\n",
      "                        ``replace_sampler_ddp=False`` and add your own\n",
      "                        distributed sampler.\n",
      "  --detect_anomaly [DETECT_ANOMALY]\n",
      "                        Enable anomaly detection for the autograd engine.\n",
      "                        Default: ``False``.\n",
      "  --auto_scale_batch_size [AUTO_SCALE_BATCH_SIZE]\n",
      "                        If set to True, will `initially` run a batch size\n",
      "                        finder trying to find the largest batch size that fits\n",
      "                        into memory. The result will be stored in\n",
      "                        self.batch_size in the LightningModule. Additionally,\n",
      "                        can be set to either `power` that estimates the batch\n",
      "                        size through a power search or `binsearch` that\n",
      "                        estimates the batch size through a binary search.\n",
      "                        Default: ``False``.\n",
      "  --prepare_data_per_node [PREPARE_DATA_PER_NODE]\n",
      "                        If True, each LOCAL_RANK=0 will call prepare data.\n",
      "                        Otherwise only NODE_RANK=0, LOCAL_RANK=0 will prepare\n",
      "                        data .. deprecated:: v1.5 Deprecated in v1.5.0 and\n",
      "                        will be removed in v1.7.0 Please set\n",
      "                        ``prepare_data_per_node`` in ``LightningDataModule``\n",
      "                        and/or ``LightningModule`` directly instead.\n",
      "  --plugins PLUGINS     Plugins allow modification of core behavior like ddp\n",
      "                        and amp, and enable custom lightning plugins. Default:\n",
      "                        ``None``.\n",
      "  --amp_backend AMP_BACKEND\n",
      "                        The mixed precision backend to use (\"native\" or\n",
      "                        \"apex\"). Default: ``'native''``.\n",
      "  --amp_level AMP_LEVEL\n",
      "                        The optimization level to use (O1, O2, etc...). By\n",
      "                        default it will be set to \"O2\" if ``amp_backend`` is\n",
      "                        set to \"apex\".\n",
      "  --move_metrics_to_cpu [MOVE_METRICS_TO_CPU]\n",
      "                        Whether to force internal logged metrics to be moved\n",
      "                        to cpu. This can save some gpu memory, but can make\n",
      "                        training slower. Use with attention. Default:\n",
      "                        ``False``.\n",
      "  --multiple_trainloader_mode MULTIPLE_TRAINLOADER_MODE\n",
      "                        How to loop over the datasets when there are multiple\n",
      "                        train loaders. In 'max_size_cycle' mode, the trainer\n",
      "                        ends one epoch when the largest dataset is traversed,\n",
      "                        and smaller datasets reload when running out of their\n",
      "                        data. In 'min_size' mode, all the datasets reload when\n",
      "                        reaching the minimum length of datasets. Default:\n",
      "                        ``\"max_size_cycle\"``.\n",
      "  --stochastic_weight_avg [STOCHASTIC_WEIGHT_AVG]\n",
      "                        Whether to use `Stochastic Weight Averaging (SWA)\n",
      "                        <https://pytorch.org/blog/pytorch-1.6-now-includes-\n",
      "                        stochastic-weight-averaging/>`_. Default: ``False``.\n",
      "                        .. deprecated:: v1.5 ``stochastic_weight_avg`` has\n",
      "                        been deprecated in v1.5 and will be removed in v1.7.\n",
      "                        Please pass :class:`~pytorch_lightning.callbacks.stoch\n",
      "                        astic_weight_avg.StochasticWeightAveraging` directly\n",
      "                        to the Trainer's ``callbacks`` argument instead.\n",
      "  --terminate_on_nan [TERMINATE_ON_NAN]\n",
      "                        If set to True, will terminate training (by raising a\n",
      "                        `ValueError`) at the end of each training batch, if\n",
      "                        any of the parameters or the loss are NaN or +/-inf.\n",
      "                        .. deprecated:: v1.5 Trainer argument\n",
      "                        ``terminate_on_nan`` was deprecated in v1.5 and will\n",
      "                        be removed in 1.7. Please use ``detect_anomaly``\n",
      "                        instead.\n",
      "\n",
      "Data Args:\n",
      "  --batch_size BATCH_SIZE\n",
      "                        Number of examples to operate on per forward step.\n",
      "                        Default is 128.\n",
      "  --num_workers NUM_WORKERS\n",
      "                        Number of additional processes to load data. Default\n",
      "                        is 12.\n",
      "\n",
      "Model Args:\n",
      "  --fc1 FC1\n",
      "  --fc2 FC2\n",
      "  --fc_dropout FC_DROPOUT\n",
      "\n",
      "LitModel Args:\n",
      "  --optimizer OPTIMIZER\n",
      "                        optimizer class from torch.optim\n",
      "  --lr LR\n",
      "  --one_cycle_max_lr ONE_CYCLE_MAX_LR\n",
      "  --one_cycle_total_steps ONE_CYCLE_TOTAL_STEPS\n",
      "  --loss LOSS           loss function from torch.nn.functional\n"
     ]
    }
   ],
   "source": [
    "%run training/run_experiment.py --help"
   ]
  },
  {
   "cell_type": "markdown",
   "metadata": {
    "id": "rkM_HpILSyC9"
   },
   "source": [
    "The `pl.Trainer` arguments come first\n",
    "and there\n",
    "[are a lot of them](https://pytorch-lightning.readthedocs.io/en/1.6.3/common/trainer.html),\n",
    "so if we want to see what's configurable for\n",
    "our `Model` or our `LitModel`,\n",
    "we want the last few dozen lines of the help message:"
   ]
  },
  {
   "cell_type": "code",
   "execution_count": 30,
   "metadata": {
    "id": "G0dBhgogO8_A"
   },
   "outputs": [
    {
     "name": "stdout",
     "output_type": "stream",
     "text": [
      "Traceback (most recent call last):\r\n",
      "  File \"/home/terps/.git/fsdl-text-recognizer-2022-labs/lab02/training/run_experiment.py\", line 6, in <module>\r\n",
      "    import pytorch_lightning as pl\r\n",
      "ModuleNotFoundError: No module named 'pytorch_lightning'\r\n"
     ]
    }
   ],
   "source": [
    "!python training/run_experiment.py --help --model_class CNN --data_class EMNIST  | tail -n 25"
   ]
  },
  {
   "cell_type": "markdown",
   "metadata": {
    "id": "NCBQekrPRt90"
   },
   "source": [
    "The `run_experiment.py` file is also importable as a module,\n",
    "so that you can inspect its contents\n",
    "and play with its component functions in a notebook."
   ]
  },
  {
   "cell_type": "code",
   "execution_count": 31,
   "metadata": {
    "id": "CPumvYatPaiS"
   },
   "outputs": [
    {
     "name": "stdout",
     "output_type": "stream",
     "text": [
      "\n",
      "    Run an experiment.\n",
      "\n",
      "    Sample command:\n",
      "    ```\n",
      "    python training/run_experiment.py --max_epochs=3 --gpus='0,' --num_workers=20 --model_class=MLP --data_class=MNIST\n",
      "    ```\n",
      "\n",
      "    For basic help documentation, run the command\n",
      "    ```\n",
      "    python training/run_experiment.py --help\n",
      "    ```\n",
      "\n",
      "    The available command line args differ depending on some of the arguments, including --model_class and --data_class.\n",
      "\n",
      "    To see which command line args are available and read their documentation, provide values for those arguments\n",
      "    before invoking --help, like so:\n",
      "    ```\n",
      "    python training/run_experiment.py --model_class=MLP --data_class=MNIST --help\n",
      "    \n"
     ]
    }
   ],
   "source": [
    "import training.run_experiment\n",
    "\n",
    "\n",
    "print(training.run_experiment.main.__doc__)"
   ]
  },
  {
   "cell_type": "markdown",
   "metadata": {
    "id": "YiZ3RwW2UzJm"
   },
   "source": [
    "Let's run training!\n",
    "\n",
    "Execute the cell below to launch a training job for a CNN on EMNIST with default arguments.\n",
    "\n",
    "This will take several minutes on commodity hardware,\n",
    "so feel free to keep reading while it runs."
   ]
  },
  {
   "cell_type": "code",
   "execution_count": 32,
   "metadata": {
    "id": "5RSJM5I2TSeG",
    "scrolled": true
   },
   "outputs": [
    {
     "name": "stderr",
     "output_type": "stream",
     "text": [
      "Trainer already configured with model summary callbacks: [<class 'pytorch_lightning.callbacks.model_summary.ModelSummary'>]. Skipping setting a default `ModelSummary` callback.\n",
      "GPU available: True, used: True\n",
      "TPU available: False, using: 0 TPU cores\n",
      "IPU available: False, using: 0 IPUs\n",
      "HPU available: False, using: 0 HPUs\n",
      "LOCAL_RANK: 0 - CUDA_VISIBLE_DEVICES: [0]\n",
      "\n",
      "  | Name           | Type      | Params\n",
      "---------------------------------------------\n",
      "0 | model          | CNN       | 1.7 M \n",
      "1 | model.conv1    | ConvBlock | 640   \n",
      "2 | model.conv2    | ConvBlock | 36.9 K\n",
      "3 | model.dropout  | Dropout   | 0     \n",
      "4 | model.max_pool | MaxPool2d | 0     \n",
      "5 | model.fc1      | Linear    | 1.6 M \n",
      "6 | model.fc2      | Linear    | 10.7 K\n",
      "7 | train_acc      | Accuracy  | 0     \n",
      "8 | val_acc        | Accuracy  | 0     \n",
      "9 | test_acc       | Accuracy  | 0     \n",
      "---------------------------------------------\n",
      "1.7 M     Trainable params\n",
      "0         Non-trainable params\n",
      "1.7 M     Total params\n",
      "6.616     Total estimated model params size (MB)\n"
     ]
    },
    {
     "data": {
      "application/vnd.jupyter.widget-view+json": {
       "model_id": "",
       "version_major": 2,
       "version_minor": 0
      },
      "text/plain": [
       "Sanity Checking: 0it [00:00, ?it/s]"
      ]
     },
     "metadata": {},
     "output_type": "display_data"
    },
    {
     "data": {
      "application/vnd.jupyter.widget-view+json": {
       "model_id": "0a8b2951aeea4b55bea109a5f48f6e32",
       "version_major": 2,
       "version_minor": 0
      },
      "text/plain": [
       "Training: 0it [00:00, ?it/s]"
      ]
     },
     "metadata": {},
     "output_type": "display_data"
    },
    {
     "data": {
      "application/vnd.jupyter.widget-view+json": {
       "model_id": "",
       "version_major": 2,
       "version_minor": 0
      },
      "text/plain": [
       "Validation: 0it [00:00, ?it/s]"
      ]
     },
     "metadata": {},
     "output_type": "display_data"
    },
    {
     "name": "stderr",
     "output_type": "stream",
     "text": [
      "LOCAL_RANK: 0 - CUDA_VISIBLE_DEVICES: [0]\n"
     ]
    },
    {
     "data": {
      "application/vnd.jupyter.widget-view+json": {
       "model_id": "53cfe60474c946da8f1b0667804c17d4",
       "version_major": 2,
       "version_minor": 0
      },
      "text/plain": [
       "Testing: 0it [00:00, ?it/s]"
      ]
     },
     "metadata": {},
     "output_type": "display_data"
    },
    {
     "name": "stderr",
     "output_type": "stream",
     "text": [
      "Best model saved at: /home/terps/.git/fsdl-text-recognizer-2022-labs/lab02/training/logs/lightning_logs/version_3/epoch=0000-validation.loss=0.578.ckpt\n"
     ]
    },
    {
     "name": "stdout",
     "output_type": "stream",
     "text": [
      "────────────────────────────────────────────────────────────────────────────────────────────────────────────────────────\n",
      "       Test metric             DataLoader 0\n",
      "────────────────────────────────────────────────────────────────────────────────────────────────────────────────────────\n",
      "        test/acc            0.7825813293457031\n",
      "        test/loss           0.5815203785896301\n",
      "────────────────────────────────────────────────────────────────────────────────────────────────────────────────────────\n"
     ]
    }
   ],
   "source": [
    "gpus = int(torch.cuda.is_available())  # use GPUs if they're available\n",
    "\n",
    "%run training/run_experiment.py --model_class CNN --data_class EMNIST --gpus {gpus}"
   ]
  },
  {
   "cell_type": "markdown",
   "metadata": {
    "id": "_ayQ4ByJOnnP"
   },
   "source": [
    "The first thing you'll see are a few logger messages from Lightning,\n",
    "then some info about the hardware you have available and are using."
   ]
  },
  {
   "cell_type": "markdown",
   "metadata": {
    "id": "VcMrZcecO1EF"
   },
   "source": [
    "Then you'll see a summary of your model,\n",
    "including module names, parameter counts,\n",
    "and information about model disk size.\n",
    "\n",
    "`torchmetrics` show up here as well,\n",
    "since they are also `nn.Module`s.\n",
    "See [Lab 02a](https://fsdl.me/lab02a-colab)\n",
    "for details.\n",
    "We're tracking accuracy on training, validation, and test sets."
   ]
  },
  {
   "cell_type": "markdown",
   "metadata": {
    "id": "twGp9iWOUSfc"
   },
   "source": [
    "You may also see a quick message in the terminal\n",
    "referencing a \"validation sanity check\".\n",
    "PyTorch Lightning runs a few batches of validation data\n",
    "through the model before the first training epoch.\n",
    "This helps prevent training runs from crashing\n",
    "at the end of the first epoch,\n",
    "which is otherwise the first time validation loops are triggered\n",
    "and is sometimes hours into training,\n",
    "by crashing them quickly at the start.\n",
    "\n",
    "If you want to turn off the check,\n",
    "use `--num_sanity_val_steps=0`."
   ]
  },
  {
   "cell_type": "markdown",
   "metadata": {
    "id": "jnKN3_MiRpE4"
   },
   "source": [
    "Then, you'll see a bar indicating\n",
    "progress through the training epoch,\n",
    "alongside metrics like throughput and loss.\n",
    "\n",
    "When the first (and only) epoch ends,\n",
    "the model is run on the validation set\n",
    "and aggregate loss and accuracy are reported to the console."
   ]
  },
  {
   "cell_type": "markdown",
   "metadata": {
    "id": "R2eMZz_HR8vV"
   },
   "source": [
    "At the end of training,\n",
    "we call `Trainer.test`\n",
    "to check performance on the test set.\n",
    "\n",
    "We typically see test accuracy around 75-80%"
   ]
  },
  {
   "cell_type": "markdown",
   "metadata": {
    "id": "ybpLiKBKSDXI"
   },
   "source": [
    "During training, PyTorch Lightning saves _checkpoints_\n",
    "(file extension `.ckpt`)\n",
    "that can be used to restart training.\n",
    "\n",
    "The final line output by `run_experiment`\n",
    "indicates where the model with the best performance\n",
    "on the validation set has been saved.\n",
    "\n",
    "The checkpointing behavior is configured using a\n",
    "[`ModelCheckpoint` callback](https://pytorch-lightning.readthedocs.io/en/1.6.3/api/pytorch_lightning.callbacks.ModelCheckpoint.html).\n",
    "The `run_experiment` script picks sensible defaults.\n",
    "\n",
    "These checkpoints contain the model weights.\n",
    "We can use them to los the model in the notebook and play around with it."
   ]
  },
  {
   "cell_type": "code",
   "execution_count": 33,
   "metadata": {
    "id": "3Rqh9ZQsY8g4"
   },
   "outputs": [
    {
     "data": {
      "text/plain": [
       "'training/logs/lightning_logs/version_3/epoch=0000-validation.loss=0.578.ckpt'"
      ]
     },
     "execution_count": 33,
     "metadata": {},
     "output_type": "execute_result"
    }
   ],
   "source": [
    "# we use a sequence of bash commands to get the latest checkpoint's filename\n",
    "#  by hand, you can just copy and paste it\n",
    "\n",
    "list_all_log_files = \"find training/logs/lightning_logs\"  # find avoids issues with \\n in filenames\n",
    "filter_to_ckpts = \"grep \\.ckpt$\"  # regex match on end of line\n",
    "sort_version_descending = \"sort -Vr\"  # uses \"version\" sorting (-V) and reverses (-r)\n",
    "take_first = \"head -n 1\"  # the first n elements, n=1\n",
    "\n",
    "latest_ckpt, = ! {list_all_log_files} | {filter_to_ckpts} | {sort_version_descending} | {take_first}\n",
    "latest_ckpt"
   ]
  },
  {
   "cell_type": "markdown",
   "metadata": {
    "id": "7QW_CxR3coV6"
   },
   "source": [
    "To rebuild the model,\n",
    "we need to consider some implementation details of the `run_experiment` script.\n",
    "\n",
    "We use the parsed command line arguments, the `args`, to build the data and model,\n",
    "then use all three to build the `LightningModule`.\n",
    "\n",
    "Any `LightningModule` can be reinstantiated from a checkpoint\n",
    "using the `load_from_checkpoint` method,\n",
    "but we'll need to recreate and pass the `args`\n",
    "in order to reload the model.\n",
    "(We'll see how this can be automated later)."
   ]
  },
  {
   "cell_type": "code",
   "execution_count": 34,
   "metadata": {
    "id": "oVWEHcgvaSqZ"
   },
   "outputs": [],
   "source": [
    "import training.util\n",
    "from argparse import Namespace\n",
    "\n",
    "\n",
    "# if you change around model/data args in the command above, add them here\n",
    "#  tip: define the arguments as variables, like we've done for gpus\n",
    "#       and then add those variables to this dict so you don't need to\n",
    "#       remember to update/copy+paste\n",
    "\n",
    "args = Namespace(**{\n",
    "    \"model_class\": \"CNN\",\n",
    "    \"data_class\": \"EMNIST\"})\n",
    "\n",
    "\n",
    "_, cnn = training.util.setup_data_and_model_from_args(args)\n",
    "\n",
    "reloaded_model = text_recognizer.lit_models.BaseLitModel.load_from_checkpoint(\n",
    "   latest_ckpt, args=args, model=cnn)"
   ]
  },
  {
   "cell_type": "markdown",
   "metadata": {
    "id": "MynyI_eUcixa"
   },
   "source": [
    "With the model reloads, we can run it on some sample data\n",
    "and see how it's doing:"
   ]
  },
  {
   "cell_type": "code",
   "execution_count": 35,
   "metadata": {
    "id": "L0HCxgVwcRAA"
   },
   "outputs": [
    {
     "name": "stdout",
     "output_type": "stream",
     "text": [
      "output: b\n"
     ]
    },
    {
     "data": {
      "image/png": "[encoded data removed]",
      "text/plain": [
       "<PIL.PngImagePlugin.PngImageFile image mode=RGB size=28x28 at 0x7FB818F25550>"
      ]
     },
     "execution_count": 35,
     "metadata": {},
     "output_type": "execute_result"
    }
   ],
   "source": [
    "idx = random.randint(0, len(xs) - 1)\n",
    "outs = reloaded_model(xs[idx:idx+1])\n",
    "\n",
    "print(\"output:\", emnist.mapping[torch.argmax(outs)])\n",
    "wandb.Image(xs[idx]).image"
   ]
  },
  {
   "cell_type": "markdown",
   "metadata": {
    "id": "G6NtaHuVdfqt"
   },
   "source": [
    "I generally see subjectively good performance --\n",
    "without seeing the labels, I tend to agree with the model's output\n",
    "more often than the accuracy would suggest,\n",
    "since some classes, like c and C or o, O, and 0,\n",
    "are essentially indistinguishable."
   ]
  },
  {
   "cell_type": "markdown",
   "metadata": {
    "id": "5ZzcDcxpVkki"
   },
   "source": [
    "We can continue a promising training run from the checkpoint.\n",
    "Run the cell below to train the model just trained above\n",
    "for another epoch.\n",
    "Note that the training loss starts out closs to where it ended\n",
    "in the previous run.\n",
    "\n",
    "Paired with cloud storage of checkpoints,\n",
    "this makes it possible to use\n",
    "[a cheaper type of cloud instance](https://cloud.google.com/blog/products/ai-machine-learning/reduce-the-costs-of-ml-workflows-with-preemptible-vms-and-gpus)\n",
    "that can be pre-empted by someone willing to pay more,\n",
    "which terminates your job.\n",
    "It's also helpful when using Google Colab for more serious projects --\n",
    "your training runs are no longer bound by the maximum uptime of a Colab notebook."
   ]
  },
  {
   "cell_type": "code",
   "execution_count": 36,
   "metadata": {
    "id": "skqdikNtVnaf"
   },
   "outputs": [
    {
     "name": "stderr",
     "output_type": "stream",
     "text": [
      "Trainer already configured with model summary callbacks: [<class 'pytorch_lightning.callbacks.model_summary.ModelSummary'>]. Skipping setting a default `ModelSummary` callback.\n",
      "GPU available: True, used: True\n",
      "TPU available: False, using: 0 TPU cores\n",
      "IPU available: False, using: 0 IPUs\n",
      "HPU available: False, using: 0 HPUs\n",
      "LOCAL_RANK: 0 - CUDA_VISIBLE_DEVICES: [0]\n",
      "\n",
      "  | Name           | Type      | Params\n",
      "---------------------------------------------\n",
      "0 | model          | CNN       | 1.7 M \n",
      "1 | model.conv1    | ConvBlock | 640   \n",
      "2 | model.conv2    | ConvBlock | 36.9 K\n",
      "3 | model.dropout  | Dropout   | 0     \n",
      "4 | model.max_pool | MaxPool2d | 0     \n",
      "5 | model.fc1      | Linear    | 1.6 M \n",
      "6 | model.fc2      | Linear    | 10.7 K\n",
      "7 | train_acc      | Accuracy  | 0     \n",
      "8 | val_acc        | Accuracy  | 0     \n",
      "9 | test_acc       | Accuracy  | 0     \n",
      "---------------------------------------------\n",
      "1.7 M     Trainable params\n",
      "0         Non-trainable params\n",
      "1.7 M     Total params\n",
      "6.616     Total estimated model params size (MB)\n"
     ]
    },
    {
     "data": {
      "application/vnd.jupyter.widget-view+json": {
       "model_id": "",
       "version_major": 2,
       "version_minor": 0
      },
      "text/plain": [
       "Sanity Checking: 0it [00:00, ?it/s]"
      ]
     },
     "metadata": {},
     "output_type": "display_data"
    },
    {
     "data": {
      "application/vnd.jupyter.widget-view+json": {
       "model_id": "c84d7a269d1e4105b8e52fcf0cdcccb8",
       "version_major": 2,
       "version_minor": 0
      },
      "text/plain": [
       "Training: 0it [00:00, ?it/s]"
      ]
     },
     "metadata": {},
     "output_type": "display_data"
    },
    {
     "data": {
      "application/vnd.jupyter.widget-view+json": {
       "model_id": "",
       "version_major": 2,
       "version_minor": 0
      },
      "text/plain": [
       "Validation: 0it [00:00, ?it/s]"
      ]
     },
     "metadata": {},
     "output_type": "display_data"
    },
    {
     "name": "stderr",
     "output_type": "stream",
     "text": [
      "LOCAL_RANK: 0 - CUDA_VISIBLE_DEVICES: [0]\n"
     ]
    },
    {
     "data": {
      "application/vnd.jupyter.widget-view+json": {
       "model_id": "237c8fd4780d4305aca7e334a61e9197",
       "version_major": 2,
       "version_minor": 0
      },
      "text/plain": [
       "Testing: 0it [00:00, ?it/s]"
      ]
     },
     "metadata": {},
     "output_type": "display_data"
    },
    {
     "name": "stderr",
     "output_type": "stream",
     "text": [
      "Best model saved at: /home/terps/.git/fsdl-text-recognizer-2022-labs/lab02/training/logs/lightning_logs/version_4/epoch=0000-validation.loss=0.531.ckpt\n"
     ]
    },
    {
     "name": "stdout",
     "output_type": "stream",
     "text": [
      "────────────────────────────────────────────────────────────────────────────────────────────────────────────────────────\n",
      "       Test metric             DataLoader 0\n",
      "────────────────────────────────────────────────────────────────────────────────────────────────────────────────────────\n",
      "        test/acc            0.7950841188430786\n",
      "        test/loss           0.5332801342010498\n",
      "────────────────────────────────────────────────────────────────────────────────────────────────────────────────────────\n"
     ]
    }
   ],
   "source": [
    "latest_ckpt, = ! {list_all_log_files} | {filter_to_ckpts} | {sort_version_descending} | {take_first}\n",
    "\n",
    "\n",
    "# and we can change the training hyperparameters, like batch size\n",
    "%run training/run_experiment.py --model_class CNN --data_class EMNIST --gpus {gpus} \\\n",
    "  --batch_size 64 --load_checkpoint {latest_ckpt}"
   ]
  },
  {
   "cell_type": "markdown",
   "metadata": {
    "id": "HBdNt6Z2tTFM"
   },
   "source": [
    "# Creating lines of text from handwritten characters: `EMNISTLines`"
   ]
  },
  {
   "cell_type": "markdown",
   "metadata": {
    "id": "FevtQpeDtTFM"
   },
   "source": [
    "We've got a training pipeline for our model and our data,\n",
    "and we can use that to make the loss go down\n",
    "and get better at the task.\n",
    "But the problem we're solving not obviously useful:\n",
    "the model is just learning how to handle\n",
    "centered, high-contrast, isolated characters.\n",
    "\n",
    "To make this work in a text recognition application,\n",
    "we would need a component to first pull out characters like that from images.\n",
    "That task is probably harder than the one we're currently learning.\n",
    "Plus, splitting into two separate components is against the ethos of deep learning,\n",
    "which operates \"end-to-end\".\n",
    "\n",
    "Let's kick the realism up one notch by building lines of text out of our characters:\n",
    "_synthesizing_ data for our model."
   ]
  },
  {
   "cell_type": "markdown",
   "metadata": {
    "id": "dH7i4JhWe7ch"
   },
   "source": [
    "Synthetic data is generally useful for augmenting limited real data.\n",
    "By construction we know the labels, since we created the data.\n",
    "Often, we can track covariates,\n",
    "like lighting features or subclass membership,\n",
    "that aren't always available in our labels."
   ]
  },
  {
   "cell_type": "markdown",
   "metadata": {
    "id": "TrQ_44TIe39m"
   },
   "source": [
    "To build fake handwriting,\n",
    "we'll combine two things:\n",
    "real handwritten letters and real text.\n",
    "\n",
    "We generate our fake text by drawing from the\n",
    "[Brown corpus](https://en.wikipedia.org/wiki/Brown_Corpus)\n",
    "provided by the [`n`atural `l`anguage `t`ool`k`it](https://www.nltk.org/) library.\n",
    "\n",
    "First, we download that corpus."
   ]
  },
  {
   "cell_type": "code",
   "execution_count": 37,
   "metadata": {
    "id": "gtSg7Y8Ydxpa"
   },
   "outputs": [
    {
     "data": {
      "text/plain": [
       "'Generate text sentences using the Brown corpus.'"
      ]
     },
     "execution_count": 37,
     "metadata": {},
     "output_type": "execute_result"
    }
   ],
   "source": [
    "from text_recognizer.data.sentence_generator import SentenceGenerator\n",
    "\n",
    "sentence_generator = SentenceGenerator()\n",
    "\n",
    "SentenceGenerator.__doc__"
   ]
  },
  {
   "cell_type": "markdown",
   "metadata": {
    "id": "yal5eHk-aB4i"
   },
   "source": [
    "We can generate short snippets of text from the corpus with the `SentenceGenerator`:"
   ]
  },
  {
   "cell_type": "code",
   "execution_count": 38,
   "metadata": {
    "id": "eRg_C1TYzwKX"
   },
   "outputs": [
    {
     "name": "stdout",
     "output_type": "stream",
     "text": [
      "phase\n",
      "Within\n",
      "either\n",
      "the\n"
     ]
    }
   ],
   "source": [
    "print(*[sentence_generator.generate(max_length=16) for _ in range(4)], sep=\"\\n\")"
   ]
  },
  {
   "cell_type": "markdown",
   "metadata": {
    "id": "JGsBuMICaXnM"
   },
   "source": [
    "We use another `DataModule` to pick out the needed handwritten characters from `EMNIST`\n",
    "and glue them together into images containing the generated text."
   ]
  },
  {
   "cell_type": "code",
   "execution_count": 39,
   "metadata": {
    "id": "YtsGfSu6dpZ9"
   },
   "outputs": [
    {
     "data": {
      "text/plain": [
       "'EMNIST Lines dataset: synthetic handwriting lines dataset made from EMNIST characters.'"
      ]
     },
     "execution_count": 39,
     "metadata": {},
     "output_type": "execute_result"
    }
   ],
   "source": [
    "emnist_lines = text_recognizer.data.EMNISTLines()  # configure\n",
    "emnist_lines.__doc__"
   ]
  },
  {
   "cell_type": "markdown",
   "metadata": {
    "id": "dik_SyEdb0st"
   },
   "source": [
    "This can take several minutes when first run,\n",
    "but afterwards data is persisted to disk."
   ]
  },
  {
   "cell_type": "code",
   "execution_count": 40,
   "metadata": {
    "id": "SofIYHOUtTFM"
   },
   "outputs": [
    {
     "name": "stdout",
     "output_type": "stream",
     "text": [
      "EMNISTLinesDataset loading data from HDF5...\n"
     ]
    },
    {
     "data": {
      "text/plain": [
       "EMNIST Lines Dataset\n",
       "Min overlap: 0\n",
       "Max overlap: 0.33\n",
       "Num classes: 83\n",
       "Dims: (1, 28, 896)\n",
       "Output dims: (32, 1)\n",
       "Train/val/test sizes: 10000, 2000, 2000\n",
       "Batch x stats: (torch.Size([128, 1, 28, 896]), torch.float32, 0.0, 0.07364349812269211, 0.23208004236221313, 1.0)\n",
       "Batch y stats: (torch.Size([128, 32]), torch.int64, 3, 66)"
      ]
     },
     "execution_count": 40,
     "metadata": {},
     "output_type": "execute_result"
    }
   ],
   "source": [
    "emnist_lines.prepare_data()  # download, save to disk\n",
    "emnist_lines.setup()  # create torch.utils.data.Datasets, do train/val split\n",
    "emnist_lines"
   ]
  },
  {
   "cell_type": "markdown",
   "metadata": {
    "id": "axESuV1SeoM6"
   },
   "source": [
    "Again, we're using the `LightningDataModule` interface\n",
    "to organize our data prep,\n",
    "so we can now fetch a batch and take a look at some data."
   ]
  },
  {
   "cell_type": "code",
   "execution_count": 41,
   "metadata": {
    "id": "1J7f2I9ggBi-"
   },
   "outputs": [
    {
     "data": {
      "text/plain": [
       "(torch.Size([128, 1, 28, 896]), torch.Size([128, 32]))"
      ]
     },
     "execution_count": 41,
     "metadata": {},
     "output_type": "execute_result"
    }
   ],
   "source": [
    "line_xs, line_ys = next(iter(emnist_lines.val_dataloader()))\n",
    "line_xs.shape, line_ys.shape"
   ]
  },
  {
   "cell_type": "code",
   "execution_count": 42,
   "metadata": {
    "id": "B0yHgbW2gHgP"
   },
   "outputs": [
    {
     "name": "stdout",
     "output_type": "stream",
     "text": [
      "i-f- -h-e- -s-u-r-r-e-n-d-e-r-e-d-<P>-<P>-<P>-<P>-<P>-<P>-<P>-<P>-<P>-<P>-<P>-<P>-<P>-<P>-<P>\n"
     ]
    },
    {
     "data": {
      "image/png": "[encoded data removed]",
      "text/plain": [
       "<PIL.PngImagePlugin.PngImageFile image mode=RGB size=896x28 at 0x7FB818F257D0>"
      ]
     },
     "execution_count": 42,
     "metadata": {},
     "output_type": "execute_result"
    }
   ],
   "source": [
    "def read_line_labels(labels):\n",
    "    return [emnist_lines.mapping[label] for label in labels]\n",
    "\n",
    "idx = random.randint(0, len(line_xs) - 1)\n",
    "\n",
    "print(\"-\".join(read_line_labels(line_ys[idx])))\n",
    "wandb.Image(line_xs[idx]).image"
   ]
  },
  {
   "cell_type": "markdown",
   "metadata": {
    "id": "xirEmNPNtTFM"
   },
   "source": [
    "The result looks\n",
    "[kind of like a ransom note](https://tvtropes.org/pmwiki/pmwiki.php/Main/CutAndPasteNote)\n",
    "and is not yet anywhere near realistic, even for single lines --\n",
    "letters don't overlap, the exact same handwritten letter is repeated\n",
    "if the character appears more than once in the snippet --\n",
    "but it's a start."
   ]
  },
  {
   "cell_type": "markdown",
   "metadata": {
    "id": "eRWbSzkotTFM"
   },
   "source": [
    "# Applying CNNs to handwritten text: `LineCNNSimple`"
   ]
  },
  {
   "cell_type": "markdown",
   "metadata": {
    "id": "pzwYBv82tTFM"
   },
   "source": [
    "The `LineCNNSimple` class builds on the `CNN` class and can be applied to this dataset."
   ]
  },
  {
   "cell_type": "code",
   "execution_count": 43,
   "metadata": {
    "id": "ZqeImjd2lF7p"
   },
   "outputs": [
    {
     "data": {
      "text/plain": [
       "LineCNNSimple(\n",
       "  (cnn): CNN(\n",
       "    (conv1): ConvBlock(\n",
       "      (conv): Conv2d(1, 64, kernel_size=(3, 3), stride=(1, 1), padding=(1, 1))\n",
       "      (relu): ReLU()\n",
       "    )\n",
       "    (conv2): ConvBlock(\n",
       "      (conv): Conv2d(64, 64, kernel_size=(3, 3), stride=(1, 1), padding=(1, 1))\n",
       "      (relu): ReLU()\n",
       "    )\n",
       "    (dropout): Dropout(p=0.25, inplace=False)\n",
       "    (max_pool): MaxPool2d(kernel_size=2, stride=2, padding=0, dilation=1, ceil_mode=False)\n",
       "    (fc1): Linear(in_features=12544, out_features=128, bias=True)\n",
       "    (fc2): Linear(in_features=128, out_features=83, bias=True)\n",
       "  )\n",
       ")"
      ]
     },
     "execution_count": 43,
     "metadata": {},
     "output_type": "execute_result"
    }
   ],
   "source": [
    "line_cnn = text_recognizer.models.LineCNNSimple(emnist_lines.config())\n",
    "line_cnn"
   ]
  },
  {
   "cell_type": "markdown",
   "metadata": {
    "id": "Hi6g0acoxJO4"
   },
   "source": [
    "The `nn.Module`s look much the same,\n",
    "but the way they are used is different,\n",
    "which we can see by examining the `.forward` method:"
   ]
  },
  {
   "cell_type": "code",
   "execution_count": 52,
   "metadata": {
    "id": "Qg3UJhibxHfC"
   },
   "outputs": [],
   "source": [
    "line_cnn.forward??"
   ]
  },
  {
   "cell_type": "markdown",
   "metadata": {
    "id": "LAW7EWVlxMhd"
   },
   "source": [
    "The `CNN`, which operates on square images,\n",
    "is applied to our wide image repeatedly,\n",
    "slid over by the `W`indow `S`ize each time.\n",
    "We effectively convolve the network with the input image.\n",
    "\n",
    "Like our synthetic data, it is crude\n",
    "but it's enough to get started."
   ]
  },
  {
   "cell_type": "code",
   "execution_count": 45,
   "metadata": {
    "id": "FU4J13yLisiC"
   },
   "outputs": [
    {
     "name": "stdout",
     "output_type": "stream",
     "text": [
      "s-H-H-q-K-K-H-K-K-H-H-H-N-H-N-H-H-q-N-q-N-N-N-N-H-H-H-H-N-K-q-H\n"
     ]
    },
    {
     "data": {
      "image/png": "[encoded data removed]",
      "text/plain": [
       "<PIL.PngImagePlugin.PngImageFile image mode=RGB size=896x28 at 0x7FB849DC4390>"
      ]
     },
     "execution_count": 45,
     "metadata": {},
     "output_type": "execute_result"
    }
   ],
   "source": [
    "idx = random.randint(0, len(line_xs) - 1)\n",
    "\n",
    "outs, = line_cnn(line_xs[idx:idx+1])\n",
    "preds = torch.argmax(outs, 0)\n",
    "\n",
    "print(\"-\".join(read_line_labels(preds)))\n",
    "wandb.Image(line_xs[idx]).image"
   ]
  },
  {
   "cell_type": "markdown",
   "metadata": {
    "id": "OxHI4Gzndbxg"
   },
   "source": [
    "> <small> You may notice that this randomly-initialized\n",
    "network tends to predict some characters far more often than others,\n",
    "rather than predicting all characters with equal likelihood.\n",
    "This is a commonly-observed phenomenon in deep networks.\n",
    "It is connected to issues with\n",
    "[model calibration](https://arxiv.org/abs/1706.04599)\n",
    "and Bayesian uses of DNNs\n",
    "(see e.g. Figure 7 of\n",
    "[Wenzel et al. 2020](https://arxiv.org/abs/2002.02405).</small>"
   ]
  },
  {
   "cell_type": "markdown",
   "metadata": {
    "id": "NSonI9KcfJrB"
   },
   "source": [
    "Let's launch a training run with the default parameters.\n",
    "\n",
    "This cell should run in just a few minutes on typical hardware."
   ]
  },
  {
   "cell_type": "code",
   "execution_count": 46,
   "metadata": {
    "id": "rsbJdeRiwSVA"
   },
   "outputs": [
    {
     "name": "stderr",
     "output_type": "stream",
     "text": [
      "Trainer already configured with model summary callbacks: [<class 'pytorch_lightning.callbacks.model_summary.ModelSummary'>]. Skipping setting a default `ModelSummary` callback.\n",
      "GPU available: True, used: True\n",
      "TPU available: False, using: 0 TPU cores\n",
      "IPU available: False, using: 0 IPUs\n",
      "HPU available: False, using: 0 HPUs\n"
     ]
    },
    {
     "name": "stdout",
     "output_type": "stream",
     "text": [
      "EMNISTLinesDataset loading data from HDF5...\n"
     ]
    },
    {
     "name": "stderr",
     "output_type": "stream",
     "text": [
      "LOCAL_RANK: 0 - CUDA_VISIBLE_DEVICES: [0]\n",
      "\n",
      "  | Name      | Type          | Params\n",
      "--------------------------------------------\n",
      "0 | model     | LineCNNSimple | 1.7 M \n",
      "1 | model.cnn | CNN           | 1.7 M \n",
      "2 | train_acc | Accuracy      | 0     \n",
      "3 | val_acc   | Accuracy      | 0     \n",
      "4 | test_acc  | Accuracy      | 0     \n",
      "--------------------------------------------\n",
      "1.7 M     Trainable params\n",
      "0         Non-trainable params\n",
      "1.7 M     Total params\n",
      "6.616     Total estimated model params size (MB)\n"
     ]
    },
    {
     "data": {
      "application/vnd.jupyter.widget-view+json": {
       "model_id": "",
       "version_major": 2,
       "version_minor": 0
      },
      "text/plain": [
       "Sanity Checking: 0it [00:00, ?it/s]"
      ]
     },
     "metadata": {},
     "output_type": "display_data"
    },
    {
     "data": {
      "application/vnd.jupyter.widget-view+json": {
       "model_id": "6c49125a2fdc40ac8d9a29b4fe30ea35",
       "version_major": 2,
       "version_minor": 0
      },
      "text/plain": [
       "Training: 0it [00:00, ?it/s]"
      ]
     },
     "metadata": {},
     "output_type": "display_data"
    },
    {
     "data": {
      "application/vnd.jupyter.widget-view+json": {
       "model_id": "",
       "version_major": 2,
       "version_minor": 0
      },
      "text/plain": [
       "Validation: 0it [00:00, ?it/s]"
      ]
     },
     "metadata": {},
     "output_type": "display_data"
    },
    {
     "data": {
      "application/vnd.jupyter.widget-view+json": {
       "model_id": "",
       "version_major": 2,
       "version_minor": 0
      },
      "text/plain": [
       "Validation: 0it [00:00, ?it/s]"
      ]
     },
     "metadata": {},
     "output_type": "display_data"
    },
    {
     "name": "stderr",
     "output_type": "stream",
     "text": [
      "LOCAL_RANK: 0 - CUDA_VISIBLE_DEVICES: [0]\n"
     ]
    },
    {
     "name": "stdout",
     "output_type": "stream",
     "text": [
      "EMNISTLinesDataset loading data from HDF5...\n"
     ]
    },
    {
     "data": {
      "application/vnd.jupyter.widget-view+json": {
       "model_id": "6ea277b9cb8c415b9c7187748767204f",
       "version_major": 2,
       "version_minor": 0
      },
      "text/plain": [
       "Testing: 0it [00:00, ?it/s]"
      ]
     },
     "metadata": {},
     "output_type": "display_data"
    },
    {
     "name": "stderr",
     "output_type": "stream",
     "text": [
      "Best model saved at: /home/terps/.git/fsdl-text-recognizer-2022-labs/lab02/training/logs/lightning_logs/version_5/epoch=0001-validation.loss=1.373.ckpt\n"
     ]
    },
    {
     "name": "stdout",
     "output_type": "stream",
     "text": [
      "────────────────────────────────────────────────────────────────────────────────────────────────────────────────────────\n",
      "       Test metric             DataLoader 0\n",
      "────────────────────────────────────────────────────────────────────────────────────────────────────────────────────────\n",
      "        test/acc            0.6759218573570251\n",
      "        test/loss           1.4264295101165771\n",
      "────────────────────────────────────────────────────────────────────────────────────────────────────────────────────────\n"
     ]
    }
   ],
   "source": [
    "%run training/run_experiment.py --model_class LineCNNSimple --data_class EMNISTLines \\\n",
    "  --batch_size 32 --gpus {gpus} --max_epochs 2"
   ]
  },
  {
   "cell_type": "markdown",
   "metadata": {
    "id": "y9e5nTplfoXG"
   },
   "source": [
    "You should see a test accuracy in the 65-70% range.\n",
    "\n",
    "That seems pretty good,\n",
    "especially for a simple model trained in a minute.\n",
    "\n",
    "Let's reload the model and run it on some examples."
   ]
  },
  {
   "cell_type": "code",
   "execution_count": 47,
   "metadata": {
    "id": "0NuXazAvw9NA"
   },
   "outputs": [
    {
     "name": "stdout",
     "output_type": "stream",
     "text": [
      "training/logs/lightning_logs/version_5/epoch=0001-validation.loss=1.373.ckpt\n"
     ]
    }
   ],
   "source": [
    "# if you change around model/data args in the command above, add them here\n",
    "#  tip: define the arguments as variables, like we've done for gpus\n",
    "#       and then add those variables to this dict so you don't need to\n",
    "#       remember to update/copy+paste\n",
    "\n",
    "args = Namespace(**{\n",
    "    \"model_class\": \"LineCNNSimple\",\n",
    "    \"data_class\": \"EMNISTLines\"})\n",
    "\n",
    "\n",
    "_, line_cnn = training.util.setup_data_and_model_from_args(args)\n",
    "\n",
    "latest_ckpt, = ! {list_all_log_files} | {filter_to_ckpts} | {sort_version_descending} | {take_first}\n",
    "print(latest_ckpt)\n",
    "\n",
    "reloaded_lines_model = text_recognizer.lit_models.BaseLitModel.load_from_checkpoint(\n",
    "   latest_ckpt, args=args, model=line_cnn)"
   ]
  },
  {
   "cell_type": "code",
   "execution_count": 48,
   "metadata": {
    "id": "J8ziVROkxkGC"
   },
   "outputs": [
    {
     "name": "stdout",
     "output_type": "stream",
     "text": [
      "h-o-a- -s-p-e- -t- - -l-l-a-t-i- -<P>-<P>-<P>-<P>-<P>-<P>-<P>-<P>-<P>-<P>-<P>-<P>-<P>-<P>-<P>\n"
     ]
    },
    {
     "data": {
      "image/png": "[encoded data removed]",
      "text/plain": [
       "<PIL.PngImagePlugin.PngImageFile image mode=RGB size=896x28 at 0x7FB810A3DF90>"
      ]
     },
     "execution_count": 48,
     "metadata": {},
     "output_type": "execute_result"
    }
   ],
   "source": [
    "idx = random.randint(0, len(line_xs) - 1)\n",
    "\n",
    "outs, = reloaded_lines_model(line_xs[idx:idx+1])\n",
    "preds = torch.argmax(outs, 0)\n",
    "\n",
    "print(\"-\".join(read_line_labels(preds)))\n",
    "wandb.Image(line_xs[idx]).image"
   ]
  },
  {
   "cell_type": "markdown",
   "metadata": {
    "id": "N9bQCHtYgA0S"
   },
   "source": [
    "In general,\n",
    "we see predictions that have very low subjective quality:\n",
    "it seems like most of the letters are wrong\n",
    "and the model often prefers to predict the most common letters\n",
    "in the dataset, like `e`.\n",
    "\n",
    "Notice, however, that many of the\n",
    "characters in a given line are padding characters, `<P>`.\n",
    "\n",
    "A model that always predicts `<P>` can achieve around 50% accuracy:"
   ]
  },
  {
   "cell_type": "code",
   "execution_count": 49,
   "metadata": {
    "id": "EE-T7zgDgo7-"
   },
   "outputs": [
    {
     "data": {
      "text/plain": [
       "tensor(0.5359)"
      ]
     },
     "execution_count": 49,
     "metadata": {},
     "output_type": "execute_result"
    }
   ],
   "source": [
    "padding_token = emnist_lines.emnist.inverse_mapping[\"<P>\"]\n",
    "torch.sum(line_ys == padding_token) / line_ys.numel()"
   ]
  },
  {
   "cell_type": "markdown",
   "metadata": {
    "id": "rGHWmOyVh5rV"
   },
   "source": [
    "There are ways to adjust your classification metrics to\n",
    "[handle this particular issue](https://developers.google.com/machine-learning/crash-course/classification/precision-and-recall).\n",
    "In general it's good to find a metric\n",
    "that has baseline performance at 0 and perfect performance at 1,\n",
    "so that numbers are clearly interpretable.\n",
    "\n",
    "But it's an important reminder to actually look\n",
    "at your model's behavior from time to time.\n",
    "Metrics are single numbers,\n",
    "so they by necessity throw away a ton of information\n",
    "about your model's behavior,\n",
    "some of which is deeply relevant."
   ]
  },
  {
   "cell_type": "markdown",
   "metadata": {
    "id": "6p--KWZ9YJWQ"
   },
   "source": [
    "# Exercises"
   ]
  },
  {
   "cell_type": "markdown",
   "metadata": {
    "id": "srQnoOK8YLDv"
   },
   "source": [
    "### 🌟 Research a `pl.Trainer` argument and try it out."
   ]
  },
  {
   "cell_type": "markdown",
   "metadata": {
    "id": "7j652MtkYR8n"
   },
   "source": [
    "The Lightning `Trainer` class is highly configurable\n",
    "and has accumulated a number of features as Lightning has matured.\n",
    "\n",
    "Check out the documentation for this class\n",
    "and pick an argument to try out with `training/run_experiment.py`.\n",
    "Look for edge cases in its behavior,\n",
    "especially when combined with other arguments."
   ]
  },
  {
   "cell_type": "code",
   "execution_count": 50,
   "metadata": {
    "id": "8UWNicq_jS7k"
   },
   "outputs": [
    {
     "name": "stdout",
     "output_type": "stream",
     "text": [
      "pl.Trainer guide URL: https://pytorch-lightning.readthedocs.io/en/1.6.3/common/trainer.html\n",
      "pl.Trainer reference docs URL: https://pytorch-lightning.readthedocs.io/en/1.6.3/api/pytorch_lightning.trainer.trainer.Trainer.html\n"
     ]
    }
   ],
   "source": [
    "import pytorch_lightning as pl\n",
    "\n",
    "pl_version = pl.__version__\n",
    "\n",
    "print(\"pl.Trainer guide URL:\", f\"https://pytorch-lightning.readthedocs.io/en/{pl_version}/common/trainer.html\")\n",
    "print(\"pl.Trainer reference docs URL:\", f\"https://pytorch-lightning.readthedocs.io/en/{pl_version}/api/pytorch_lightning.trainer.trainer.Trainer.html\")\n",
    "\n",
    "pl.Trainer??"
   ]
  },
  {
   "cell_type": "code",
   "execution_count": 51,
   "metadata": {
    "id": "14AOfjqqYOoT"
   },
   "outputs": [
    {
     "name": "stdout",
     "output_type": "stream",
     "text": [
      "usage: run_experiment.py [--logger [LOGGER]]\n",
      "                         [--checkpoint_callback [CHECKPOINT_CALLBACK]]\n",
      "                         [--enable_checkpointing [ENABLE_CHECKPOINTING]]\n",
      "                         [--default_root_dir DEFAULT_ROOT_DIR]\n",
      "                         [--gradient_clip_val GRADIENT_CLIP_VAL]\n",
      "                         [--gradient_clip_algorithm GRADIENT_CLIP_ALGORITHM]\n",
      "                         [--process_position PROCESS_POSITION]\n",
      "                         [--num_nodes NUM_NODES]\n",
      "                         [--num_processes NUM_PROCESSES] [--devices DEVICES]\n",
      "                         [--gpus GPUS] [--auto_select_gpus [AUTO_SELECT_GPUS]]\n",
      "                         [--tpu_cores TPU_CORES] [--ipus IPUS]\n",
      "                         [--log_gpu_memory LOG_GPU_MEMORY]\n",
      "                         [--progress_bar_refresh_rate PROGRESS_BAR_REFRESH_RATE]\n",
      "                         [--enable_progress_bar [ENABLE_PROGRESS_BAR]]\n",
      "                         [--overfit_batches OVERFIT_BATCHES]\n",
      "                         [--track_grad_norm TRACK_GRAD_NORM]\n",
      "                         [--check_val_every_n_epoch CHECK_VAL_EVERY_N_EPOCH]\n",
      "                         [--fast_dev_run [FAST_DEV_RUN]]\n",
      "                         [--accumulate_grad_batches ACCUMULATE_GRAD_BATCHES]\n",
      "                         [--max_epochs MAX_EPOCHS] [--min_epochs MIN_EPOCHS]\n",
      "                         [--max_steps MAX_STEPS] [--min_steps MIN_STEPS]\n",
      "                         [--max_time MAX_TIME]\n",
      "                         [--limit_train_batches LIMIT_TRAIN_BATCHES]\n",
      "                         [--limit_val_batches LIMIT_VAL_BATCHES]\n",
      "                         [--limit_test_batches LIMIT_TEST_BATCHES]\n",
      "                         [--limit_predict_batches LIMIT_PREDICT_BATCHES]\n",
      "                         [--val_check_interval VAL_CHECK_INTERVAL]\n",
      "                         [--flush_logs_every_n_steps FLUSH_LOGS_EVERY_N_STEPS]\n",
      "                         [--log_every_n_steps LOG_EVERY_N_STEPS]\n",
      "                         [--accelerator ACCELERATOR] [--strategy STRATEGY]\n",
      "                         [--sync_batchnorm [SYNC_BATCHNORM]]\n",
      "                         [--precision PRECISION]\n",
      "                         [--enable_model_summary [ENABLE_MODEL_SUMMARY]]\n",
      "                         [--weights_summary WEIGHTS_SUMMARY]\n",
      "                         [--weights_save_path WEIGHTS_SAVE_PATH]\n",
      "                         [--num_sanity_val_steps NUM_SANITY_VAL_STEPS]\n",
      "                         [--resume_from_checkpoint RESUME_FROM_CHECKPOINT]\n",
      "                         [--profiler PROFILER] [--benchmark [BENCHMARK]]\n",
      "                         [--deterministic [DETERMINISTIC]]\n",
      "                         [--reload_dataloaders_every_n_epochs RELOAD_DATALOADERS_EVERY_N_EPOCHS]\n",
      "                         [--auto_lr_find [AUTO_LR_FIND]]\n",
      "                         [--replace_sampler_ddp [REPLACE_SAMPLER_DDP]]\n",
      "                         [--detect_anomaly [DETECT_ANOMALY]]\n",
      "                         [--auto_scale_batch_size [AUTO_SCALE_BATCH_SIZE]]\n",
      "                         [--prepare_data_per_node [PREPARE_DATA_PER_NODE]]\n",
      "                         [--plugins PLUGINS] [--amp_backend AMP_BACKEND]\n",
      "                         [--amp_level AMP_LEVEL]\n",
      "                         [--move_metrics_to_cpu [MOVE_METRICS_TO_CPU]]\n",
      "                         [--multiple_trainloader_mode MULTIPLE_TRAINLOADER_MODE]\n",
      "                         [--stochastic_weight_avg [STOCHASTIC_WEIGHT_AVG]]\n",
      "                         [--terminate_on_nan [TERMINATE_ON_NAN]]\n",
      "                         [--data_class DATA_CLASS] [--model_class MODEL_CLASS]\n",
      "                         [--load_checkpoint LOAD_CHECKPOINT]\n",
      "                         [--stop_early STOP_EARLY] [--batch_size BATCH_SIZE]\n",
      "                         [--num_workers NUM_WORKERS] [--fc1 FC1] [--fc2 FC2]\n",
      "                         [--fc_dropout FC_DROPOUT] [--optimizer OPTIMIZER]\n",
      "                         [--lr LR] [--one_cycle_max_lr ONE_CYCLE_MAX_LR]\n",
      "                         [--one_cycle_total_steps ONE_CYCLE_TOTAL_STEPS]\n",
      "                         [--loss LOSS] [--help]\n",
      "\n",
      "optional arguments:\n",
      "  --data_class DATA_CLASS\n",
      "                        String identifier for the data class, relative to\n",
      "                        text_recognizer.data.\n",
      "  --model_class MODEL_CLASS\n",
      "                        String identifier for the model class, relative to\n",
      "                        text_recognizer.models.\n",
      "  --load_checkpoint LOAD_CHECKPOINT\n",
      "                        If passed, loads a model from the provided path.\n",
      "  --stop_early STOP_EARLY\n",
      "                        If non-zero, applies early stopping, with the provided\n",
      "                        value as the 'patience' argument. Default is 0.\n",
      "  --help, -h\n",
      "\n",
      "pl.Trainer:\n",
      "  --logger [LOGGER]     Logger (or iterable collection of loggers) for\n",
      "                        experiment tracking. A ``True`` value uses the default\n",
      "                        ``TensorBoardLogger``. ``False`` will disable logging.\n",
      "                        If multiple loggers are provided and the `save_dir`\n",
      "                        property of that logger is not set, local files\n",
      "                        (checkpoints, profiler traces, etc.) are saved in\n",
      "                        ``default_root_dir`` rather than in the ``log_dir`` of\n",
      "                        any of the individual loggers. Default: ``True``.\n",
      "  --checkpoint_callback [CHECKPOINT_CALLBACK]\n",
      "                        If ``True``, enable checkpointing. Default: ``None``.\n",
      "                        .. deprecated:: v1.5 ``checkpoint_callback`` has been\n",
      "                        deprecated in v1.5 and will be removed in v1.7. Please\n",
      "                        consider using ``enable_checkpointing`` instead.\n",
      "  --enable_checkpointing [ENABLE_CHECKPOINTING]\n",
      "                        If ``True``, enable checkpointing. It will configure a\n",
      "                        default ModelCheckpoint callback if there is no user-\n",
      "                        defined ModelCheckpoint in :paramref:`~pytorch_lightni\n",
      "                        ng.trainer.trainer.Trainer.callbacks`. Default:\n",
      "                        ``True``.\n",
      "  --default_root_dir DEFAULT_ROOT_DIR\n",
      "                        Default path for logs and weights when no\n",
      "                        logger/ckpt_callback passed. Default: ``os.getcwd()``.\n",
      "                        Can be remote file paths such as `s3://mybucket/path`\n",
      "                        or 'hdfs://path/'\n",
      "  --gradient_clip_val GRADIENT_CLIP_VAL\n",
      "                        The value at which to clip gradients. Passing\n",
      "                        ``gradient_clip_val=None`` disables gradient clipping.\n",
      "                        If using Automatic Mixed Precision (AMP), the\n",
      "                        gradients will be unscaled before. Default: ``None``.\n",
      "  --gradient_clip_algorithm GRADIENT_CLIP_ALGORITHM\n",
      "                        The gradient clipping algorithm to use. Pass\n",
      "                        ``gradient_clip_algorithm=\"value\"`` to clip by value,\n",
      "                        and ``gradient_clip_algorithm=\"norm\"`` to clip by\n",
      "                        norm. By default it will be set to ``\"norm\"``.\n",
      "  --process_position PROCESS_POSITION\n",
      "                        Orders the progress bar when running multiple models\n",
      "                        on same machine. .. deprecated:: v1.5\n",
      "                        ``process_position`` has been deprecated in v1.5 and\n",
      "                        will be removed in v1.7. Please pass :class:`~pytorch_\n",
      "                        lightning.callbacks.progress.TQDMProgressBar` with\n",
      "                        ``process_position`` directly to the Trainer's\n",
      "                        ``callbacks`` argument instead.\n",
      "  --num_nodes NUM_NODES\n",
      "                        Number of GPU nodes for distributed training. Default:\n",
      "                        ``1``.\n",
      "  --num_processes NUM_PROCESSES\n",
      "                        Number of processes for distributed training with\n",
      "                        ``accelerator=\"cpu\"``. Default: ``1``.\n",
      "  --devices DEVICES     Will be mapped to either `gpus`, `tpu_cores`,\n",
      "                        `num_processes` or `ipus`, based on the accelerator\n",
      "                        type.\n",
      "  --gpus GPUS           Number of GPUs to train on (int) or which GPUs to\n",
      "                        train on (list or str) applied per node Default:\n",
      "                        ``None``.\n",
      "  --auto_select_gpus [AUTO_SELECT_GPUS]\n",
      "                        If enabled and ``gpus`` or ``devices`` is an integer,\n",
      "                        pick available gpus automatically. This is especially\n",
      "                        useful when GPUs are configured to be in \"exclusive\n",
      "                        mode\", such that only one process at a time can access\n",
      "                        them. Default: ``False``.\n",
      "  --tpu_cores TPU_CORES\n",
      "                        How many TPU cores to train on (1 or 8) / Single TPU\n",
      "                        to train on (1) Default: ``None``.\n",
      "  --ipus IPUS           How many IPUs to train on. Default: ``None``.\n",
      "  --log_gpu_memory LOG_GPU_MEMORY\n",
      "                        None, 'min_max', 'all'. Might slow performance. ..\n",
      "                        deprecated:: v1.5 Deprecated in v1.5.0 and will be\n",
      "                        removed in v1.7.0 Please use the\n",
      "                        ``DeviceStatsMonitor`` callback directly instead.\n",
      "  --progress_bar_refresh_rate PROGRESS_BAR_REFRESH_RATE\n",
      "                        How often to refresh progress bar (in steps). Value\n",
      "                        ``0`` disables progress bar. Ignored when a custom\n",
      "                        progress bar is passed to\n",
      "                        :paramref:`~Trainer.callbacks`. Default: None, means a\n",
      "                        suitable value will be chosen based on the environment\n",
      "                        (terminal, Google COLAB, etc.). .. deprecated:: v1.5\n",
      "                        ``progress_bar_refresh_rate`` has been deprecated in\n",
      "                        v1.5 and will be removed in v1.7. Please pass :class:`\n",
      "                        ~pytorch_lightning.callbacks.progress.TQDMProgressBar`\n",
      "                        with ``refresh_rate`` directly to the Trainer's\n",
      "                        ``callbacks`` argument instead. To disable the\n",
      "                        progress bar, pass ``enable_progress_bar = False`` to\n",
      "                        the Trainer.\n",
      "  --enable_progress_bar [ENABLE_PROGRESS_BAR]\n",
      "                        Whether to enable to progress bar by default. Default:\n",
      "                        ``False``.\n",
      "  --overfit_batches OVERFIT_BATCHES\n",
      "                        Overfit a fraction of training data (float) or a set\n",
      "                        number of batches (int). Default: ``0.0``.\n",
      "  --track_grad_norm TRACK_GRAD_NORM\n",
      "                        -1 no tracking. Otherwise tracks that p-norm. May be\n",
      "                        set to 'inf' infinity-norm. If using Automatic Mixed\n",
      "                        Precision (AMP), the gradients will be unscaled before\n",
      "                        logging them. Default: ``-1``.\n",
      "  --check_val_every_n_epoch CHECK_VAL_EVERY_N_EPOCH\n",
      "                        Check val every n train epochs. Default: ``1``.\n",
      "  --fast_dev_run [FAST_DEV_RUN]\n",
      "                        Runs n if set to ``n`` (int) else 1 if set to ``True``\n",
      "                        batch(es) of train, val and test to find any bugs (ie:\n",
      "                        a sort of unit test). Default: ``False``.\n",
      "  --accumulate_grad_batches ACCUMULATE_GRAD_BATCHES\n",
      "                        Accumulates grads every k batches or as set up in the\n",
      "                        dict. Default: ``None``.\n",
      "  --max_epochs MAX_EPOCHS\n",
      "                        Stop training once this number of epochs is reached.\n",
      "                        Disabled by default (None). If both max_epochs and\n",
      "                        max_steps are not specified, defaults to ``max_epochs\n",
      "                        = 1000``. To enable infinite training, set\n",
      "                        ``max_epochs = -1``.\n",
      "  --min_epochs MIN_EPOCHS\n",
      "                        Force training for at least these many epochs.\n",
      "                        Disabled by default (None).\n",
      "  --max_steps MAX_STEPS\n",
      "                        Stop training after this number of steps. Disabled by\n",
      "                        default (-1). If ``max_steps = -1`` and ``max_epochs =\n",
      "                        None``, will default to ``max_epochs = 1000``. To\n",
      "                        enable infinite training, set ``max_epochs`` to\n",
      "                        ``-1``.\n",
      "  --min_steps MIN_STEPS\n",
      "                        Force training for at least these number of steps.\n",
      "                        Disabled by default (``None``).\n",
      "  --max_time MAX_TIME   Stop training after this amount of time has passed.\n",
      "                        Disabled by default (``None``). The time duration can\n",
      "                        be specified in the format DD:HH:MM:SS (days, hours,\n",
      "                        minutes seconds), as a :class:`datetime.timedelta`, or\n",
      "                        a dictionary with keys that will be passed to\n",
      "                        :class:`datetime.timedelta`.\n",
      "  --limit_train_batches LIMIT_TRAIN_BATCHES\n",
      "                        How much of training dataset to check (float =\n",
      "                        fraction, int = num_batches). Default: ``1.0``.\n",
      "  --limit_val_batches LIMIT_VAL_BATCHES\n",
      "                        How much of validation dataset to check (float =\n",
      "                        fraction, int = num_batches). Default: ``1.0``.\n",
      "  --limit_test_batches LIMIT_TEST_BATCHES\n",
      "                        How much of test dataset to check (float = fraction,\n",
      "                        int = num_batches). Default: ``1.0``.\n",
      "  --limit_predict_batches LIMIT_PREDICT_BATCHES\n",
      "                        How much of prediction dataset to check (float =\n",
      "                        fraction, int = num_batches). Default: ``1.0``.\n",
      "  --val_check_interval VAL_CHECK_INTERVAL\n",
      "                        How often to check the validation set. Pass a\n",
      "                        ``float`` in the range [0.0, 1.0] to check after a\n",
      "                        fraction of the training epoch. Pass an ``int`` to\n",
      "                        check after a fixed number of training batches.\n",
      "                        Default: ``1.0``.\n",
      "  --flush_logs_every_n_steps FLUSH_LOGS_EVERY_N_STEPS\n",
      "                        How often to flush logs to disk (defaults to every 100\n",
      "                        steps). .. deprecated:: v1.5\n",
      "                        ``flush_logs_every_n_steps`` has been deprecated in\n",
      "                        v1.5 and will be removed in v1.7. Please configure\n",
      "                        flushing directly in the logger instead.\n",
      "  --log_every_n_steps LOG_EVERY_N_STEPS\n",
      "                        How often to log within steps. Default: ``50``.\n",
      "  --accelerator ACCELERATOR\n",
      "                        Supports passing different accelerator types (\"cpu\",\n",
      "                        \"gpu\", \"tpu\", \"ipu\", \"hpu\", \"auto\") as well as custom\n",
      "                        accelerator instances. .. deprecated:: v1.5 Passing\n",
      "                        training strategies (e.g., 'ddp') to ``accelerator``\n",
      "                        has been deprecated in v1.5.0 and will be removed in\n",
      "                        v1.7.0. Please use the ``strategy`` argument instead.\n",
      "  --strategy STRATEGY   Supports different training strategies with aliases as\n",
      "                        well custom strategies. Default: ``None``.\n",
      "  --sync_batchnorm [SYNC_BATCHNORM]\n",
      "                        Synchronize batch norm layers between process\n",
      "                        groups/whole world. Default: ``False``.\n",
      "  --precision PRECISION\n",
      "                        Double precision (64), full precision (32), half\n",
      "                        precision (16) or bfloat16 precision (bf16). Can be\n",
      "                        used on CPU, GPU, TPUs, HPUs or IPUs. Default: ``32``.\n",
      "  --enable_model_summary [ENABLE_MODEL_SUMMARY]\n",
      "                        Whether to enable model summarization by default.\n",
      "                        Default: ``True``.\n",
      "  --weights_summary WEIGHTS_SUMMARY\n",
      "                        Prints a summary of the weights when training begins.\n",
      "                        .. deprecated:: v1.5 ``weights_summary`` has been\n",
      "                        deprecated in v1.5 and will be removed in v1.7. To\n",
      "                        disable the summary, pass ``enable_model_summary =\n",
      "                        False`` to the Trainer. To customize the summary, pass\n",
      "                        :class:`~pytorch_lightning.callbacks.model_summary.Mod\n",
      "                        elSummary` directly to the Trainer's ``callbacks``\n",
      "                        argument.\n",
      "  --weights_save_path WEIGHTS_SAVE_PATH\n",
      "                        Where to save weights if specified. Will override\n",
      "                        default_root_dir for checkpoints only. Use this if for\n",
      "                        whatever reason you need the checkpoints stored in a\n",
      "                        different place than the logs written in\n",
      "                        `default_root_dir`. Can be remote file paths such as\n",
      "                        `s3://mybucket/path` or 'hdfs://path/' Defaults to\n",
      "                        `default_root_dir`. .. deprecated:: v1.6\n",
      "                        ``weights_save_path`` has been deprecated in v1.6 and\n",
      "                        will be removed in v1.8. Please pass ``dirpath``\n",
      "                        directly to the :class:`~pytorch_lightning.callbacks.m\n",
      "                        odel_checkpoint.ModelCheckpoint` callback.\n",
      "  --num_sanity_val_steps NUM_SANITY_VAL_STEPS\n",
      "                        Sanity check runs n validation batches before starting\n",
      "                        the training routine. Set it to `-1` to run all\n",
      "                        batches in all validation dataloaders. Default: ``2``.\n",
      "  --resume_from_checkpoint RESUME_FROM_CHECKPOINT\n",
      "                        Path/URL of the checkpoint from which training is\n",
      "                        resumed. If there is no checkpoint file at the path,\n",
      "                        an exception is raised. If resuming from mid-epoch\n",
      "                        checkpoint, training will start from the beginning of\n",
      "                        the next epoch. .. deprecated:: v1.5\n",
      "                        ``resume_from_checkpoint`` is deprecated in v1.5 and\n",
      "                        will be removed in v2.0. Please pass the path to\n",
      "                        ``Trainer.fit(..., ckpt_path=...)`` instead.\n",
      "  --profiler PROFILER   To profile individual steps during training and assist\n",
      "                        in identifying bottlenecks. Default: ``None``.\n",
      "  --benchmark [BENCHMARK]\n",
      "                        Sets ``torch.backends.cudnn.benchmark``. Defaults to\n",
      "                        ``True`` if :paramref:`~pytorch_lightning.trainer.trai\n",
      "                        ner.Trainer.deterministic` is ``False``. Overwrite to\n",
      "                        manually set a different value. Default: ``None``.\n",
      "  --deterministic [DETERMINISTIC]\n",
      "                        If ``True``, sets whether PyTorch operations must use\n",
      "                        deterministic algorithms. Default: ``False``.\n",
      "  --reload_dataloaders_every_n_epochs RELOAD_DATALOADERS_EVERY_N_EPOCHS\n",
      "                        Set to a non-negative integer to reload dataloaders\n",
      "                        every n epochs. Default: ``0``.\n",
      "  --auto_lr_find [AUTO_LR_FIND]\n",
      "                        If set to True, will make trainer.tune() run a\n",
      "                        learning rate finder, trying to optimize initial\n",
      "                        learning for faster convergence. trainer.tune() method\n",
      "                        will set the suggested learning rate in self.lr or\n",
      "                        self.learning_rate in the LightningModule. To use a\n",
      "                        different key set a string instead of True with the\n",
      "                        key name. Default: ``False``.\n",
      "  --replace_sampler_ddp [REPLACE_SAMPLER_DDP]\n",
      "                        Explicitly enables or disables sampler replacement. If\n",
      "                        not specified this will toggled automatically when DDP\n",
      "                        is used. By default it will add ``shuffle=True`` for\n",
      "                        train sampler and ``shuffle=False`` for val/test\n",
      "                        sampler. If you want to customize it, you can set\n",
      "                        ``replace_sampler_ddp=False`` and add your own\n",
      "                        distributed sampler.\n",
      "  --detect_anomaly [DETECT_ANOMALY]\n",
      "                        Enable anomaly detection for the autograd engine.\n",
      "                        Default: ``False``.\n",
      "  --auto_scale_batch_size [AUTO_SCALE_BATCH_SIZE]\n",
      "                        If set to True, will `initially` run a batch size\n",
      "                        finder trying to find the largest batch size that fits\n",
      "                        into memory. The result will be stored in\n",
      "                        self.batch_size in the LightningModule. Additionally,\n",
      "                        can be set to either `power` that estimates the batch\n",
      "                        size through a power search or `binsearch` that\n",
      "                        estimates the batch size through a binary search.\n",
      "                        Default: ``False``.\n",
      "  --prepare_data_per_node [PREPARE_DATA_PER_NODE]\n",
      "                        If True, each LOCAL_RANK=0 will call prepare data.\n",
      "                        Otherwise only NODE_RANK=0, LOCAL_RANK=0 will prepare\n",
      "                        data .. deprecated:: v1.5 Deprecated in v1.5.0 and\n",
      "                        will be removed in v1.7.0 Please set\n",
      "                        ``prepare_data_per_node`` in ``LightningDataModule``\n",
      "                        and/or ``LightningModule`` directly instead.\n",
      "  --plugins PLUGINS     Plugins allow modification of core behavior like ddp\n",
      "                        and amp, and enable custom lightning plugins. Default:\n",
      "                        ``None``.\n",
      "  --amp_backend AMP_BACKEND\n",
      "                        The mixed precision backend to use (\"native\" or\n",
      "                        \"apex\"). Default: ``'native''``.\n",
      "  --amp_level AMP_LEVEL\n",
      "                        The optimization level to use (O1, O2, etc...). By\n",
      "                        default it will be set to \"O2\" if ``amp_backend`` is\n",
      "                        set to \"apex\".\n",
      "  --move_metrics_to_cpu [MOVE_METRICS_TO_CPU]\n",
      "                        Whether to force internal logged metrics to be moved\n",
      "                        to cpu. This can save some gpu memory, but can make\n",
      "                        training slower. Use with attention. Default:\n",
      "                        ``False``.\n",
      "  --multiple_trainloader_mode MULTIPLE_TRAINLOADER_MODE\n",
      "                        How to loop over the datasets when there are multiple\n",
      "                        train loaders. In 'max_size_cycle' mode, the trainer\n",
      "                        ends one epoch when the largest dataset is traversed,\n",
      "                        and smaller datasets reload when running out of their\n",
      "                        data. In 'min_size' mode, all the datasets reload when\n",
      "                        reaching the minimum length of datasets. Default:\n",
      "                        ``\"max_size_cycle\"``.\n",
      "  --stochastic_weight_avg [STOCHASTIC_WEIGHT_AVG]\n",
      "                        Whether to use `Stochastic Weight Averaging (SWA)\n",
      "                        <https://pytorch.org/blog/pytorch-1.6-now-includes-\n",
      "                        stochastic-weight-averaging/>`_. Default: ``False``.\n",
      "                        .. deprecated:: v1.5 ``stochastic_weight_avg`` has\n",
      "                        been deprecated in v1.5 and will be removed in v1.7.\n",
      "                        Please pass :class:`~pytorch_lightning.callbacks.stoch\n",
      "                        astic_weight_avg.StochasticWeightAveraging` directly\n",
      "                        to the Trainer's ``callbacks`` argument instead.\n",
      "  --terminate_on_nan [TERMINATE_ON_NAN]\n",
      "                        If set to True, will terminate training (by raising a\n",
      "                        `ValueError`) at the end of each training batch, if\n",
      "                        any of the parameters or the loss are NaN or +/-inf.\n",
      "                        .. deprecated:: v1.5 Trainer argument\n",
      "                        ``terminate_on_nan`` was deprecated in v1.5 and will\n",
      "                        be removed in 1.7. Please use ``detect_anomaly``\n",
      "                        instead.\n",
      "\n",
      "Data Args:\n",
      "  --batch_size BATCH_SIZE\n",
      "                        Number of examples to operate on per forward step.\n",
      "                        Default is 128.\n",
      "  --num_workers NUM_WORKERS\n",
      "                        Number of additional processes to load data. Default\n",
      "                        is 12.\n",
      "\n",
      "Model Args:\n",
      "  --fc1 FC1\n",
      "  --fc2 FC2\n",
      "  --fc_dropout FC_DROPOUT\n",
      "\n",
      "LitModel Args:\n",
      "  --optimizer OPTIMIZER\n",
      "                        optimizer class from torch.optim\n",
      "  --lr LR\n",
      "  --one_cycle_max_lr ONE_CYCLE_MAX_LR\n",
      "  --one_cycle_total_steps ONE_CYCLE_TOTAL_STEPS\n",
      "  --loss LOSS           loss function from torch.nn.functional\n"
     ]
    }
   ],
   "source": [
    "%run training/run_experiment.py --help"
   ]
  },
  {
   "cell_type": "code",
   "execution_count": 57,
   "metadata": {},
   "outputs": [
    {
     "name": "stderr",
     "output_type": "stream",
     "text": [
      "Trainer already configured with model summary callbacks: [<class 'pytorch_lightning.callbacks.model_summary.ModelSummary'>]. Skipping setting a default `ModelSummary` callback.\n",
      "GPU available: True, used: False\n",
      "TPU available: False, using: 0 TPU cores\n",
      "IPU available: False, using: 0 IPUs\n",
      "HPU available: False, using: 0 HPUs\n"
     ]
    },
    {
     "name": "stdout",
     "output_type": "stream",
     "text": [
      "Downloading http://yann.lecun.com/exdb/mnist/train-images-idx3-ubyte.gz\n",
      "Downloading http://yann.lecun.com/exdb/mnist/train-images-idx3-ubyte.gz to /home/terps/.git/fsdl-text-recognizer-2022-labs/data/downloaded/MNIST/raw/train-images-idx3-ubyte.gz\n"
     ]
    },
    {
     "data": {
      "application/vnd.jupyter.widget-view+json": {
       "model_id": "a32f219b6a694b73839e13013cf948cf",
       "version_major": 2,
       "version_minor": 0
      },
      "text/plain": [
       "  0%|          | 0/9912422 [00:00<?, ?it/s]"
      ]
     },
     "metadata": {},
     "output_type": "display_data"
    },
    {
     "name": "stdout",
     "output_type": "stream",
     "text": [
      "Extracting /home/terps/.git/fsdl-text-recognizer-2022-labs/data/downloaded/MNIST/raw/train-images-idx3-ubyte.gz to /home/terps/.git/fsdl-text-recognizer-2022-labs/data/downloaded/MNIST/raw\n",
      "\n",
      "Downloading http://yann.lecun.com/exdb/mnist/train-labels-idx1-ubyte.gz\n",
      "Downloading http://yann.lecun.com/exdb/mnist/train-labels-idx1-ubyte.gz to /home/terps/.git/fsdl-text-recognizer-2022-labs/data/downloaded/MNIST/raw/train-labels-idx1-ubyte.gz\n"
     ]
    },
    {
     "data": {
      "application/vnd.jupyter.widget-view+json": {
       "model_id": "d6ec09e040fd403096600c571812f143",
       "version_major": 2,
       "version_minor": 0
      },
      "text/plain": [
       "  0%|          | 0/28881 [00:00<?, ?it/s]"
      ]
     },
     "metadata": {},
     "output_type": "display_data"
    },
    {
     "name": "stdout",
     "output_type": "stream",
     "text": [
      "Extracting /home/terps/.git/fsdl-text-recognizer-2022-labs/data/downloaded/MNIST/raw/train-labels-idx1-ubyte.gz to /home/terps/.git/fsdl-text-recognizer-2022-labs/data/downloaded/MNIST/raw\n",
      "\n",
      "Downloading http://yann.lecun.com/exdb/mnist/t10k-images-idx3-ubyte.gz\n",
      "Downloading http://yann.lecun.com/exdb/mnist/t10k-images-idx3-ubyte.gz to /home/terps/.git/fsdl-text-recognizer-2022-labs/data/downloaded/MNIST/raw/t10k-images-idx3-ubyte.gz\n"
     ]
    },
    {
     "data": {
      "application/vnd.jupyter.widget-view+json": {
       "model_id": "69c937d882c64a40837fc1826000bc60",
       "version_major": 2,
       "version_minor": 0
      },
      "text/plain": [
       "  0%|          | 0/1648877 [00:00<?, ?it/s]"
      ]
     },
     "metadata": {},
     "output_type": "display_data"
    },
    {
     "name": "stdout",
     "output_type": "stream",
     "text": [
      "Extracting /home/terps/.git/fsdl-text-recognizer-2022-labs/data/downloaded/MNIST/raw/t10k-images-idx3-ubyte.gz to /home/terps/.git/fsdl-text-recognizer-2022-labs/data/downloaded/MNIST/raw\n",
      "\n",
      "Downloading http://yann.lecun.com/exdb/mnist/t10k-labels-idx1-ubyte.gz\n",
      "Downloading http://yann.lecun.com/exdb/mnist/t10k-labels-idx1-ubyte.gz to /home/terps/.git/fsdl-text-recognizer-2022-labs/data/downloaded/MNIST/raw/t10k-labels-idx1-ubyte.gz\n"
     ]
    },
    {
     "data": {
      "application/vnd.jupyter.widget-view+json": {
       "model_id": "31dd2532a196455283f56798255cc65e",
       "version_major": 2,
       "version_minor": 0
      },
      "text/plain": [
       "  0%|          | 0/4542 [00:00<?, ?it/s]"
      ]
     },
     "metadata": {},
     "output_type": "display_data"
    },
    {
     "name": "stdout",
     "output_type": "stream",
     "text": [
      "Extracting /home/terps/.git/fsdl-text-recognizer-2022-labs/data/downloaded/MNIST/raw/t10k-labels-idx1-ubyte.gz to /home/terps/.git/fsdl-text-recognizer-2022-labs/data/downloaded/MNIST/raw\n",
      "\n"
     ]
    },
    {
     "name": "stderr",
     "output_type": "stream",
     "text": [
      "\n",
      "  | Name          | Type     | Params\n",
      "-------------------------------------------\n",
      "0 | model         | MLP      | 936 K \n",
      "1 | model.fc1     | Linear   | 803 K \n",
      "2 | model.dropout | Dropout  | 0     \n",
      "3 | model.fc2     | Linear   | 131 K \n",
      "4 | model.fc3     | Linear   | 1.3 K \n",
      "5 | train_acc     | Accuracy | 0     \n",
      "6 | val_acc       | Accuracy | 0     \n",
      "7 | test_acc      | Accuracy | 0     \n",
      "-------------------------------------------\n",
      "936 K     Trainable params\n",
      "0         Non-trainable params\n",
      "936 K     Total params\n",
      "3.745     Total estimated model params size (MB)\n"
     ]
    },
    {
     "data": {
      "application/vnd.jupyter.widget-view+json": {
       "model_id": "",
       "version_major": 2,
       "version_minor": 0
      },
      "text/plain": [
       "Sanity Checking: 0it [00:00, ?it/s]"
      ]
     },
     "metadata": {},
     "output_type": "display_data"
    },
    {
     "data": {
      "application/vnd.jupyter.widget-view+json": {
       "model_id": "a5575e639989453aae0f48db154ac5c5",
       "version_major": 2,
       "version_minor": 0
      },
      "text/plain": [
       "Training: 0it [00:00, ?it/s]"
      ]
     },
     "metadata": {},
     "output_type": "display_data"
    },
    {
     "data": {
      "application/vnd.jupyter.widget-view+json": {
       "model_id": "",
       "version_major": 2,
       "version_minor": 0
      },
      "text/plain": [
       "Validation: 0it [00:00, ?it/s]"
      ]
     },
     "metadata": {},
     "output_type": "display_data"
    },
    {
     "name": "stderr",
     "output_type": "stream",
     "text": [
      "FIT Profiler Report\n",
      "\n",
      "----------------------------------------------------------------------------------------------------------------------------------------------------------------------------------------------------------------------------------------------------------------------------------------------------------------------------------\n",
      "|  Action                                                                                                                                                                                                                 \t|  Mean duration (s)\t|  Num calls      \t|  Total time (s) \t|  Percentage %   \t|\n",
      "----------------------------------------------------------------------------------------------------------------------------------------------------------------------------------------------------------------------------------------------------------------------------------------------------------------------------------\n",
      "|  Total                                                                                                                                                                                                                  \t|  -              \t|  18378          \t|  13.117         \t|  100 %          \t|\n",
      "----------------------------------------------------------------------------------------------------------------------------------------------------------------------------------------------------------------------------------------------------------------------------------------------------------------------------------\n",
      "|  run_training_epoch                                                                                                                                                                                                     \t|  10.489         \t|  1              \t|  10.489         \t|  79.961         \t|\n",
      "|  run_training_batch                                                                                                                                                                                                     \t|  0.01223        \t|  430            \t|  5.2589         \t|  40.092         \t|\n",
      "|  [LightningModule]BaseLitModel.optimizer_step                                                                                                                                                                           \t|  0.01174        \t|  430            \t|  5.0481         \t|  38.485         \t|\n",
      "|  [Strategy]SingleDeviceStrategy.training_step                                                                                                                                                                           \t|  0.0048276      \t|  430            \t|  2.0758         \t|  15.826         \t|\n",
      "|  on_train_batch_end                                                                                                                                                                                                     \t|  0.0033207      \t|  430            \t|  1.4279         \t|  10.886         \t|\n",
      "|  [Strategy]SingleDeviceStrategy.backward                                                                                                                                                                                \t|  0.0026269      \t|  430            \t|  1.1296         \t|  8.6113         \t|\n",
      "|  [Strategy]SingleDeviceStrategy.validation_step                                                                                                                                                                         \t|  0.0072113      \t|  42             \t|  0.30287        \t|  2.309          \t|\n",
      "|  [LightningModule]BaseLitModel.optimizer_zero_grad                                                                                                                                                                      \t|  0.0004184      \t|  430            \t|  0.17991        \t|  1.3716         \t|\n",
      "|  [Callback]TQDMProgressBar.on_validation_batch_end                                                                                                                                                                      \t|  0.0028814      \t|  42             \t|  0.12102        \t|  0.92262        \t|\n",
      "|  on_train_batch_start                                                                                                                                                                                                   \t|  0.00016437     \t|  430            \t|  0.070681       \t|  0.53884        \t|\n",
      "|  [Strategy]SingleDeviceStrategy.batch_to_device                                                                                                                                                                         \t|  0.00013245     \t|  472            \t|  0.062518       \t|  0.47661        \t|\n",
      "|  [Callback]ModelCheckpoint{'monitor': 'validation/loss', 'mode': 'min', 'every_n_train_steps': 0, 'every_n_epochs': 1, 'train_time_interval': None, 'save_on_train_epoch_end': True}.on_train_epoch_end                 \t|  0.038925       \t|  1              \t|  0.038925       \t|  0.29675        \t|\n",
      "|  [Callback]TQDMProgressBar.on_sanity_check_start                                                                                                                                                                        \t|  0.032406       \t|  1              \t|  0.032406       \t|  0.24705        \t|\n",
      "|  [Callback]TQDMProgressBar.on_train_start                                                                                                                                                                               \t|  0.03183        \t|  1              \t|  0.03183        \t|  0.24266        \t|\n",
      "|  [Callback]TQDMProgressBar.on_validation_start                                                                                                                                                                          \t|  0.01549        \t|  2              \t|  0.030979       \t|  0.23617        \t|\n",
      "|  [Callback]TQDMProgressBar.on_validation_batch_start                                                                                                                                                                    \t|  0.00050243     \t|  42             \t|  0.021102       \t|  0.16088        \t|\n",
      "|  [Callback]ModelSummary.on_after_backward                                                                                                                                                                               \t|  1.2733e-05     \t|  430            \t|  0.005475       \t|  0.041739       \t|\n",
      "|  [Callback]TQDMProgressBar.on_validation_end                                                                                                                                                                            \t|  0.0019127      \t|  2              \t|  0.0038254      \t|  0.029163       \t|\n",
      "|  [Callback]ModelSummary.on_before_zero_grad                                                                                                                                                                             \t|  8.3826e-06     \t|  430            \t|  0.0036045      \t|  0.027479       \t|\n",
      "|  [Callback]ModelSummary.on_before_optimizer_step                                                                                                                                                                        \t|  8.1184e-06     \t|  430            \t|  0.0034909      \t|  0.026613       \t|\n",
      "|  [Callback]ModelSummary.on_before_backward                                                                                                                                                                              \t|  7.6635e-06     \t|  430            \t|  0.0032953      \t|  0.025122       \t|\n",
      "|  [Callback]TQDMProgressBar.on_after_backward                                                                                                                                                                            \t|  7.4221e-06     \t|  430            \t|  0.0031915      \t|  0.024331       \t|\n",
      "|  [Callback]ModelSummary.on_batch_start                                                                                                                                                                                  \t|  7.2916e-06     \t|  430            \t|  0.0031354      \t|  0.023903       \t|\n",
      "|  [Callback]ModelCheckpoint{'monitor': 'validation/loss', 'mode': 'min', 'every_n_train_steps': 0, 'every_n_epochs': 1, 'train_time_interval': None, 'save_on_train_epoch_end': True}.on_after_backward                  \t|  7.05e-06       \t|  430            \t|  0.0030315      \t|  0.023111       \t|\n",
      "|  [Callback]TQDMProgressBar.on_before_optimizer_step                                                                                                                                                                     \t|  6.5965e-06     \t|  430            \t|  0.0028365      \t|  0.021624       \t|\n",
      "|  [Callback]ModelSummary.on_batch_end                                                                                                                                                                                    \t|  6.5844e-06     \t|  430            \t|  0.0028313      \t|  0.021585       \t|\n",
      "|  [Callback]ModelCheckpoint{'monitor': 'validation/loss', 'mode': 'min', 'every_n_train_steps': 0, 'every_n_epochs': 1, 'train_time_interval': None, 'save_on_train_epoch_end': True}.on_before_backward                 \t|  6.5463e-06     \t|  430            \t|  0.0028149      \t|  0.02146        \t|\n",
      "|  [Callback]ModelCheckpoint{'monitor': 'validation/loss', 'mode': 'min', 'every_n_train_steps': 0, 'every_n_epochs': 1, 'train_time_interval': None, 'save_on_train_epoch_end': True}.on_before_optimizer_step           \t|  6.3316e-06     \t|  430            \t|  0.0027226      \t|  0.020756       \t|\n",
      "|  [Callback]ModelSummary.on_fit_start                                                                                                                                                                                    \t|  0.0026835      \t|  1              \t|  0.0026835      \t|  0.020458       \t|\n",
      "|  [Callback]TQDMProgressBar.on_before_backward                                                                                                                                                                           \t|  6.183e-06      \t|  430            \t|  0.0026587      \t|  0.020269       \t|\n",
      "|  [Callback]GradientAccumulationScheduler.on_after_backward                                                                                                                                                              \t|  5.9388e-06     \t|  430            \t|  0.0025537      \t|  0.019468       \t|\n",
      "|  [Callback]GradientAccumulationScheduler.on_before_optimizer_step                                                                                                                                                       \t|  5.8391e-06     \t|  430            \t|  0.0025108      \t|  0.019141       \t|\n",
      "|  [Callback]GradientAccumulationScheduler.on_before_backward                                                                                                                                                             \t|  5.7533e-06     \t|  430            \t|  0.0024739      \t|  0.01886        \t|\n",
      "|  [Callback]ModelCheckpoint{'monitor': 'validation/loss', 'mode': 'min', 'every_n_train_steps': 0, 'every_n_epochs': 1, 'train_time_interval': None, 'save_on_train_epoch_end': True}.on_before_zero_grad                \t|  5.6405e-06     \t|  430            \t|  0.0024254      \t|  0.01849        \t|\n",
      "|  [Callback]ModelCheckpoint{'monitor': 'validation/loss', 'mode': 'min', 'every_n_train_steps': 0, 'every_n_epochs': 1, 'train_time_interval': None, 'save_on_train_epoch_end': True}.on_batch_end                       \t|  5.3586e-06     \t|  430            \t|  0.0023042      \t|  0.017566       \t|\n",
      "|  [Callback]ModelCheckpoint{'monitor': 'validation/loss', 'mode': 'min', 'every_n_train_steps': 0, 'every_n_epochs': 1, 'train_time_interval': None, 'save_on_train_epoch_end': True}.on_batch_start                     \t|  5.3472e-06     \t|  430            \t|  0.0022993      \t|  0.017529       \t|\n",
      "|  [Callback]TQDMProgressBar.on_before_zero_grad                                                                                                                                                                          \t|  5.2877e-06     \t|  430            \t|  0.0022737      \t|  0.017334       \t|\n",
      "|  [Callback]TQDMProgressBar.on_batch_start                                                                                                                                                                               \t|  5.1577e-06     \t|  430            \t|  0.0022178      \t|  0.016908       \t|\n",
      "|  [Callback]TQDMProgressBar.on_train_epoch_start                                                                                                                                                                         \t|  0.0021661      \t|  1              \t|  0.0021661      \t|  0.016514       \t|\n",
      "|  [Callback]GradientAccumulationScheduler.on_before_zero_grad                                                                                                                                                            \t|  4.8984e-06     \t|  430            \t|  0.0021063      \t|  0.016058       \t|\n",
      "|  [Callback]TQDMProgressBar.on_batch_end                                                                                                                                                                                 \t|  4.5795e-06     \t|  430            \t|  0.0019692      \t|  0.015012       \t|\n",
      "|  [Callback]GradientAccumulationScheduler.on_batch_start                                                                                                                                                                 \t|  4.5616e-06     \t|  430            \t|  0.0019615      \t|  0.014954       \t|\n",
      "|  [Callback]GradientAccumulationScheduler.on_batch_end                                                                                                                                                                   \t|  4.4314e-06     \t|  430            \t|  0.0019055      \t|  0.014527       \t|\n",
      "|  [LightningModule]BaseLitModel.on_after_backward                                                                                                                                                                        \t|  3.6809e-06     \t|  430            \t|  0.0015828      \t|  0.012067       \t|\n",
      "|  [LightningModule]BaseLitModel.on_train_batch_end                                                                                                                                                                       \t|  3.5112e-06     \t|  430            \t|  0.0015098      \t|  0.01151        \t|\n",
      "|  [LightningModule]BaseLitModel.training_step_end                                                                                                                                                                        \t|  3.3967e-06     \t|  430            \t|  0.0014606      \t|  0.011135       \t|\n",
      "|  [LightningModule]BaseLitModel.on_train_batch_start                                                                                                                                                                     \t|  3.0928e-06     \t|  430            \t|  0.0013299      \t|  0.010139       \t|\n",
      "|  [LightningModule]BaseLitModel.on_before_zero_grad                                                                                                                                                                      \t|  3.0537e-06     \t|  430            \t|  0.0013131      \t|  0.010011       \t|\n",
      "|  [LightningModule]BaseLitModel.on_before_optimizer_step                                                                                                                                                                 \t|  3.026e-06      \t|  430            \t|  0.0013012      \t|  0.0099199      \t|\n",
      "|  [LightningModule]BaseLitModel.on_before_backward                                                                                                                                                                       \t|  3.0049e-06     \t|  430            \t|  0.0012921      \t|  0.0098505      \t|\n",
      "|  [Callback]TQDMProgressBar.on_train_end                                                                                                                                                                                 \t|  0.0012413      \t|  1              \t|  0.0012413      \t|  0.0094632      \t|\n",
      "|  [Callback]TQDMProgressBar.on_train_epoch_end                                                                                                                                                                           \t|  0.0012335      \t|  1              \t|  0.0012335      \t|  0.0094038      \t|\n",
      "|  [Strategy]SingleDeviceStrategy.training_step_end                                                                                                                                                                       \t|  2.5565e-06     \t|  430            \t|  0.0010993      \t|  0.0083807      \t|\n",
      "|  [Strategy]SingleDeviceStrategy.on_train_batch_start                                                                                                                                                                    \t|  2.3167e-06     \t|  430            \t|  0.0009962      \t|  0.0075947      \t|\n",
      "|  [Callback]GradientAccumulationScheduler.on_validation_batch_end                                                                                                                                                        \t|  1.3217e-05     \t|  42             \t|  0.0005551      \t|  0.0042319      \t|\n",
      "|  [LightningModule]BaseLitModel.on_validation_model_train                                                                                                                                                                \t|  0.00021865     \t|  2              \t|  0.0004373      \t|  0.0033338      \t|\n",
      "|  [Callback]ModelSummary.on_validation_batch_start                                                                                                                                                                       \t|  9.269e-06      \t|  42             \t|  0.0003893      \t|  0.0029679      \t|\n",
      "|  [LightningModule]BaseLitModel.on_validation_model_eval                                                                                                                                                                 \t|  0.00017025     \t|  2              \t|  0.0003405      \t|  0.0025959      \t|\n",
      "|  [Callback]ModelSummary.on_validation_batch_end                                                                                                                                                                         \t|  7.5286e-06     \t|  42             \t|  0.0003162      \t|  0.0024106      \t|\n",
      "|  [Callback]ModelCheckpoint{'monitor': 'validation/loss', 'mode': 'min', 'every_n_train_steps': 0, 'every_n_epochs': 1, 'train_time_interval': None, 'save_on_train_epoch_end': True}.on_validation_batch_end            \t|  6.369e-06      \t|  42             \t|  0.0002675      \t|  0.0020393      \t|\n",
      "|  [Callback]GradientAccumulationScheduler.on_validation_batch_start                                                                                                                                                      \t|  6.269e-06      \t|  42             \t|  0.0002633      \t|  0.0020073      \t|\n",
      "|  [Callback]ModelCheckpoint{'monitor': 'validation/loss', 'mode': 'min', 'every_n_train_steps': 0, 'every_n_epochs': 1, 'train_time_interval': None, 'save_on_train_epoch_end': True}.on_validation_batch_start          \t|  5.6524e-06     \t|  42             \t|  0.0002374      \t|  0.0018099      \t|\n",
      "|  [LightningModule]BaseLitModel.validation_step_end                                                                                                                                                                      \t|  4.5833e-06     \t|  42             \t|  0.0001925      \t|  0.0014676      \t|\n",
      "|  [Callback]ModelCheckpoint{'monitor': 'validation/loss', 'mode': 'min', 'every_n_train_steps': 0, 'every_n_epochs': 1, 'train_time_interval': None, 'save_on_train_epoch_end': True}.on_validation_end                  \t|  8.76e-05       \t|  2              \t|  0.0001752      \t|  0.0013357      \t|\n",
      "|  [LightningModule]BaseLitModel.on_validation_batch_start                                                                                                                                                                \t|  3.7333e-06     \t|  42             \t|  0.0001568      \t|  0.0011954      \t|\n",
      "|  [LightningModule]BaseLitModel.configure_optimizers                                                                                                                                                                     \t|  0.0001555      \t|  1              \t|  0.0001555      \t|  0.0011855      \t|\n",
      "|  [LightningModule]BaseLitModel.on_validation_batch_end                                                                                                                                                                  \t|  2.9e-06        \t|  42             \t|  0.0001218      \t|  0.00092856     \t|\n",
      "|  [Strategy]SingleDeviceStrategy.validation_step_end                                                                                                                                                                     \t|  2.8071e-06     \t|  42             \t|  0.0001179      \t|  0.00089883     \t|\n",
      "|  [Callback]ModelCheckpoint{'monitor': 'validation/loss', 'mode': 'min', 'every_n_train_steps': 0, 'every_n_epochs': 1, 'train_time_interval': None, 'save_on_train_epoch_end': None}.setup                              \t|  9.43e-05       \t|  1              \t|  9.43e-05       \t|  0.00071891     \t|\n",
      "|  [Callback]ModelSummary.on_validation_start                                                                                                                                                                             \t|  1.47e-05       \t|  2              \t|  2.94e-05       \t|  0.00022414     \t|\n",
      "|  [Callback]ModelSummary.on_validation_epoch_end                                                                                                                                                                         \t|  1.445e-05      \t|  2              \t|  2.89e-05       \t|  0.00022032     \t|\n",
      "|  [Callback]GradientAccumulationScheduler.on_validation_start                                                                                                                                                            \t|  1.43e-05       \t|  2              \t|  2.86e-05       \t|  0.00021804     \t|\n",
      "|  [Callback]GradientAccumulationScheduler.on_sanity_check_start                                                                                                                                                          \t|  2.81e-05       \t|  1              \t|  2.81e-05       \t|  0.00021422     \t|\n",
      "|  [Callback]GradientAccumulationScheduler.on_validation_end                                                                                                                                                              \t|  1.33e-05       \t|  2              \t|  2.66e-05       \t|  0.00020279     \t|\n",
      "|  [Callback]GradientAccumulationScheduler.on_train_start                                                                                                                                                                 \t|  2.5e-05        \t|  1              \t|  2.5e-05        \t|  0.00019059     \t|\n",
      "|  [LightningModule]BaseLitModel.on_validation_start                                                                                                                                                                      \t|  1.21e-05       \t|  2              \t|  2.42e-05       \t|  0.00018449     \t|\n",
      "|  [Callback]ModelSummary.on_epoch_start                                                                                                                                                                                  \t|  7.2333e-06     \t|  3              \t|  2.17e-05       \t|  0.00016543     \t|\n",
      "|  [Strategy]SingleDeviceStrategy.on_validation_end                                                                                                                                                                       \t|  1.035e-05      \t|  2              \t|  2.07e-05       \t|  0.00015781     \t|\n",
      "|  [Callback]ModelSummary.on_validation_end                                                                                                                                                                               \t|  9.15e-06       \t|  2              \t|  1.83e-05       \t|  0.00013951     \t|\n",
      "|  [Callback]ModelSummary.on_epoch_end                                                                                                                                                                                    \t|  5.7333e-06     \t|  3              \t|  1.72e-05       \t|  0.00013113     \t|\n",
      "|  [Callback]ModelCheckpoint{'monitor': 'validation/loss', 'mode': 'min', 'every_n_train_steps': 0, 'every_n_epochs': 1, 'train_time_interval': None, 'save_on_train_epoch_end': True}.on_epoch_start                     \t|  5.4667e-06     \t|  3              \t|  1.64e-05       \t|  0.00012503     \t|\n",
      "|  [Callback]GradientAccumulationScheduler.on_train_epoch_start                                                                                                                                                           \t|  1.59e-05       \t|  1              \t|  1.59e-05       \t|  0.00012122     \t|\n",
      "|  [LightningModule]BaseLitModel.on_train_start                                                                                                                                                                           \t|  1.54e-05       \t|  1              \t|  1.54e-05       \t|  0.0001174      \t|\n",
      "|  [LightningModule]BaseLitModel.on_train_end                                                                                                                                                                             \t|  1.52e-05       \t|  1              \t|  1.52e-05       \t|  0.00011588     \t|\n",
      "|  [Callback]TQDMProgressBar.on_epoch_start                                                                                                                                                                               \t|  4.7e-06        \t|  3              \t|  1.41e-05       \t|  0.00010749     \t|\n",
      "|  [Callback]ModelSummary.on_train_end                                                                                                                                                                                    \t|  1.34e-05       \t|  1              \t|  1.34e-05       \t|  0.00010216     \t|\n",
      "|  [Callback]TQDMProgressBar.on_fit_start                                                                                                                                                                                 \t|  1.25e-05       \t|  1              \t|  1.25e-05       \t|  9.5296e-05     \t|\n",
      "|  [Strategy]SingleDeviceStrategy.on_train_start                                                                                                                                                                          \t|  1.2e-05        \t|  1              \t|  1.2e-05        \t|  9.1484e-05     \t|\n",
      "|  [Callback]ModelCheckpoint{'monitor': 'validation/loss', 'mode': 'min', 'every_n_train_steps': 0, 'every_n_epochs': 1, 'train_time_interval': None, 'save_on_train_epoch_end': True}.on_epoch_end                       \t|  3.9667e-06     \t|  3              \t|  1.19e-05       \t|  9.0721e-05     \t|\n",
      "|  [Callback]GradientAccumulationScheduler.on_train_epoch_end                                                                                                                                                             \t|  1.14e-05       \t|  1              \t|  1.14e-05       \t|  8.691e-05      \t|\n",
      "|  [Callback]TQDMProgressBar.on_epoch_end                                                                                                                                                                                 \t|  3.7667e-06     \t|  3              \t|  1.13e-05       \t|  8.6147e-05     \t|\n",
      "|  [Callback]TQDMProgressBar.on_validation_epoch_end                                                                                                                                                                      \t|  5.6e-06        \t|  2              \t|  1.12e-05       \t|  8.5385e-05     \t|\n",
      "|  [Callback]ModelSummary.setup                                                                                                                                                                                           \t|  1.12e-05       \t|  1              \t|  1.12e-05       \t|  8.5385e-05     \t|\n",
      "|  [Callback]GradientAccumulationScheduler.on_epoch_end                                                                                                                                                                   \t|  3.6333e-06     \t|  3              \t|  1.09e-05       \t|  8.3098e-05     \t|\n",
      "|  [Callback]GradientAccumulationScheduler.on_epoch_start                                                                                                                                                                 \t|  3.6e-06        \t|  3              \t|  1.08e-05       \t|  8.2335e-05     \t|\n",
      "|  [Callback]GradientAccumulationScheduler.on_train_end                                                                                                                                                                   \t|  1.07e-05       \t|  1              \t|  1.07e-05       \t|  8.1573e-05     \t|\n",
      "|  [LightningModule]BaseLitModel.on_epoch_start                                                                                                                                                                           \t|  3.4e-06        \t|  3              \t|  1.02e-05       \t|  7.7761e-05     \t|\n",
      "|  [Callback]ModelCheckpoint{'monitor': 'validation/loss', 'mode': 'min', 'every_n_train_steps': 0, 'every_n_epochs': 1, 'train_time_interval': None, 'save_on_train_epoch_end': True}.on_validation_start                \t|  4.95e-06       \t|  2              \t|  9.9e-06        \t|  7.5474e-05     \t|\n",
      "|  [Callback]TQDMProgressBar.on_sanity_check_end                                                                                                                                                                          \t|  9.6e-06        \t|  1              \t|  9.6e-06        \t|  7.3187e-05     \t|\n",
      "|  [Callback]TQDMProgressBar.setup                                                                                                                                                                                        \t|  9.4e-06        \t|  1              \t|  9.4e-06        \t|  7.1662e-05     \t|\n",
      "|  [Callback]ModelCheckpoint{'monitor': 'validation/loss', 'mode': 'min', 'every_n_train_steps': 0, 'every_n_epochs': 1, 'train_time_interval': None, 'save_on_train_epoch_end': True}.on_validation_epoch_end            \t|  4.45e-06       \t|  2              \t|  8.9e-06        \t|  6.785e-05      \t|\n",
      "|  [Callback]ModelSummary.on_save_checkpoint                                                                                                                                                                              \t|  8.8e-06        \t|  1              \t|  8.8e-06        \t|  6.7088e-05     \t|\n",
      "|  [Callback]ModelSummary.on_validation_epoch_start                                                                                                                                                                       \t|  4.4e-06        \t|  2              \t|  8.8e-06        \t|  6.7088e-05     \t|\n",
      "|  [LightningModule]BaseLitModel.on_validation_epoch_end                                                                                                                                                                  \t|  4.15e-06       \t|  2              \t|  8.3e-06        \t|  6.3276e-05     \t|\n",
      "|  [LightningModule]BaseLitModel.validation_epoch_end                                                                                                                                                                     \t|  4.1e-06        \t|  2              \t|  8.2e-06        \t|  6.2514e-05     \t|\n",
      "|  [Callback]ModelSummary.on_pretrain_routine_start                                                                                                                                                                       \t|  8.1e-06        \t|  1              \t|  8.1e-06        \t|  6.1752e-05     \t|\n",
      "|  [Callback]ModelSummary.on_fit_end                                                                                                                                                                                      \t|  7.9e-06        \t|  1              \t|  7.9e-06        \t|  6.0227e-05     \t|\n",
      "|  [Callback]ModelCheckpoint{'monitor': 'validation/loss', 'mode': 'min', 'every_n_train_steps': 0, 'every_n_epochs': 1, 'train_time_interval': None, 'save_on_train_epoch_end': True}.on_validation_epoch_start          \t|  3.9e-06        \t|  2              \t|  7.8e-06        \t|  5.9464e-05     \t|\n",
      "|  [Callback]GradientAccumulationScheduler.on_validation_epoch_end                                                                                                                                                        \t|  3.9e-06        \t|  2              \t|  7.8e-06        \t|  5.9464e-05     \t|\n",
      "|  [Callback]ModelSummary.on_sanity_check_end                                                                                                                                                                             \t|  7.3e-06        \t|  1              \t|  7.3e-06        \t|  5.5653e-05     \t|\n",
      "|  [Callback]TQDMProgressBar.on_validation_epoch_start                                                                                                                                                                    \t|  3.5e-06        \t|  2              \t|  7e-06          \t|  5.3366e-05     \t|\n",
      "|  [Callback]GradientAccumulationScheduler.on_validation_epoch_start                                                                                                                                                      \t|  3.5e-06        \t|  2              \t|  7e-06          \t|  5.3366e-05     \t|\n",
      "|  [Callback]ModelSummary.on_train_start                                                                                                                                                                                  \t|  7e-06          \t|  1              \t|  7e-06          \t|  5.3366e-05     \t|\n",
      "|  [Callback]ModelSummary.on_sanity_check_start                                                                                                                                                                           \t|  6.6e-06        \t|  1              \t|  6.6e-06        \t|  5.0316e-05     \t|\n",
      "|  [Callback]ModelCheckpoint{'monitor': 'validation/loss', 'mode': 'min', 'every_n_train_steps': 0, 'every_n_epochs': 1, 'train_time_interval': None, 'save_on_train_epoch_end': True}.on_train_start                     \t|  6.6e-06        \t|  1              \t|  6.6e-06        \t|  5.0316e-05     \t|\n",
      "|  [Callback]ModelSummary.on_before_accelerator_backend_setup                                                                                                                                                             \t|  6.5e-06        \t|  1              \t|  6.5e-06        \t|  4.9554e-05     \t|\n",
      "|  [Callback]ModelSummary.on_train_epoch_end                                                                                                                                                                              \t|  6.4e-06        \t|  1              \t|  6.4e-06        \t|  4.8791e-05     \t|\n",
      "|  [Callback]ModelCheckpoint{'monitor': 'validation/loss', 'mode': 'min', 'every_n_train_steps': 0, 'every_n_epochs': 1, 'train_time_interval': None, 'save_on_train_epoch_end': True}.on_sanity_check_start              \t|  6.3e-06        \t|  1              \t|  6.3e-06        \t|  4.8029e-05     \t|\n",
      "|  [LightningModule]BaseLitModel.prepare_data                                                                                                                                                                             \t|  6.1e-06        \t|  1              \t|  6.1e-06        \t|  4.6504e-05     \t|\n",
      "|  [Callback]ModelCheckpoint{'monitor': 'validation/loss', 'mode': 'min', 'every_n_train_steps': 0, 'every_n_epochs': 1, 'train_time_interval': None, 'save_on_train_epoch_end': True}.on_train_epoch_start               \t|  5.8e-06        \t|  1              \t|  5.8e-06        \t|  4.4217e-05     \t|\n",
      "|  [LightningModule]BaseLitModel.on_validation_end                                                                                                                                                                        \t|  2.8e-06        \t|  2              \t|  5.6e-06        \t|  4.2692e-05     \t|\n",
      "|  [LightningModule]BaseLitModel.on_epoch_end                                                                                                                                                                             \t|  1.8333e-06     \t|  3              \t|  5.5e-06        \t|  4.193e-05      \t|\n",
      "|  [Callback]ModelSummary.on_configure_sharded_model                                                                                                                                                                      \t|  5.4e-06        \t|  1              \t|  5.4e-06        \t|  4.1168e-05     \t|\n",
      "|  [Callback]ModelCheckpoint{'monitor': 'validation/loss', 'mode': 'min', 'every_n_train_steps': 0, 'every_n_epochs': 1, 'train_time_interval': None, 'save_on_train_epoch_end': True}.on_fit_start                       \t|  5.4e-06        \t|  1              \t|  5.4e-06        \t|  4.1168e-05     \t|\n",
      "|  [Callback]ModelCheckpoint{'monitor': 'validation/loss', 'mode': 'min', 'every_n_train_steps': 0, 'every_n_epochs': 1, 'train_time_interval': None, 'save_on_train_epoch_end': None}.on_before_accelerator_backend_setup\t|  5.1e-06        \t|  1              \t|  5.1e-06        \t|  3.8881e-05     \t|\n",
      "|  [Callback]GradientAccumulationScheduler.on_fit_start                                                                                                                                                                   \t|  5e-06          \t|  1              \t|  5e-06          \t|  3.8118e-05     \t|\n",
      "|  [Callback]ModelCheckpoint{'monitor': 'validation/loss', 'mode': 'min', 'every_n_train_steps': 0, 'every_n_epochs': 1, 'train_time_interval': None, 'save_on_train_epoch_end': True}.on_pretrain_routine_start          \t|  4.9e-06        \t|  1              \t|  4.9e-06        \t|  3.7356e-05     \t|\n",
      "|  [Callback]TQDMProgressBar.on_save_checkpoint                                                                                                                                                                           \t|  4.9e-06        \t|  1              \t|  4.9e-06        \t|  3.7356e-05     \t|\n",
      "|  [Callback]ModelCheckpoint{'monitor': 'validation/loss', 'mode': 'min', 'every_n_train_steps': 0, 'every_n_epochs': 1, 'train_time_interval': None, 'save_on_train_epoch_end': True}.on_train_end                       \t|  4.9e-06        \t|  1              \t|  4.9e-06        \t|  3.7356e-05     \t|\n",
      "|  [Callback]TQDMProgressBar.on_fit_end                                                                                                                                                                                   \t|  4.9e-06        \t|  1              \t|  4.9e-06        \t|  3.7356e-05     \t|\n",
      "|  [LightningModule]BaseLitModel.configure_callbacks                                                                                                                                                                      \t|  4.7e-06        \t|  1              \t|  4.7e-06        \t|  3.5831e-05     \t|\n",
      "|  [Callback]ModelSummary.teardown                                                                                                                                                                                        \t|  4.7e-06        \t|  1              \t|  4.7e-06        \t|  3.5831e-05     \t|\n",
      "|  [LightningModule]BaseLitModel.on_validation_epoch_start                                                                                                                                                                \t|  2.3e-06        \t|  2              \t|  4.6e-06        \t|  3.5069e-05     \t|\n",
      "|  [Callback]ModelCheckpoint{'monitor': 'validation/loss', 'mode': 'min', 'every_n_train_steps': 0, 'every_n_epochs': 1, 'train_time_interval': None, 'save_on_train_epoch_end': True}.on_configure_sharded_model         \t|  4.5e-06        \t|  1              \t|  4.5e-06        \t|  3.4306e-05     \t|\n",
      "|  [Callback]TQDMProgressBar.on_pretrain_routine_start                                                                                                                                                                    \t|  4.5e-06        \t|  1              \t|  4.5e-06        \t|  3.4306e-05     \t|\n",
      "|  [Callback]ModelCheckpoint{'monitor': 'validation/loss', 'mode': 'min', 'every_n_train_steps': 0, 'every_n_epochs': 1, 'train_time_interval': None, 'save_on_train_epoch_end': True}.on_fit_end                         \t|  4.5e-06        \t|  1              \t|  4.5e-06        \t|  3.4306e-05     \t|\n",
      "|  [Callback]ModelSummary.on_train_epoch_start                                                                                                                                                                            \t|  4.4e-06        \t|  1              \t|  4.4e-06        \t|  3.3544e-05     \t|\n",
      "|  [Callback]ModelSummary.on_pretrain_routine_end                                                                                                                                                                         \t|  4.3e-06        \t|  1              \t|  4.3e-06        \t|  3.2782e-05     \t|\n",
      "|  [Callback]ModelCheckpoint{'monitor': 'validation/loss', 'mode': 'min', 'every_n_train_steps': 0, 'every_n_epochs': 1, 'train_time_interval': None, 'save_on_train_epoch_end': True}.on_sanity_check_end                \t|  4.3e-06        \t|  1              \t|  4.3e-06        \t|  3.2782e-05     \t|\n",
      "|  [Callback]TQDMProgressBar.on_before_accelerator_backend_setup                                                                                                                                                          \t|  4.2e-06        \t|  1              \t|  4.2e-06        \t|  3.2019e-05     \t|\n",
      "|  [LightningModule]BaseLitModel.setup                                                                                                                                                                                    \t|  4.2e-06        \t|  1              \t|  4.2e-06        \t|  3.2019e-05     \t|\n",
      "|  [Callback]ModelCheckpoint{'monitor': 'validation/loss', 'mode': 'min', 'every_n_train_steps': 0, 'every_n_epochs': 1, 'train_time_interval': None, 'save_on_train_epoch_end': True}.on_pretrain_routine_end            \t|  4.2e-06        \t|  1              \t|  4.2e-06        \t|  3.2019e-05     \t|\n",
      "|  [Callback]GradientAccumulationScheduler.on_sanity_check_end                                                                                                                                                            \t|  4.2e-06        \t|  1              \t|  4.2e-06        \t|  3.2019e-05     \t|\n",
      "|  [Callback]ModelCheckpoint{'monitor': 'validation/loss', 'mode': 'min', 'every_n_train_steps': 0, 'every_n_epochs': 1, 'train_time_interval': None, 'save_on_train_epoch_end': True}.on_save_checkpoint                 \t|  4.2e-06        \t|  1              \t|  4.2e-06        \t|  3.2019e-05     \t|\n",
      "|  [Strategy]SingleDeviceStrategy.on_validation_start                                                                                                                                                                     \t|  2.1e-06        \t|  2              \t|  4.2e-06        \t|  3.2019e-05     \t|\n",
      "|  [Callback]GradientAccumulationScheduler.setup                                                                                                                                                                          \t|  4.1e-06        \t|  1              \t|  4.1e-06        \t|  3.1257e-05     \t|\n",
      "|  [Callback]TQDMProgressBar.on_configure_sharded_model                                                                                                                                                                   \t|  4.1e-06        \t|  1              \t|  4.1e-06        \t|  3.1257e-05     \t|\n",
      "|  [LightningModule]BaseLitModel.on_train_dataloader                                                                                                                                                                      \t|  4.1e-06        \t|  1              \t|  4.1e-06        \t|  3.1257e-05     \t|\n",
      "|  [LightningModule]BaseLitModel.configure_sharded_model                                                                                                                                                                  \t|  4e-06          \t|  1              \t|  4e-06          \t|  3.0495e-05     \t|\n",
      "|  [Callback]GradientAccumulationScheduler.on_fit_end                                                                                                                                                                     \t|  3.9e-06        \t|  1              \t|  3.9e-06        \t|  2.9732e-05     \t|\n",
      "|  [Callback]GradientAccumulationScheduler.on_before_accelerator_backend_setup                                                                                                                                            \t|  3.8e-06        \t|  1              \t|  3.8e-06        \t|  2.897e-05      \t|\n",
      "|  [Callback]TQDMProgressBar.teardown                                                                                                                                                                                     \t|  3.8e-06        \t|  1              \t|  3.8e-06        \t|  2.897e-05      \t|\n",
      "|  [Callback]GradientAccumulationScheduler.on_pretrain_routine_start                                                                                                                                                      \t|  3.7e-06        \t|  1              \t|  3.7e-06        \t|  2.8207e-05     \t|\n",
      "|  [Callback]TQDMProgressBar.on_pretrain_routine_end                                                                                                                                                                      \t|  3.7e-06        \t|  1              \t|  3.7e-06        \t|  2.8207e-05     \t|\n",
      "|  [Callback]GradientAccumulationScheduler.on_save_checkpoint                                                                                                                                                             \t|  3.7e-06        \t|  1              \t|  3.7e-06        \t|  2.8207e-05     \t|\n",
      "|  [Callback]ModelCheckpoint{'monitor': 'validation/loss', 'mode': 'min', 'every_n_train_steps': 0, 'every_n_epochs': 1, 'train_time_interval': None, 'save_on_train_epoch_end': True}.teardown                           \t|  3.7e-06        \t|  1              \t|  3.7e-06        \t|  2.8207e-05     \t|\n",
      "|  [Callback]GradientAccumulationScheduler.on_configure_sharded_model                                                                                                                                                     \t|  3.6e-06        \t|  1              \t|  3.6e-06        \t|  2.7445e-05     \t|\n",
      "|  [Callback]GradientAccumulationScheduler.on_pretrain_routine_end                                                                                                                                                        \t|  3.6e-06        \t|  1              \t|  3.6e-06        \t|  2.7445e-05     \t|\n",
      "|  [LightningModule]BaseLitModel.on_val_dataloader                                                                                                                                                                        \t|  3.4e-06        \t|  1              \t|  3.4e-06        \t|  2.592e-05      \t|\n",
      "|  [Callback]GradientAccumulationScheduler.teardown                                                                                                                                                                       \t|  3.4e-06        \t|  1              \t|  3.4e-06        \t|  2.592e-05      \t|\n",
      "|  [LightningModule]BaseLitModel.on_train_epoch_end                                                                                                                                                                       \t|  3.3e-06        \t|  1              \t|  3.3e-06        \t|  2.5158e-05     \t|\n",
      "|  [LightningModule]BaseLitModel.on_fit_start                                                                                                                                                                             \t|  3e-06          \t|  1              \t|  3e-06          \t|  2.2871e-05     \t|\n",
      "|  [LightningModule]BaseLitModel.on_save_checkpoint                                                                                                                                                                       \t|  2.6e-06        \t|  1              \t|  2.6e-06        \t|  1.9821e-05     \t|\n",
      "|  [LightningModule]BaseLitModel.on_fit_end                                                                                                                                                                               \t|  2.6e-06        \t|  1              \t|  2.6e-06        \t|  1.9821e-05     \t|\n",
      "|  [LightningModule]BaseLitModel.on_train_epoch_start                                                                                                                                                                     \t|  2.3e-06        \t|  1              \t|  2.3e-06        \t|  1.7534e-05     \t|\n",
      "|  [LightningModule]BaseLitModel.on_pretrain_routine_start                                                                                                                                                                \t|  2.2e-06        \t|  1              \t|  2.2e-06        \t|  1.6772e-05     \t|\n",
      "|  [Strategy]SingleDeviceStrategy.on_train_end                                                                                                                                                                            \t|  2e-06          \t|  1              \t|  2e-06          \t|  1.5247e-05     \t|\n",
      "|  [LightningModule]BaseLitModel.on_pretrain_routine_end                                                                                                                                                                  \t|  1.9e-06        \t|  1              \t|  1.9e-06        \t|  1.4485e-05     \t|\n",
      "|  [LightningModule]BaseLitModel.teardown                                                                                                                                                                                 \t|  1.7e-06        \t|  1              \t|  1.7e-06        \t|  1.296e-05      \t|\n",
      "----------------------------------------------------------------------------------------------------------------------------------------------------------------------------------------------------------------------------------------------------------------------------------------------------------------------------------\n",
      "\n"
     ]
    },
    {
     "data": {
      "application/vnd.jupyter.widget-view+json": {
       "model_id": "161cd2c9fa674519aa0777b9ae907cfe",
       "version_major": 2,
       "version_minor": 0
      },
      "text/plain": [
       "Testing: 0it [00:00, ?it/s]"
      ]
     },
     "metadata": {},
     "output_type": "display_data"
    },
    {
     "name": "stderr",
     "output_type": "stream",
     "text": [
      "TEST Profiler Report\n",
      "\n",
      "----------------------------------------------------------------------------------------------------------------------------------------------------------------------------------------------------------------------------------------------------------------------------------------------------------------------------------\n",
      "|  Action                                                                                                                                                                                                                 \t|  Mean duration (s)\t|  Num calls      \t|  Total time (s) \t|  Percentage %   \t|\n",
      "----------------------------------------------------------------------------------------------------------------------------------------------------------------------------------------------------------------------------------------------------------------------------------------------------------------------------------\n",
      "|  Total                                                                                                                                                                                                                  \t|  -              \t|  19542          \t|  14.667         \t|  100 %          \t|\n",
      "----------------------------------------------------------------------------------------------------------------------------------------------------------------------------------------------------------------------------------------------------------------------------------------------------------------------------------\n",
      "|  run_training_epoch                                                                                                                                                                                                     \t|  10.489         \t|  1              \t|  10.489         \t|  71.51          \t|\n",
      "|  run_training_batch                                                                                                                                                                                                     \t|  0.01223        \t|  430            \t|  5.2589         \t|  35.855         \t|\n",
      "|  [LightningModule]BaseLitModel.optimizer_step                                                                                                                                                                           \t|  0.01174        \t|  430            \t|  5.0481         \t|  34.417         \t|\n",
      "|  [Strategy]SingleDeviceStrategy.training_step                                                                                                                                                                           \t|  0.0048276      \t|  430            \t|  2.0758         \t|  14.153         \t|\n",
      "|  on_train_batch_end                                                                                                                                                                                                     \t|  0.0033207      \t|  430            \t|  1.4279         \t|  9.7353         \t|\n",
      "|  run_test_evaluation                                                                                                                                                                                                    \t|  1.415          \t|  1              \t|  1.415          \t|  9.6476         \t|\n",
      "|  [Strategy]SingleDeviceStrategy.backward                                                                                                                                                                                \t|  0.0026269      \t|  430            \t|  1.1296         \t|  7.7012         \t|\n",
      "|  [Strategy]SingleDeviceStrategy.test_step                                                                                                                                                                               \t|  0.0059253      \t|  79             \t|  0.4681         \t|  3.1915         \t|\n",
      "|  [Strategy]SingleDeviceStrategy.validation_step                                                                                                                                                                         \t|  0.0072113      \t|  42             \t|  0.30287        \t|  2.065          \t|\n",
      "|  [LightningModule]BaseLitModel.optimizer_zero_grad                                                                                                                                                                      \t|  0.0004184      \t|  430            \t|  0.17991        \t|  1.2266         \t|\n",
      "|  [Callback]TQDMProgressBar.on_test_batch_end                                                                                                                                                                            \t|  0.0020727      \t|  79             \t|  0.16375        \t|  1.1164         \t|\n",
      "|  [Callback]TQDMProgressBar.on_validation_batch_end                                                                                                                                                                      \t|  0.0028814      \t|  42             \t|  0.12102        \t|  0.8251         \t|\n",
      "|  [Strategy]SingleDeviceStrategy.batch_to_device                                                                                                                                                                         \t|  0.00013596     \t|  551            \t|  0.074916       \t|  0.51077        \t|\n",
      "|  on_train_batch_start                                                                                                                                                                                                   \t|  0.00016437     \t|  430            \t|  0.070681       \t|  0.48189        \t|\n",
      "|  [Callback]ModelCheckpoint{'monitor': 'validation/loss', 'mode': 'min', 'every_n_train_steps': 0, 'every_n_epochs': 1, 'train_time_interval': None, 'save_on_train_epoch_end': True}.on_train_epoch_end                 \t|  0.038925       \t|  1              \t|  0.038925       \t|  0.26539        \t|\n",
      "|  [Callback]TQDMProgressBar.on_sanity_check_start                                                                                                                                                                        \t|  0.032406       \t|  1              \t|  0.032406       \t|  0.22094        \t|\n",
      "|  [Callback]TQDMProgressBar.on_train_start                                                                                                                                                                               \t|  0.03183        \t|  1              \t|  0.03183        \t|  0.21701        \t|\n",
      "|  [Callback]TQDMProgressBar.on_validation_start                                                                                                                                                                          \t|  0.01549        \t|  2              \t|  0.030979       \t|  0.21121        \t|\n",
      "|  [Callback]TQDMProgressBar.on_test_start                                                                                                                                                                                \t|  0.027375       \t|  1              \t|  0.027375       \t|  0.18664        \t|\n",
      "|  [Callback]TQDMProgressBar.on_validation_batch_start                                                                                                                                                                    \t|  0.00050243     \t|  42             \t|  0.021102       \t|  0.14387        \t|\n",
      "|  [Callback]TQDMProgressBar.on_test_batch_start                                                                                                                                                                          \t|  0.00010509     \t|  79             \t|  0.0083021      \t|  0.056603       \t|\n",
      "|  [Callback]ModelSummary.on_after_backward                                                                                                                                                                               \t|  1.2733e-05     \t|  430            \t|  0.005475       \t|  0.037328       \t|\n",
      "|  [Callback]TQDMProgressBar.on_validation_end                                                                                                                                                                            \t|  0.0019127      \t|  2              \t|  0.0038254      \t|  0.026081       \t|\n",
      "|  [Callback]ModelSummary.on_before_zero_grad                                                                                                                                                                             \t|  8.3826e-06     \t|  430            \t|  0.0036045      \t|  0.024575       \t|\n",
      "|  [Callback]ModelSummary.on_before_optimizer_step                                                                                                                                                                        \t|  8.1184e-06     \t|  430            \t|  0.0034909      \t|  0.023801       \t|\n",
      "|  [Callback]ModelSummary.on_before_backward                                                                                                                                                                              \t|  7.6635e-06     \t|  430            \t|  0.0032953      \t|  0.022467       \t|\n",
      "|  [Callback]TQDMProgressBar.on_after_backward                                                                                                                                                                            \t|  7.4221e-06     \t|  430            \t|  0.0031915      \t|  0.021759       \t|\n",
      "|  [Callback]ModelSummary.on_batch_start                                                                                                                                                                                  \t|  7.2916e-06     \t|  430            \t|  0.0031354      \t|  0.021377       \t|\n",
      "|  [Callback]ModelCheckpoint{'monitor': 'validation/loss', 'mode': 'min', 'every_n_train_steps': 0, 'every_n_epochs': 1, 'train_time_interval': None, 'save_on_train_epoch_end': True}.on_after_backward                  \t|  7.05e-06       \t|  430            \t|  0.0030315      \t|  0.020668       \t|\n",
      "|  [Callback]TQDMProgressBar.on_before_optimizer_step                                                                                                                                                                     \t|  6.5965e-06     \t|  430            \t|  0.0028365      \t|  0.019339       \t|\n",
      "|  [Callback]ModelSummary.on_batch_end                                                                                                                                                                                    \t|  6.5844e-06     \t|  430            \t|  0.0028313      \t|  0.019303       \t|\n",
      "|  [Callback]ModelCheckpoint{'monitor': 'validation/loss', 'mode': 'min', 'every_n_train_steps': 0, 'every_n_epochs': 1, 'train_time_interval': None, 'save_on_train_epoch_end': True}.on_before_backward                 \t|  6.5463e-06     \t|  430            \t|  0.0028149      \t|  0.019192       \t|\n",
      "|  [Callback]ModelCheckpoint{'monitor': 'validation/loss', 'mode': 'min', 'every_n_train_steps': 0, 'every_n_epochs': 1, 'train_time_interval': None, 'save_on_train_epoch_end': True}.on_before_optimizer_step           \t|  6.3316e-06     \t|  430            \t|  0.0027226      \t|  0.018562       \t|\n",
      "|  [Callback]ModelSummary.on_fit_start                                                                                                                                                                                    \t|  0.0026835      \t|  1              \t|  0.0026835      \t|  0.018296       \t|\n",
      "|  [Callback]TQDMProgressBar.on_before_backward                                                                                                                                                                           \t|  6.183e-06      \t|  430            \t|  0.0026587      \t|  0.018127       \t|\n",
      "|  [Callback]GradientAccumulationScheduler.on_after_backward                                                                                                                                                              \t|  5.9388e-06     \t|  430            \t|  0.0025537      \t|  0.017411       \t|\n",
      "|  [Callback]GradientAccumulationScheduler.on_before_optimizer_step                                                                                                                                                       \t|  5.8391e-06     \t|  430            \t|  0.0025108      \t|  0.017118       \t|\n",
      "|  [Callback]GradientAccumulationScheduler.on_before_backward                                                                                                                                                             \t|  5.7533e-06     \t|  430            \t|  0.0024739      \t|  0.016867       \t|\n",
      "|  [Callback]ModelCheckpoint{'monitor': 'validation/loss', 'mode': 'min', 'every_n_train_steps': 0, 'every_n_epochs': 1, 'train_time_interval': None, 'save_on_train_epoch_end': True}.on_before_zero_grad                \t|  5.6405e-06     \t|  430            \t|  0.0024254      \t|  0.016536       \t|\n",
      "|  [Callback]ModelCheckpoint{'monitor': 'validation/loss', 'mode': 'min', 'every_n_train_steps': 0, 'every_n_epochs': 1, 'train_time_interval': None, 'save_on_train_epoch_end': True}.on_batch_end                       \t|  5.3586e-06     \t|  430            \t|  0.0023042      \t|  0.01571        \t|\n",
      "|  [Callback]ModelCheckpoint{'monitor': 'validation/loss', 'mode': 'min', 'every_n_train_steps': 0, 'every_n_epochs': 1, 'train_time_interval': None, 'save_on_train_epoch_end': True}.on_batch_start                     \t|  5.3472e-06     \t|  430            \t|  0.0022993      \t|  0.015676       \t|\n",
      "|  [Callback]TQDMProgressBar.on_before_zero_grad                                                                                                                                                                          \t|  5.2877e-06     \t|  430            \t|  0.0022737      \t|  0.015502       \t|\n",
      "|  [Callback]TQDMProgressBar.on_batch_start                                                                                                                                                                               \t|  5.1577e-06     \t|  430            \t|  0.0022178      \t|  0.015121       \t|\n",
      "|  [Callback]TQDMProgressBar.on_train_epoch_start                                                                                                                                                                         \t|  0.0021661      \t|  1              \t|  0.0021661      \t|  0.014768       \t|\n",
      "|  [Callback]GradientAccumulationScheduler.on_before_zero_grad                                                                                                                                                            \t|  4.8984e-06     \t|  430            \t|  0.0021063      \t|  0.014361       \t|\n",
      "|  [Callback]TQDMProgressBar.on_batch_end                                                                                                                                                                                 \t|  4.5795e-06     \t|  430            \t|  0.0019692      \t|  0.013426       \t|\n",
      "|  [Callback]GradientAccumulationScheduler.on_batch_start                                                                                                                                                                 \t|  4.5616e-06     \t|  430            \t|  0.0019615      \t|  0.013373       \t|\n",
      "|  [Callback]GradientAccumulationScheduler.on_batch_end                                                                                                                                                                   \t|  4.4314e-06     \t|  430            \t|  0.0019055      \t|  0.012991       \t|\n",
      "|  [LightningModule]BaseLitModel.on_after_backward                                                                                                                                                                        \t|  3.6809e-06     \t|  430            \t|  0.0015828      \t|  0.010791       \t|\n",
      "|  [LightningModule]BaseLitModel.on_train_batch_end                                                                                                                                                                       \t|  3.5112e-06     \t|  430            \t|  0.0015098      \t|  0.010294       \t|\n",
      "|  [LightningModule]BaseLitModel.training_step_end                                                                                                                                                                        \t|  3.3967e-06     \t|  430            \t|  0.0014606      \t|  0.0099582      \t|\n",
      "|  [LightningModule]BaseLitModel.on_train_batch_start                                                                                                                                                                     \t|  3.0928e-06     \t|  430            \t|  0.0013299      \t|  0.0090671      \t|\n",
      "|  [LightningModule]BaseLitModel.on_before_zero_grad                                                                                                                                                                      \t|  3.0537e-06     \t|  430            \t|  0.0013131      \t|  0.0089526      \t|\n",
      "|  [LightningModule]BaseLitModel.on_before_optimizer_step                                                                                                                                                                 \t|  3.026e-06      \t|  430            \t|  0.0013012      \t|  0.0088714      \t|\n",
      "|  [LightningModule]BaseLitModel.on_before_backward                                                                                                                                                                       \t|  3.0049e-06     \t|  430            \t|  0.0012921      \t|  0.0088094      \t|\n",
      "|  [Callback]GradientAccumulationScheduler.on_test_batch_end                                                                                                                                                              \t|  1.5785e-05     \t|  79             \t|  0.001247       \t|  0.0085019      \t|\n",
      "|  [Callback]TQDMProgressBar.on_train_end                                                                                                                                                                                 \t|  0.0012413      \t|  1              \t|  0.0012413      \t|  0.008463       \t|\n",
      "|  [Callback]TQDMProgressBar.on_train_epoch_end                                                                                                                                                                           \t|  0.0012335      \t|  1              \t|  0.0012335      \t|  0.0084099      \t|\n",
      "|  [Strategy]SingleDeviceStrategy.training_step_end                                                                                                                                                                       \t|  2.5565e-06     \t|  430            \t|  0.0010993      \t|  0.0074949      \t|\n",
      "|  [Strategy]SingleDeviceStrategy.on_train_batch_start                                                                                                                                                                    \t|  2.3167e-06     \t|  430            \t|  0.0009962      \t|  0.006792       \t|\n",
      "|  [Callback]ModelSummary.on_test_batch_start                                                                                                                                                                             \t|  1.2163e-05     \t|  79             \t|  0.0009609      \t|  0.0065513      \t|\n",
      "|  [Callback]TQDMProgressBar.on_test_end                                                                                                                                                                                  \t|  0.000755       \t|  1              \t|  0.000755       \t|  0.0051475      \t|\n",
      "|  [Callback]ModelSummary.on_test_batch_end                                                                                                                                                                               \t|  9.3127e-06     \t|  79             \t|  0.0007357      \t|  0.0050159      \t|\n",
      "|  [Callback]ModelCheckpoint{'monitor': 'validation/loss', 'mode': 'min', 'every_n_train_steps': 0, 'every_n_epochs': 1, 'train_time_interval': None, 'save_on_train_epoch_end': True}.on_test_batch_end                  \t|  8.9646e-06     \t|  79             \t|  0.0007082      \t|  0.0048284      \t|\n",
      "|  [Callback]ModelCheckpoint{'monitor': 'validation/loss', 'mode': 'min', 'every_n_train_steps': 0, 'every_n_epochs': 1, 'train_time_interval': None, 'save_on_train_epoch_end': True}.on_test_batch_start                \t|  7.6696e-06     \t|  79             \t|  0.0006059      \t|  0.004131       \t|\n",
      "|  [Callback]GradientAccumulationScheduler.on_test_batch_start                                                                                                                                                            \t|  7.4506e-06     \t|  79             \t|  0.0005886      \t|  0.004013       \t|\n",
      "|  [Callback]GradientAccumulationScheduler.on_validation_batch_end                                                                                                                                                        \t|  1.3217e-05     \t|  42             \t|  0.0005551      \t|  0.0037846      \t|\n",
      "|  [LightningModule]BaseLitModel.on_validation_model_train                                                                                                                                                                \t|  0.00021865     \t|  2              \t|  0.0004373      \t|  0.0029815      \t|\n",
      "|  [LightningModule]BaseLitModel.test_step_end                                                                                                                                                                            \t|  5.3924e-06     \t|  79             \t|  0.000426       \t|  0.0029044      \t|\n",
      "|  [Callback]ModelSummary.on_validation_batch_start                                                                                                                                                                       \t|  9.269e-06      \t|  42             \t|  0.0003893      \t|  0.0026542      \t|\n",
      "|  [LightningModule]BaseLitModel.on_validation_model_eval                                                                                                                                                                 \t|  0.00017025     \t|  2              \t|  0.0003405      \t|  0.0023215      \t|\n",
      "|  [LightningModule]BaseLitModel.on_test_batch_end                                                                                                                                                                        \t|  4.1241e-06     \t|  79             \t|  0.0003258      \t|  0.0022213      \t|\n",
      "|  [LightningModule]BaseLitModel.on_test_batch_start                                                                                                                                                                      \t|  4.0089e-06     \t|  79             \t|  0.0003167      \t|  0.0021592      \t|\n",
      "|  [Callback]ModelSummary.on_validation_batch_end                                                                                                                                                                         \t|  7.5286e-06     \t|  42             \t|  0.0003162      \t|  0.0021558      \t|\n",
      "|  [Callback]ModelCheckpoint{'monitor': 'validation/loss', 'mode': 'min', 'every_n_train_steps': 0, 'every_n_epochs': 1, 'train_time_interval': None, 'save_on_train_epoch_end': True}.on_validation_batch_end            \t|  6.369e-06      \t|  42             \t|  0.0002675      \t|  0.0018238      \t|\n",
      "|  [Callback]GradientAccumulationScheduler.on_validation_batch_start                                                                                                                                                      \t|  6.269e-06      \t|  42             \t|  0.0002633      \t|  0.0017951      \t|\n",
      "|  [Strategy]SingleDeviceStrategy.test_step_end                                                                                                                                                                           \t|  3.3025e-06     \t|  79             \t|  0.0002609      \t|  0.0017788      \t|\n",
      "|  [Callback]ModelCheckpoint{'monitor': 'validation/loss', 'mode': 'min', 'every_n_train_steps': 0, 'every_n_epochs': 1, 'train_time_interval': None, 'save_on_train_epoch_end': True}.on_validation_batch_start          \t|  5.6524e-06     \t|  42             \t|  0.0002374      \t|  0.0016186      \t|\n",
      "|  [LightningModule]BaseLitModel.validation_step_end                                                                                                                                                                      \t|  4.5833e-06     \t|  42             \t|  0.0001925      \t|  0.0013124      \t|\n",
      "|  [Callback]ModelCheckpoint{'monitor': 'validation/loss', 'mode': 'min', 'every_n_train_steps': 0, 'every_n_epochs': 1, 'train_time_interval': None, 'save_on_train_epoch_end': True}.on_validation_end                  \t|  8.76e-05       \t|  2              \t|  0.0001752      \t|  0.0011945      \t|\n",
      "|  [LightningModule]BaseLitModel.on_test_model_train                                                                                                                                                                      \t|  0.0001649      \t|  1              \t|  0.0001649      \t|  0.0011243      \t|\n",
      "|  [LightningModule]BaseLitModel.on_validation_batch_start                                                                                                                                                                \t|  3.7333e-06     \t|  42             \t|  0.0001568      \t|  0.001069       \t|\n",
      "|  [LightningModule]BaseLitModel.configure_optimizers                                                                                                                                                                     \t|  0.0001555      \t|  1              \t|  0.0001555      \t|  0.0010602      \t|\n",
      "|  [LightningModule]BaseLitModel.on_validation_batch_end                                                                                                                                                                  \t|  2.9e-06        \t|  42             \t|  0.0001218      \t|  0.00083042     \t|\n",
      "|  [Strategy]SingleDeviceStrategy.validation_step_end                                                                                                                                                                     \t|  2.8071e-06     \t|  42             \t|  0.0001179      \t|  0.00080383     \t|\n",
      "|  [LightningModule]BaseLitModel.on_test_model_eval                                                                                                                                                                       \t|  9.95e-05       \t|  1              \t|  9.95e-05       \t|  0.00067838     \t|\n",
      "|  [Callback]ModelCheckpoint{'monitor': 'validation/loss', 'mode': 'min', 'every_n_train_steps': 0, 'every_n_epochs': 1, 'train_time_interval': None, 'save_on_train_epoch_end': None}.setup                              \t|  9.43e-05       \t|  1              \t|  9.43e-05       \t|  0.00064293     \t|\n",
      "|  [Callback]ModelSummary.setup                                                                                                                                                                                           \t|  1.825e-05      \t|  2              \t|  3.65e-05       \t|  0.00024885     \t|\n",
      "|  [Callback]ModelSummary.on_validation_start                                                                                                                                                                             \t|  1.47e-05       \t|  2              \t|  2.94e-05       \t|  0.00020045     \t|\n",
      "|  [Callback]ModelSummary.on_validation_epoch_end                                                                                                                                                                         \t|  1.445e-05      \t|  2              \t|  2.89e-05       \t|  0.00019704     \t|\n",
      "|  [Callback]GradientAccumulationScheduler.on_validation_start                                                                                                                                                            \t|  1.43e-05       \t|  2              \t|  2.86e-05       \t|  0.00019499     \t|\n",
      "|  [Callback]GradientAccumulationScheduler.on_sanity_check_start                                                                                                                                                          \t|  2.81e-05       \t|  1              \t|  2.81e-05       \t|  0.00019158     \t|\n",
      "|  [Callback]GradientAccumulationScheduler.on_validation_end                                                                                                                                                              \t|  1.33e-05       \t|  2              \t|  2.66e-05       \t|  0.00018136     \t|\n",
      "|  [Callback]GradientAccumulationScheduler.on_test_end                                                                                                                                                                    \t|  2.65e-05       \t|  1              \t|  2.65e-05       \t|  0.00018067     \t|\n",
      "|  [Callback]ModelSummary.on_epoch_start                                                                                                                                                                                  \t|  6.6e-06        \t|  4              \t|  2.64e-05       \t|  0.00017999     \t|\n",
      "|  [Callback]GradientAccumulationScheduler.on_train_start                                                                                                                                                                 \t|  2.5e-05        \t|  1              \t|  2.5e-05        \t|  0.00017045     \t|\n",
      "|  [LightningModule]BaseLitModel.on_validation_start                                                                                                                                                                      \t|  1.21e-05       \t|  2              \t|  2.42e-05       \t|  0.00016499     \t|\n",
      "|  [Callback]GradientAccumulationScheduler.on_test_start                                                                                                                                                                  \t|  2.39e-05       \t|  1              \t|  2.39e-05       \t|  0.00016295     \t|\n",
      "|  [Callback]GradientAccumulationScheduler.on_test_epoch_end                                                                                                                                                              \t|  2.26e-05       \t|  1              \t|  2.26e-05       \t|  0.00015408     \t|\n",
      "|  [Callback]ModelCheckpoint{'monitor': 'validation/loss', 'mode': 'min', 'every_n_train_steps': 0, 'every_n_epochs': 1, 'train_time_interval': None, 'save_on_train_epoch_end': True}.setup                              \t|  2.25e-05       \t|  1              \t|  2.25e-05       \t|  0.0001534      \t|\n",
      "|  [Callback]TQDMProgressBar.setup                                                                                                                                                                                        \t|  1.12e-05       \t|  2              \t|  2.24e-05       \t|  0.00015272     \t|\n",
      "|  [Callback]ModelSummary.on_epoch_end                                                                                                                                                                                    \t|  5.475e-06      \t|  4              \t|  2.19e-05       \t|  0.00014931     \t|\n",
      "|  [Strategy]SingleDeviceStrategy.on_validation_end                                                                                                                                                                       \t|  1.035e-05      \t|  2              \t|  2.07e-05       \t|  0.00014113     \t|\n",
      "|  [Callback]ModelSummary.on_test_end                                                                                                                                                                                     \t|  2.05e-05       \t|  1              \t|  2.05e-05       \t|  0.00013977     \t|\n",
      "|  [Callback]ModelCheckpoint{'monitor': 'validation/loss', 'mode': 'min', 'every_n_train_steps': 0, 'every_n_epochs': 1, 'train_time_interval': None, 'save_on_train_epoch_end': True}.on_epoch_end                       \t|  5.125e-06      \t|  4              \t|  2.05e-05       \t|  0.00013977     \t|\n",
      "|  [Callback]ModelCheckpoint{'monitor': 'validation/loss', 'mode': 'min', 'every_n_train_steps': 0, 'every_n_epochs': 1, 'train_time_interval': None, 'save_on_train_epoch_end': True}.on_epoch_start                     \t|  5.05e-06       \t|  4              \t|  2.02e-05       \t|  0.00013772     \t|\n",
      "|  [Callback]ModelCheckpoint{'monitor': 'validation/loss', 'mode': 'min', 'every_n_train_steps': 0, 'every_n_epochs': 1, 'train_time_interval': None, 'save_on_train_epoch_end': True}.on_test_end                        \t|  1.98e-05       \t|  1              \t|  1.98e-05       \t|  0.00013499     \t|\n",
      "|  [LightningModule]BaseLitModel.configure_sharded_model                                                                                                                                                                  \t|  9.3e-06        \t|  2              \t|  1.86e-05       \t|  0.00012681     \t|\n",
      "|  [Callback]ModelSummary.on_validation_end                                                                                                                                                                               \t|  9.15e-06       \t|  2              \t|  1.83e-05       \t|  0.00012477     \t|\n",
      "|  [Callback]TQDMProgressBar.on_epoch_start                                                                                                                                                                               \t|  4.425e-06      \t|  4              \t|  1.77e-05       \t|  0.00012068     \t|\n",
      "|  [Callback]GradientAccumulationScheduler.on_train_epoch_start                                                                                                                                                           \t|  1.59e-05       \t|  1              \t|  1.59e-05       \t|  0.0001084      \t|\n",
      "|  [LightningModule]BaseLitModel.on_train_start                                                                                                                                                                           \t|  1.54e-05       \t|  1              \t|  1.54e-05       \t|  0.000105       \t|\n",
      "|  [LightningModule]BaseLitModel.on_train_end                                                                                                                                                                             \t|  1.52e-05       \t|  1              \t|  1.52e-05       \t|  0.00010363     \t|\n",
      "|  [Callback]TQDMProgressBar.on_epoch_end                                                                                                                                                                                 \t|  3.775e-06      \t|  4              \t|  1.51e-05       \t|  0.00010295     \t|\n",
      "|  [Callback]GradientAccumulationScheduler.on_epoch_end                                                                                                                                                                   \t|  3.625e-06      \t|  4              \t|  1.45e-05       \t|  9.8859e-05     \t|\n",
      "|  [Callback]GradientAccumulationScheduler.on_epoch_start                                                                                                                                                                 \t|  3.575e-06      \t|  4              \t|  1.43e-05       \t|  9.7496e-05     \t|\n",
      "|  [Callback]ModelSummary.teardown                                                                                                                                                                                        \t|  6.8e-06        \t|  2              \t|  1.36e-05       \t|  9.2723e-05     \t|\n",
      "|  [Callback]ModelSummary.on_train_end                                                                                                                                                                                    \t|  1.34e-05       \t|  1              \t|  1.34e-05       \t|  9.136e-05      \t|\n",
      "|  [Callback]ModelSummary.on_before_accelerator_backend_setup                                                                                                                                                             \t|  6.25e-06       \t|  2              \t|  1.25e-05       \t|  8.5224e-05     \t|\n",
      "|  [Callback]TQDMProgressBar.on_fit_start                                                                                                                                                                                 \t|  1.25e-05       \t|  1              \t|  1.25e-05       \t|  8.5223e-05     \t|\n",
      "|  [LightningModule]BaseLitModel.prepare_data                                                                                                                                                                             \t|  6.1e-06        \t|  2              \t|  1.22e-05       \t|  8.3178e-05     \t|\n",
      "|  [LightningModule]BaseLitModel.on_epoch_start                                                                                                                                                                           \t|  3.05e-06       \t|  4              \t|  1.22e-05       \t|  8.3178e-05     \t|\n",
      "|  [Strategy]SingleDeviceStrategy.on_train_start                                                                                                                                                                          \t|  1.2e-05        \t|  1              \t|  1.2e-05        \t|  8.1815e-05     \t|\n",
      "|  [Callback]GradientAccumulationScheduler.on_train_epoch_end                                                                                                                                                             \t|  1.14e-05       \t|  1              \t|  1.14e-05       \t|  7.7724e-05     \t|\n",
      "|  [Callback]TQDMProgressBar.on_validation_epoch_end                                                                                                                                                                      \t|  5.6e-06        \t|  2              \t|  1.12e-05       \t|  7.636e-05      \t|\n",
      "|  [Strategy]SingleDeviceStrategy.on_test_end                                                                                                                                                                             \t|  1.11e-05       \t|  1              \t|  1.11e-05       \t|  7.5678e-05     \t|\n",
      "|  [Callback]ModelSummary.on_configure_sharded_model                                                                                                                                                                      \t|  5.35e-06       \t|  2              \t|  1.07e-05       \t|  7.2951e-05     \t|\n",
      "|  [Callback]GradientAccumulationScheduler.on_train_end                                                                                                                                                                   \t|  1.07e-05       \t|  1              \t|  1.07e-05       \t|  7.2951e-05     \t|\n",
      "|  [Callback]ModelCheckpoint{'monitor': 'validation/loss', 'mode': 'min', 'every_n_train_steps': 0, 'every_n_epochs': 1, 'train_time_interval': None, 'save_on_train_epoch_end': True}.on_validation_start                \t|  4.95e-06       \t|  2              \t|  9.9e-06        \t|  6.7497e-05     \t|\n",
      "|  [Callback]ModelSummary.on_test_epoch_end                                                                                                                                                                               \t|  9.6e-06        \t|  1              \t|  9.6e-06        \t|  6.5452e-05     \t|\n",
      "|  [Callback]TQDMProgressBar.on_sanity_check_end                                                                                                                                                                          \t|  9.6e-06        \t|  1              \t|  9.6e-06        \t|  6.5452e-05     \t|\n",
      "|  [Callback]ModelCheckpoint{'monitor': 'validation/loss', 'mode': 'min', 'every_n_train_steps': 0, 'every_n_epochs': 1, 'train_time_interval': None, 'save_on_train_epoch_end': True}.on_validation_epoch_end            \t|  4.45e-06       \t|  2              \t|  8.9e-06        \t|  6.0679e-05     \t|\n",
      "|  [Callback]ModelSummary.on_save_checkpoint                                                                                                                                                                              \t|  8.8e-06        \t|  1              \t|  8.8e-06        \t|  5.9997e-05     \t|\n",
      "|  [Callback]ModelSummary.on_validation_epoch_start                                                                                                                                                                       \t|  4.4e-06        \t|  2              \t|  8.8e-06        \t|  5.9997e-05     \t|\n",
      "|  [LightningModule]BaseLitModel.configure_callbacks                                                                                                                                                                      \t|  4.3e-06        \t|  2              \t|  8.6e-06        \t|  5.8634e-05     \t|\n",
      "|  [Callback]ModelCheckpoint{'monitor': 'validation/loss', 'mode': 'min', 'every_n_train_steps': 0, 'every_n_epochs': 1, 'train_time_interval': None, 'save_on_train_epoch_end': True}.on_configure_sharded_model         \t|  4.2e-06        \t|  2              \t|  8.4e-06        \t|  5.727e-05      \t|\n",
      "|  [Callback]ModelCheckpoint{'monitor': 'validation/loss', 'mode': 'min', 'every_n_train_steps': 0, 'every_n_epochs': 1, 'train_time_interval': None, 'save_on_train_epoch_end': True}.on_test_start                      \t|  8.4e-06        \t|  1              \t|  8.4e-06        \t|  5.727e-05      \t|\n",
      "|  [Callback]TQDMProgressBar.teardown                                                                                                                                                                                     \t|  4.15e-06       \t|  2              \t|  8.3e-06        \t|  5.6588e-05     \t|\n",
      "|  [LightningModule]BaseLitModel.on_validation_epoch_end                                                                                                                                                                  \t|  4.15e-06       \t|  2              \t|  8.3e-06        \t|  5.6588e-05     \t|\n",
      "|  [LightningModule]BaseLitModel.validation_epoch_end                                                                                                                                                                     \t|  4.1e-06        \t|  2              \t|  8.2e-06        \t|  5.5907e-05     \t|\n",
      "|  [Callback]ModelCheckpoint{'monitor': 'validation/loss', 'mode': 'min', 'every_n_train_steps': 0, 'every_n_epochs': 1, 'train_time_interval': None, 'save_on_train_epoch_end': True}.teardown                           \t|  4.1e-06        \t|  2              \t|  8.2e-06        \t|  5.5907e-05     \t|\n",
      "|  [Callback]ModelSummary.on_pretrain_routine_start                                                                                                                                                                       \t|  8.1e-06        \t|  1              \t|  8.1e-06        \t|  5.5225e-05     \t|\n",
      "|  [Callback]GradientAccumulationScheduler.setup                                                                                                                                                                          \t|  4.05e-06       \t|  2              \t|  8.1e-06        \t|  5.5225e-05     \t|\n",
      "|  [Callback]GradientAccumulationScheduler.teardown                                                                                                                                                                       \t|  3.95e-06       \t|  2              \t|  7.9e-06        \t|  5.3861e-05     \t|\n",
      "|  [Callback]TQDMProgressBar.on_before_accelerator_backend_setup                                                                                                                                                          \t|  3.95e-06       \t|  2              \t|  7.9e-06        \t|  5.3861e-05     \t|\n",
      "|  [Callback]ModelSummary.on_fit_end                                                                                                                                                                                      \t|  7.9e-06        \t|  1              \t|  7.9e-06        \t|  5.3861e-05     \t|\n",
      "|  [Callback]ModelSummary.on_test_epoch_start                                                                                                                                                                             \t|  7.9e-06        \t|  1              \t|  7.9e-06        \t|  5.3861e-05     \t|\n",
      "|  [Callback]ModelCheckpoint{'monitor': 'validation/loss', 'mode': 'min', 'every_n_train_steps': 0, 'every_n_epochs': 1, 'train_time_interval': None, 'save_on_train_epoch_end': True}.on_validation_epoch_start          \t|  3.9e-06        \t|  2              \t|  7.8e-06        \t|  5.3179e-05     \t|\n",
      "|  [Callback]GradientAccumulationScheduler.on_validation_epoch_end                                                                                                                                                        \t|  3.9e-06        \t|  2              \t|  7.8e-06        \t|  5.3179e-05     \t|\n",
      "|  [Callback]TQDMProgressBar.on_configure_sharded_model                                                                                                                                                                   \t|  3.9e-06        \t|  2              \t|  7.8e-06        \t|  5.3179e-05     \t|\n",
      "|  [LightningModule]BaseLitModel.on_epoch_end                                                                                                                                                                             \t|  1.875e-06      \t|  4              \t|  7.5e-06        \t|  5.1134e-05     \t|\n",
      "|  [LightningModule]BaseLitModel.setup                                                                                                                                                                                    \t|  3.7e-06        \t|  2              \t|  7.4e-06        \t|  5.0452e-05     \t|\n",
      "|  [Callback]ModelSummary.on_sanity_check_end                                                                                                                                                                             \t|  7.3e-06        \t|  1              \t|  7.3e-06        \t|  4.9771e-05     \t|\n",
      "|  [Callback]GradientAccumulationScheduler.on_before_accelerator_backend_setup                                                                                                                                            \t|  3.6e-06        \t|  2              \t|  7.2e-06        \t|  4.9089e-05     \t|\n",
      "|  [Callback]GradientAccumulationScheduler.on_configure_sharded_model                                                                                                                                                     \t|  3.6e-06        \t|  2              \t|  7.2e-06        \t|  4.9089e-05     \t|\n",
      "|  [Callback]TQDMProgressBar.on_validation_epoch_start                                                                                                                                                                    \t|  3.5e-06        \t|  2              \t|  7e-06          \t|  4.7725e-05     \t|\n",
      "|  [Callback]GradientAccumulationScheduler.on_validation_epoch_start                                                                                                                                                      \t|  3.5e-06        \t|  2              \t|  7e-06          \t|  4.7725e-05     \t|\n",
      "|  [Callback]ModelSummary.on_train_start                                                                                                                                                                                  \t|  7e-06          \t|  1              \t|  7e-06          \t|  4.7725e-05     \t|\n",
      "|  [Callback]ModelSummary.on_test_start                                                                                                                                                                                   \t|  7e-06          \t|  1              \t|  7e-06          \t|  4.7725e-05     \t|\n",
      "|  [Callback]ModelSummary.on_sanity_check_start                                                                                                                                                                           \t|  6.6e-06        \t|  1              \t|  6.6e-06        \t|  4.4998e-05     \t|\n",
      "|  [Callback]ModelCheckpoint{'monitor': 'validation/loss', 'mode': 'min', 'every_n_train_steps': 0, 'every_n_epochs': 1, 'train_time_interval': None, 'save_on_train_epoch_end': True}.on_train_start                     \t|  6.6e-06        \t|  1              \t|  6.6e-06        \t|  4.4998e-05     \t|\n",
      "|  [Callback]ModelSummary.on_train_epoch_end                                                                                                                                                                              \t|  6.4e-06        \t|  1              \t|  6.4e-06        \t|  4.3634e-05     \t|\n",
      "|  [Callback]ModelCheckpoint{'monitor': 'validation/loss', 'mode': 'min', 'every_n_train_steps': 0, 'every_n_epochs': 1, 'train_time_interval': None, 'save_on_train_epoch_end': True}.on_sanity_check_start              \t|  6.3e-06        \t|  1              \t|  6.3e-06        \t|  4.2953e-05     \t|\n",
      "|  [Callback]ModelCheckpoint{'monitor': 'validation/loss', 'mode': 'min', 'every_n_train_steps': 0, 'every_n_epochs': 1, 'train_time_interval': None, 'save_on_train_epoch_end': True}.on_train_epoch_start               \t|  5.8e-06        \t|  1              \t|  5.8e-06        \t|  3.9544e-05     \t|\n",
      "|  [LightningModule]BaseLitModel.on_validation_end                                                                                                                                                                        \t|  2.8e-06        \t|  2              \t|  5.6e-06        \t|  3.818e-05      \t|\n",
      "|  [Callback]ModelCheckpoint{'monitor': 'validation/loss', 'mode': 'min', 'every_n_train_steps': 0, 'every_n_epochs': 1, 'train_time_interval': None, 'save_on_train_epoch_end': True}.on_fit_start                       \t|  5.4e-06        \t|  1              \t|  5.4e-06        \t|  3.6817e-05     \t|\n",
      "|  [Callback]ModelCheckpoint{'monitor': 'validation/loss', 'mode': 'min', 'every_n_train_steps': 0, 'every_n_epochs': 1, 'train_time_interval': None, 'save_on_train_epoch_end': True}.on_test_epoch_end                  \t|  5.2e-06        \t|  1              \t|  5.2e-06        \t|  3.5453e-05     \t|\n",
      "|  [Callback]ModelCheckpoint{'monitor': 'validation/loss', 'mode': 'min', 'every_n_train_steps': 0, 'every_n_epochs': 1, 'train_time_interval': None, 'save_on_train_epoch_end': None}.on_before_accelerator_backend_setup\t|  5.1e-06        \t|  1              \t|  5.1e-06        \t|  3.4771e-05     \t|\n",
      "|  [Callback]GradientAccumulationScheduler.on_fit_start                                                                                                                                                                   \t|  5e-06          \t|  1              \t|  5e-06          \t|  3.4089e-05     \t|\n",
      "|  [Callback]ModelCheckpoint{'monitor': 'validation/loss', 'mode': 'min', 'every_n_train_steps': 0, 'every_n_epochs': 1, 'train_time_interval': None, 'save_on_train_epoch_end': True}.on_pretrain_routine_start          \t|  4.9e-06        \t|  1              \t|  4.9e-06        \t|  3.3408e-05     \t|\n",
      "|  [Callback]TQDMProgressBar.on_save_checkpoint                                                                                                                                                                           \t|  4.9e-06        \t|  1              \t|  4.9e-06        \t|  3.3408e-05     \t|\n",
      "|  [Callback]ModelCheckpoint{'monitor': 'validation/loss', 'mode': 'min', 'every_n_train_steps': 0, 'every_n_epochs': 1, 'train_time_interval': None, 'save_on_train_epoch_end': True}.on_train_end                       \t|  4.9e-06        \t|  1              \t|  4.9e-06        \t|  3.3408e-05     \t|\n",
      "|  [Callback]TQDMProgressBar.on_fit_end                                                                                                                                                                                   \t|  4.9e-06        \t|  1              \t|  4.9e-06        \t|  3.3408e-05     \t|\n",
      "|  [LightningModule]BaseLitModel.on_validation_epoch_start                                                                                                                                                                \t|  2.3e-06        \t|  2              \t|  4.6e-06        \t|  3.1362e-05     \t|\n",
      "|  [Callback]TQDMProgressBar.on_pretrain_routine_start                                                                                                                                                                    \t|  4.5e-06        \t|  1              \t|  4.5e-06        \t|  3.068e-05      \t|\n",
      "|  [Callback]ModelCheckpoint{'monitor': 'validation/loss', 'mode': 'min', 'every_n_train_steps': 0, 'every_n_epochs': 1, 'train_time_interval': None, 'save_on_train_epoch_end': True}.on_fit_end                         \t|  4.5e-06        \t|  1              \t|  4.5e-06        \t|  3.068e-05      \t|\n",
      "|  [Callback]ModelSummary.on_train_epoch_start                                                                                                                                                                            \t|  4.4e-06        \t|  1              \t|  4.4e-06        \t|  2.9999e-05     \t|\n",
      "|  [Callback]ModelSummary.on_pretrain_routine_end                                                                                                                                                                         \t|  4.3e-06        \t|  1              \t|  4.3e-06        \t|  2.9317e-05     \t|\n",
      "|  [Callback]ModelCheckpoint{'monitor': 'validation/loss', 'mode': 'min', 'every_n_train_steps': 0, 'every_n_epochs': 1, 'train_time_interval': None, 'save_on_train_epoch_end': True}.on_sanity_check_end                \t|  4.3e-06        \t|  1              \t|  4.3e-06        \t|  2.9317e-05     \t|\n",
      "|  [LightningModule]BaseLitModel.test_epoch_end                                                                                                                                                                           \t|  4.3e-06        \t|  1              \t|  4.3e-06        \t|  2.9317e-05     \t|\n",
      "|  [Callback]TQDMProgressBar.on_test_epoch_end                                                                                                                                                                            \t|  4.3e-06        \t|  1              \t|  4.3e-06        \t|  2.9317e-05     \t|\n",
      "|  [Callback]ModelCheckpoint{'monitor': 'validation/loss', 'mode': 'min', 'every_n_train_steps': 0, 'every_n_epochs': 1, 'train_time_interval': None, 'save_on_train_epoch_end': True}.on_pretrain_routine_end            \t|  4.2e-06        \t|  1              \t|  4.2e-06        \t|  2.8635e-05     \t|\n",
      "|  [Callback]GradientAccumulationScheduler.on_sanity_check_end                                                                                                                                                            \t|  4.2e-06        \t|  1              \t|  4.2e-06        \t|  2.8635e-05     \t|\n",
      "|  [Callback]ModelCheckpoint{'monitor': 'validation/loss', 'mode': 'min', 'every_n_train_steps': 0, 'every_n_epochs': 1, 'train_time_interval': None, 'save_on_train_epoch_end': True}.on_save_checkpoint                 \t|  4.2e-06        \t|  1              \t|  4.2e-06        \t|  2.8635e-05     \t|\n",
      "|  [Strategy]SingleDeviceStrategy.on_validation_start                                                                                                                                                                     \t|  2.1e-06        \t|  2              \t|  4.2e-06        \t|  2.8635e-05     \t|\n",
      "|  [LightningModule]BaseLitModel.on_train_dataloader                                                                                                                                                                      \t|  4.1e-06        \t|  1              \t|  4.1e-06        \t|  2.7953e-05     \t|\n",
      "|  [Callback]ModelCheckpoint{'monitor': 'validation/loss', 'mode': 'min', 'every_n_train_steps': 0, 'every_n_epochs': 1, 'train_time_interval': None, 'save_on_train_epoch_end': True}.on_before_accelerator_backend_setup\t|  4e-06          \t|  1              \t|  4e-06          \t|  2.7272e-05     \t|\n",
      "|  [Callback]GradientAccumulationScheduler.on_fit_end                                                                                                                                                                     \t|  3.9e-06        \t|  1              \t|  3.9e-06        \t|  2.659e-05      \t|\n",
      "|  [LightningModule]BaseLitModel.on_test_dataloader                                                                                                                                                                       \t|  3.9e-06        \t|  1              \t|  3.9e-06        \t|  2.659e-05      \t|\n",
      "|  [Callback]TQDMProgressBar.on_test_epoch_start                                                                                                                                                                          \t|  3.9e-06        \t|  1              \t|  3.9e-06        \t|  2.659e-05      \t|\n",
      "|  [Callback]ModelCheckpoint{'monitor': 'validation/loss', 'mode': 'min', 'every_n_train_steps': 0, 'every_n_epochs': 1, 'train_time_interval': None, 'save_on_train_epoch_end': True}.on_test_epoch_start                \t|  3.8e-06        \t|  1              \t|  3.8e-06        \t|  2.5908e-05     \t|\n",
      "|  [Callback]GradientAccumulationScheduler.on_pretrain_routine_start                                                                                                                                                      \t|  3.7e-06        \t|  1              \t|  3.7e-06        \t|  2.5226e-05     \t|\n",
      "|  [Callback]TQDMProgressBar.on_pretrain_routine_end                                                                                                                                                                      \t|  3.7e-06        \t|  1              \t|  3.7e-06        \t|  2.5226e-05     \t|\n",
      "|  [Callback]GradientAccumulationScheduler.on_save_checkpoint                                                                                                                                                             \t|  3.7e-06        \t|  1              \t|  3.7e-06        \t|  2.5226e-05     \t|\n",
      "|  [Callback]GradientAccumulationScheduler.on_pretrain_routine_end                                                                                                                                                        \t|  3.6e-06        \t|  1              \t|  3.6e-06        \t|  2.4544e-05     \t|\n",
      "|  [LightningModule]BaseLitModel.teardown                                                                                                                                                                                 \t|  1.8e-06        \t|  2              \t|  3.6e-06        \t|  2.4544e-05     \t|\n",
      "|  [LightningModule]BaseLitModel.on_test_epoch_start                                                                                                                                                                      \t|  3.6e-06        \t|  1              \t|  3.6e-06        \t|  2.4544e-05     \t|\n",
      "|  [LightningModule]BaseLitModel.on_val_dataloader                                                                                                                                                                        \t|  3.4e-06        \t|  1              \t|  3.4e-06        \t|  2.3181e-05     \t|\n",
      "|  [Callback]GradientAccumulationScheduler.on_test_epoch_start                                                                                                                                                            \t|  3.4e-06        \t|  1              \t|  3.4e-06        \t|  2.3181e-05     \t|\n",
      "|  [LightningModule]BaseLitModel.on_train_epoch_end                                                                                                                                                                       \t|  3.3e-06        \t|  1              \t|  3.3e-06        \t|  2.2499e-05     \t|\n",
      "|  [LightningModule]BaseLitModel.on_test_epoch_end                                                                                                                                                                        \t|  3.1e-06        \t|  1              \t|  3.1e-06        \t|  2.1135e-05     \t|\n",
      "|  [LightningModule]BaseLitModel.on_fit_start                                                                                                                                                                             \t|  3e-06          \t|  1              \t|  3e-06          \t|  2.0454e-05     \t|\n",
      "|  [LightningModule]BaseLitModel.on_test_start                                                                                                                                                                            \t|  3e-06          \t|  1              \t|  3e-06          \t|  2.0454e-05     \t|\n",
      "|  [LightningModule]BaseLitModel.on_save_checkpoint                                                                                                                                                                       \t|  2.6e-06        \t|  1              \t|  2.6e-06        \t|  1.7726e-05     \t|\n",
      "|  [LightningModule]BaseLitModel.on_fit_end                                                                                                                                                                               \t|  2.6e-06        \t|  1              \t|  2.6e-06        \t|  1.7726e-05     \t|\n",
      "|  [LightningModule]BaseLitModel.on_test_end                                                                                                                                                                              \t|  2.4e-06        \t|  1              \t|  2.4e-06        \t|  1.6363e-05     \t|\n",
      "|  [LightningModule]BaseLitModel.on_train_epoch_start                                                                                                                                                                     \t|  2.3e-06        \t|  1              \t|  2.3e-06        \t|  1.5681e-05     \t|\n",
      "|  [LightningModule]BaseLitModel.on_pretrain_routine_start                                                                                                                                                                \t|  2.2e-06        \t|  1              \t|  2.2e-06        \t|  1.4999e-05     \t|\n",
      "|  [Strategy]SingleDeviceStrategy.on_train_end                                                                                                                                                                            \t|  2e-06          \t|  1              \t|  2e-06          \t|  1.3636e-05     \t|\n",
      "|  [Strategy]SingleDeviceStrategy.on_test_start                                                                                                                                                                           \t|  2e-06          \t|  1              \t|  2e-06          \t|  1.3636e-05     \t|\n",
      "|  [LightningModule]BaseLitModel.on_pretrain_routine_end                                                                                                                                                                  \t|  1.9e-06        \t|  1              \t|  1.9e-06        \t|  1.2954e-05     \t|\n",
      "----------------------------------------------------------------------------------------------------------------------------------------------------------------------------------------------------------------------------------------------------------------------------------------------------------------------------------\n",
      "\n"
     ]
    },
    {
     "name": "stderr",
     "output_type": "stream",
     "text": [
      "Best model saved at: /home/terps/.git/fsdl-text-recognizer-2022-labs/lab02/training/logs/lightning_logs/version_6/epoch=0000-validation.loss=0.151.ckpt\n"
     ]
    },
    {
     "name": "stdout",
     "output_type": "stream",
     "text": [
      "────────────────────────────────────────────────────────────────────────────────────────────────────────────────────────\n",
      "       Test metric             DataLoader 0\n",
      "────────────────────────────────────────────────────────────────────────────────────────────────────────────────────────\n",
      "        test/acc            0.9584000110626221\n",
      "        test/loss           0.13162358105182648\n",
      "────────────────────────────────────────────────────────────────────────────────────────────────────────────────────────\n"
     ]
    }
   ],
   "source": [
    "%run training/run_experiment.py --profiler simple"
   ]
  },
  {
   "cell_type": "code",
   "execution_count": null,
   "metadata": {},
   "outputs": [],
   "source": []
  }
 ],
 "metadata": {
  "accelerator": "GPU",
  "colab": {
   "collapsed_sections": [],
   "name": "lab02b_cnn.ipynb",
   "private_outputs": true,
   "provenance": [],
   "toc_visible": true
  },
  "gpuClass": "standard",
  "kernelspec": {
   "display_name": "fsdl",
   "language": "python",
   "name": "fsdl"
  },
  "language_info": {
   "codemirror_mode": {
    "name": "ipython",
    "version": 3
   },
   "file_extension": ".py",
   "mimetype": "text/x-python",
   "name": "python",
   "nbconvert_exporter": "python",
   "pygments_lexer": "ipython3",
   "version": "3.7.12"
  },
  "varInspector": {
   "cols": {
    "lenName": 16,
    "lenType": 16,
    "lenVar": 40
   },
   "kernels_config": {
    "python": {
     "delete_cmd_postfix": "",
     "delete_cmd_prefix": "del ",
     "library": "var_list.py",
     "varRefreshCmd": "print(var_dic_list())"
    },
    "r": {
     "delete_cmd_postfix": ") ",
     "delete_cmd_prefix": "rm(",
     "library": "var_list.r",
     "varRefreshCmd": "cat(var_dic_list()) "
    }
   },
   "types_to_exclude": [
    "module",
    "function",
    "builtin_function_or_method",
    "instance",
    "_Feature"
   ],
   "window_display": false
  },
  "vscode": {
   "interpreter": {
    "hash": "0f056848cf5d2396a4970b625f23716aa539c2ff5334414c1b5d98d7daae66f6"
   }
  }
 },
 "nbformat": 4,
 "nbformat_minor": 1
}
